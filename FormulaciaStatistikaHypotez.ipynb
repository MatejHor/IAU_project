{
 "cells": [
  {
   "cell_type": "code",
   "execution_count": 1,
   "outputs": [
    {
     "data": {
      "text/plain": "Empty DataFrame\nColumns: [Unnamed: 0, name, address, race, marital-status, occupation, pregnant, education-num, relationship, capital-gain, education, fnlwgt, class, income, native-country, hours-per-week, capital-loss, workclass, mean_glucose, std_glucose, kurtosis_glucose, skewness_glucose, mean_oxygen, std_oxygen, kurtosis_oxygen, skewness_oxygen]\nIndex: []\n\n[0 rows x 26 columns]",
      "text/html": "<div>\n<style scoped>\n    .dataframe tbody tr th:only-of-type {\n        vertical-align: middle;\n    }\n\n    .dataframe tbody tr th {\n        vertical-align: top;\n    }\n\n    .dataframe thead th {\n        text-align: right;\n    }\n</style>\n<table border=\"1\" class=\"dataframe\">\n  <thead>\n    <tr style=\"text-align: right;\">\n      <th></th>\n      <th>Unnamed: 0</th>\n      <th>name</th>\n      <th>address</th>\n      <th>race</th>\n      <th>marital-status</th>\n      <th>occupation</th>\n      <th>pregnant</th>\n      <th>education-num</th>\n      <th>relationship</th>\n      <th>capital-gain</th>\n      <th>...</th>\n      <th>capital-loss</th>\n      <th>workclass</th>\n      <th>mean_glucose</th>\n      <th>std_glucose</th>\n      <th>kurtosis_glucose</th>\n      <th>skewness_glucose</th>\n      <th>mean_oxygen</th>\n      <th>std_oxygen</th>\n      <th>kurtosis_oxygen</th>\n      <th>skewness_oxygen</th>\n    </tr>\n  </thead>\n  <tbody>\n  </tbody>\n</table>\n<p>0 rows × 26 columns</p>\n</div>"
     },
     "metadata": {},
     "output_type": "execute_result",
     "execution_count": 1
    }
   ],
   "source": [
    "import pandas as pd\n",
    "import matplotlib.pyplot as plt\n",
    "import seaborn as sns\n",
    "\n",
    "data = pd.read_csv('./data/modify_other_train.csv')\n",
    "data.head(0)"
   ],
   "metadata": {
    "collapsed": false,
    "pycharm": {
     "name": "#%%\n",
     "is_executing": false
    }
   }
  },
  {
   "cell_type": "markdown",
   "metadata": {
    "collapsed": true,
    "pycharm": {
     "name": "#%% md\n"
    }
   },
   "source": [
    "Hypoteza c.1\n",
    "Pacient s diabetes mellitus maju v priemere vyssiu hodnotu spicatosti glukozy v krvi ako pacienti, ktory nemaju tuto chorobu. "
   ]
  },
  {
   "cell_type": "code",
   "execution_count": 26,
   "outputs": [
    {
     "data": {
      "text/plain": "<matplotlib.collections.PathCollection at 0x7f5d06271b50>"
     },
     "metadata": {},
     "output_type": "execute_result",
     "execution_count": 26
    },
    {
     "data": {
      "text/plain": "<Figure size 432x288 with 1 Axes>",
      "image/png": "[encoded data removed]"
     },
     "metadata": {
      "needs_background": "light"
     },
     "output_type": "display_data"
    }
   ],
   "source": [
    "class_atr = data['class']\n",
    "krutosisglucose_atr = data['kurtosis_glucose'] \n",
    "\n",
    "plt.scatter(krutosisglucose_atr, class_atr)"
   ],
   "metadata": {
    "collapsed": false,
    "pycharm": {
     "name": "#%%\n",
     "is_executing": false
    }
   }
  },
  {
   "cell_type": "code",
   "execution_count": 24,
   "outputs": [],
   "source": [
    "# sns.pairplot(data,hue='class')\n",
    "# data.corr()"
   ],
   "metadata": {
    "collapsed": false,
    "pycharm": {
     "name": "#%%\n",
     "is_executing": false
    }
   }
  },
  {
   "cell_type": "code",
   "execution_count": 5,
   "outputs": [
    {
     "name": "stdout",
     "text": [
      "Priemerna spicatost glukozy v krvi u pacientov, \nktory maju diabetes je 3.108089\nPriemerna spicatost glukozy v krvi u pacientov, \nktory nemaju diabetes je 0.205841\n"
     ],
     "output_type": "stream"
    }
   ],
   "source": [
    "print(\"Priemerna spicatost glukozy v krvi u pacientov, \\nktory maju diabetes je %f\"% (data[data['class'] == 1]).kurtosis_glucose.mean())\n",
    "\n",
    "print(\"Priemerna spicatost glukozy v krvi u pacientov, \\nktory nemaju diabetes je %f\"% (data[data['class'] == 0]).kurtosis_glucose.mean())"
   ],
   "metadata": {
    "collapsed": false,
    "pycharm": {
     "name": "#%%\n",
     "is_executing": false
    }
   }
  },
  {
   "cell_type": "code",
   "execution_count": 23,
   "outputs": [
    {
     "name": "stdout",
     "text": [
      "Pearson correlation: 0.787\n"
     ],
     "output_type": "stream"
    },
    {
     "data": {
      "text/plain": "<Figure size 432x288 with 1 Axes>",
      "image/png": "[encoded data removed]"
     },
     "metadata": {
      "needs_background": "light"
     },
     "output_type": "display_data"
    }
   ],
   "source": [
    "sns.regplot(x=\"class\", y=\"kurtosis_glucose\", data=data)\n",
    "print(\"Pearson correlation: %.3f\" % data['class'].corr(data.kurtosis_glucose))"
   ],
   "metadata": {
    "collapsed": false,
    "pycharm": {
     "name": "#%%\n",
     "is_executing": false
    }
   }
  },
  {
   "cell_type": "markdown",
   "source": [
    "Vdaka regplotu vidime ze vsetky hodnoty spicatosti glukozy v krvi namerane u pacientov ktore nemali diabetez boli v priemere nizsie ako u tych pacientov ktory tuto chorobo maju, tento fakt nam dokazal aj scatter graf "
   ],
   "metadata": {
    "collapsed": false,
    "pycharm": {
     "name": "#%% md\n"
    }
   }
  },
  {
   "cell_type": "markdown",
   "source": [
    "(Mozes dat nieco s kyslikom napr mean alebo std\n"
   ],
   "metadata": {
    "collapsed": false,
    "pycharm": {
     "name": "#%% md\n"
    }
   }
  }
 ],
 "metadata": {
  "kernelspec": {
   "display_name": "Python 3",
   "language": "python",
   "name": "python3"
  },
  "language_info": {
   "codemirror_mode": {
    "name": "ipython",
    "version": 2
   },
   "file_extension": ".py",
   "mimetype": "text/x-python",
   "name": "python",
   "nbconvert_exporter": "python",
   "pygments_lexer": "ipython2",
   "version": "2.7.6"
  },
  "pycharm": {
   "stem_cell": {
    "cell_type": "raw",
    "source": [],
    "metadata": {
     "collapsed": false
    }
   }
  }
 },
 "nbformat": 4,
 "nbformat_minor": 0
}