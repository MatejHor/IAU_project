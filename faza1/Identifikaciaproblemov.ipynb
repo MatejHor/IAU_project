{
 "cells": [
  {
   "cell_type": "code",
   "execution_count": 35,
   "outputs": [],
   "source": [
    "import pandas as pd\n",
    "import numpy as np\n",
    "import matplotlib.pyplot as plt\n",
    "import seaborn as sns\n",
    "import itertools\n",
    "\n",
    "# Fukncia kt pokial nema dane cislo v poli prida\n",
    "def differentFormats(array_of_current, len_of_format):\n",
    "    for current_format in array_of_current:\n",
    "        if current_format == len_of_format:\n",
    "            return\n",
    "    array_of_current.append(len_of_format)\n",
    "    return"
   ],
   "metadata": {
    "collapsed": false,
    "pycharm": {
     "name": "#%%\n",
     "is_executing": false
    }
   }
  },
  {
   "cell_type": "code",
   "execution_count": 4,
   "outputs": [],
   "source": [
    "other_data = pd.read_csv(\"data/modify_other_train.csv\",index_col=0)\n",
    "person_data = pd.read_csv(\"data/personal_train.csv\",index_col=0)"
   ],
   "metadata": {
    "collapsed": false,
    "pycharm": {
     "name": "#%%\n",
     "is_executing": false
    }
   }
  },
  {
   "cell_type": "markdown",
   "metadata": {
    "collapsed": true,
    "pycharm": {
     "name": "#%% md\n"
    }
   },
   "source": [
    "# Zadanie\n",
    "Nevhodná štruktúra dát (dáta nie sú v tabuľkovej podobe alebo jedna entita je opísaná viacerými riadkami tabuľky)  \n",
    "Duplicitné záznamy, resp. nejednoznačné mapovanie medzi záznamami  \n",
    "Nejednotné formáty dát  \n",
    "Chýbajúce hodnoty  \n",
    "Vychýlené (odľahlé) hodnoty  a ďalšie, t. j. v dátach sa môžu nachádzať aj iné, tu nevymenované problémy, ktoré tiež treba identifikovať a vo vašej analýze adresovať.  "
   ]
  },
  {
   "cell_type": "markdown",
   "source": [
    "## Subor personal.csv\n",
    "\n",
    "    - tento subor obsahuje rozne chyby ako nejednotne formaty datum narodenia, alebo neobsahuje vek\n",
    "    - oba tieto problemy sa daju riesit. Pri datum si vyberieme nejaky format a nasledne vsetky don prevedieme \n",
    "        tie, ktore sa nebudu dat budeme musiet rucne alebo ich zvolime ako nezname\n",
    "    - pokial budeme opravovat formaty datum vieme automaticky opravovat aj vek ci uz len kontrolovat alebo aj doplnat"
   ],
   "metadata": {
    "collapsed": false,
    "pycharm": {
     "name": "#%% md\n"
    }
   }
  },
  {
   "cell_type": "code",
   "execution_count": 17,
   "outputs": [
    {
     "data": {
      "text/plain": "10"
     },
     "metadata": {},
     "output_type": "execute_result",
     "execution_count": 17
    },
    {
     "data": {
      "text/plain": "<Figure size 432x288 with 1 Axes>",
      "image/png": "[encoded data removed]"
     },
     "metadata": {
      "needs_background": "light"
     },
     "output_type": "display_data"
    },
    {
     "data": {
      "text/plain": "<Figure size 432x288 with 1 Axes>",
      "image/png": "[encoded data removed]"
     },
     "metadata": {
      "needs_background": "light"
     },
     "output_type": "display_data"
    }
   ],
   "source": [
    "# age\n",
    "# Vidime ze hodnoty mensie ako 0 a vacse ako 150 (pretoze ziaden clovek nezije viac ako 150 rokov)\n",
    "# samotna nemaju zmysel kedze hovorime o veku\n",
    "person_data.hist('age')\n",
    "\n",
    "(person_data.loc[person_data['age'] > 0].loc[person_data['age'] < 150]).hist('age')\n",
    "# Tieto hodnoty (pod 0 a nad 150) bude treba upravit"
   ],
   "metadata": {
    "collapsed": false,
    "pycharm": {
     "name": "#%%\n",
     "is_executing": false
    }
   }
  },
  {
   "cell_type": "code",
   "execution_count": 36,
   "outputs": [
    {
     "name": "stdout",
     "text": [
      "Different format size in data  3\nCount of null data count(0)\n"
     ],
     "output_type": "stream"
    }
   ],
   "source": [
    "# date_of_birth\n",
    "# pri datume narodeni vidime ze hodnoty nechybaju ale maju nekonzistentny format\n",
    "person_data['date_of_birth'].value_counts()\n",
    "\n",
    "counter_of_different_format = []\n",
    "null_data = itertools.count(0)\n",
    "person_data.date_of_birth.apply(lambda x: differentFormats(counter_of_different_format,len(x.__str__())) if len(x.__str__()) > 1 else null_data.__next__())\n",
    "print(\"Different format size in data \",len(counter_of_different_format))\n",
    "print(\"Countof null data\",null_data)"
   ],
   "metadata": {
    "collapsed": false,
    "pycharm": {
     "name": "#%%\n",
     "is_executing": false
    }
   }
  },
  {
   "cell_type": "markdown",
   "source": [
    "## Subor other.csv\n",
    "   - obsahuje nekonzistentny format ci je pacient tehotny teda toto zmenime na \"False\" \"True\" podla hodnoty      \n",
    "   - occupation, country, workclass ako nezname nebudeme menit (?)\n",
    "   - pricom workclass pokial nebude nic obsahovat tak vlozime \"?\"\n",
    "   - co sa tyka stlpca medical_info pokial tento stlpec nebude nic obsahovat vlozime donho json s nulovymi hodnotami\n",
    "   - udaje ktore su v medical_info budeme parsovat z JSONU na dict ten nasledne pozbierame a vytvorime z neho DataFrame,\n",
    "        ktory nasledne vlozime do povodnych dat a ulozime. Pred tym ale budeme musiet jednotlive hodnoty parsnut na float numpy\n",
    "   - tento bod sme uz museli vykonvat aby sa nam lahsie spracovala prva uloha a dalej vedeli pouzivat data a postupovat v zadani\n",
    "   - spajat udaje s personal.csv budeme pomocou mena a priezviska kedze nevieme ci id su v rovnakych poradiach\n",
    "   - vychylene hodnoty po identifikovani vyhodime z datasetu no len v danej ulohe, hlavne tam kde to bude potrebne, pre istotu ze ine vysledky budu spravne\n",
    "   - pokial pacient nema rasu tam vlozime other alebo ? ako unknown nech nam to neznehodnoti statistiky\n",
    "    "
   ],
   "metadata": {
    "collapsed": false,
    "pycharm": {
     "name": "#%% md\n"
    }
   }
  },
  {
   "cell_type": "code",
   "execution_count": 49,
   "outputs": [
    {
     "name": "stdout",
     "text": [
      "f        3494\nF         202\nFALSE     182\nt          72\nTRUE        6\nT           5\nName: pregnant, dtype: int64\n"
     ],
     "output_type": "stream"
    }
   ],
   "source": [
    "# pregnant\n",
    "# vidime ze su rozne hodnoty pravdy a nepravdy\n",
    "print(other_data.pregnant.value_counts())"
   ],
   "metadata": {
    "collapsed": false,
    "pycharm": {
     "name": "#%%\n",
     "is_executing": false
    }
   }
  },
  {
   "cell_type": "code",
   "execution_count": 55,
   "outputs": [
    {
     "name": "stdout",
     "text": [
      " Married-civ-spouse       1830\n Never-married            1310\n Divorced                  511\n Widowed                   138\n Separated                 132\n Married-spouse-absent      44\nName: marital-status, dtype: int64\n"
     ],
     "output_type": "stream"
    }
   ],
   "source": [
    "\n",
    "# marital-status\n",
    "# vidime ze hodnoty marital-status su v poriadku\n",
    "print(other_data['marital-status'].value_counts())\n"
   ],
   "metadata": {
    "collapsed": false,
    "pycharm": {
     "name": "#%%\n",
     "is_executing": false
    }
   }
  },
  {
   "cell_type": "code",
   "execution_count": 53,
   "outputs": [
    {
     "name": "stdout",
     "text": [
      "Occupation count(252) of null values\nNative-country count(78) of null values\nWorkclass count(617) of null values\nRace count(13) of null values\n"
     ],
     "output_type": "stream"
    }
   ],
   "source": [
    "# occupation\n",
    "# pocet prazdnych hodnot\n",
    "counter = itertools.count(0)\n",
    "other_data.occupation.apply(lambda x: counter if isinstance(x, str) and x.find(\"?\") == -1 else counter.__next__())\n",
    "print(\"Occupation\" ,counter, \"of null values\")\n",
    "\n",
    "# native-country\n",
    "# pocet prazdnych hodnot\n",
    "counter = itertools.count(0)\n",
    "other_data['native-country'].apply(lambda x: counter if isinstance(x, str) and x.find(\"?\") == -1 else counter.__next__())\n",
    "print(\"Native-country\",counter, \"of null values\")\n",
    "\n",
    "# workclass\n",
    "# pocet prazdnych hodnot\n",
    "counter = itertools.count(0)\n",
    "other_data.workclass.apply(lambda x: counter if isinstance(x, str) and x.find(\"?\") == -1 else counter.__next__())\n",
    "print(\"Workclass\", counter, \"of null values\")\n",
    "\n",
    "# rase\n",
    "# pocet prazdnych hodnot\n",
    "counter = itertools.count(0)\n",
    "other_data.race.apply(lambda x: counter if isinstance(x, str) and x.find(\"?\") == -1 else counter.__next__())\n",
    "print(\"Race\", counter, \"of null values\")"
   ],
   "metadata": {
    "collapsed": false,
    "pycharm": {
     "name": "#%%\n",
     "is_executing": false
    }
   }
  },
  {
   "cell_type": "code",
   "execution_count": 54,
   "outputs": [
    {
     "name": "stdout",
     "text": [
      "17\n"
     ],
     "output_type": "stream"
    }
   ],
   "source": [
    "# Pacienti u ktorych nie je definovane ci chorobu maju alebo nie \n",
    "print(len(other_data.loc[other_data['class'] != 1].loc[other_data['class'] != 0]))"
   ],
   "metadata": {
    "collapsed": false,
    "pycharm": {
     "name": "#%%\n",
     "is_executing": false
    }
   }
  },
  {
   "cell_type": "code",
   "execution_count": 52,
   "outputs": [
    {
     "data": {
      "text/plain": "array([[<matplotlib.axes._subplots.AxesSubplot object at 0x7fc3187574a8>]],\n      dtype=object)"
     },
     "metadata": {},
     "output_type": "execute_result",
     "execution_count": 52
    },
    {
     "data": {
      "text/plain": "<Figure size 432x288 with 1 Axes>",
      "image/png": "[encoded data removed]"
     },
     "metadata": {
      "needs_background": "light"
     },
     "output_type": "display_data"
    }
   ],
   "source": [
    "# std_glucose\n",
    "# skoro vsetky hodnoty su okolo 30 do 70 ale vidime male hodnoty, kt su od 0 po 20 alebo od 70 do 80\n",
    "# takze mozme vidiet malych outsiderov\n",
    "other_data.hist('std_glucose')\n",
    "\n",
    "# u inych neboli skoro vobec identifikvany outsidery (vdaka hist grafov v Zakladnom opise)"
   ],
   "metadata": {
    "collapsed": false,
    "pycharm": {
     "name": "#%%\n",
     "is_executing": false
    }
   }
  }
 ],
 "metadata": {
  "kernelspec": {
   "name": "pycharm-938d843a",
   "language": "python",
   "display_name": "PyCharm (IAU)"
  },
  "language_info": {
   "codemirror_mode": {
    "name": "ipython",
    "version": 2
   },
   "file_extension": ".py",
   "mimetype": "text/x-python",
   "name": "python",
   "nbconvert_exporter": "python",
   "pygments_lexer": "ipython2",
   "version": "2.7.6"
  },
  "pycharm": {
   "stem_cell": {
    "cell_type": "raw",
    "source": [],
    "metadata": {
     "collapsed": false
    }
   }
  }
 },
 "nbformat": 4,
 "nbformat_minor": 0
}