{
 "cells": [
  {
   "cell_type": "code",
   "execution_count": 10,
   "metadata": {
    "collapsed": true,
    "pycharm": {
     "is_executing": false,
     "name": "#%%\n"
    }
   },
   "outputs": [
    {
     "data": {
      "text/plain": "3983"
     },
     "metadata": {},
     "output_type": "execute_result",
     "execution_count": 10
    }
   ],
   "source": [
    "import pandas as pd\n",
    "import numpy as np\n",
    "import matplotlib as plt\n",
    "\n",
    "data = pd.read_csv(\"./data/other_train.csv\",index_col=0)\n",
    "\n",
    "len(data)"
   ]
  },
  {
   "cell_type": "markdown",
   "source": [
    "### V subore other_train.csv sa nachadza 3983 zaznamov"
   ],
   "metadata": {
    "collapsed": false
   }
  },
  {
   "cell_type": "code",
   "execution_count": 11,
   "outputs": [
    {
     "data": {
      "text/plain": "3933"
     },
     "metadata": {},
     "output_type": "execute_result",
     "execution_count": 11
    }
   ],
   "source": [
    "person = pd.read_csv(\"./data/personal_train.csv\")\n",
    "len(person)"
   ],
   "metadata": {
    "collapsed": false,
    "pycharm": {
     "name": "#%%\n",
     "is_executing": false
    }
   }
  },
  {
   "cell_type": "markdown",
   "source": [
    "### V subore personal_train.csv sa nachadza 3933 zaznamov"
   ],
   "metadata": {
    "collapsed": false
   }
  },
  {
   "cell_type": "code",
   "execution_count": 11,
   "outputs": [],
   "source": [
    "import json\n",
    "from pandas.io.json import json_normalize\n",
    "dict_array = []\n",
    "string = '{\"mean_glucose\":0,\"std_glucose\":0,\"kurtosis_glucose\":0,\"skewness_glucose\":0,\"mean_oxygen\":0,\"std_oxygen\":0,\"kurtosis_oxygen\":0,\"skewness_oxygen\":0}'\n",
    "data.medical_info.apply(lambda x: dict_array.append(json.loads(x.replace(\"'\",\"\\\"\").replace(\":\\\"\",\":\").replace(\"\\\",\",\",\").replace(\"\\\"}\",\"}\") if isinstance(x,str) else string)))\n",
    "medical_datas = pd.DataFrame(dict_array)\n",
    "\n",
    "for item in medical_datas:\n",
    "    data[item] = medical_datas[item].astype(float)\n",
    "    \n",
    "len(data.columns)\n",
    "data"
   ],
   "metadata": {
    "collapsed": false,
    "pycharm": {
     "name": "#%% \n",
     "is_executing": false
    }
   }
  },
  {
   "cell_type": "code",
   "execution_count": null,
   "outputs": [],
   "source": [
    "data = data.drop(columns=['medical_info'])\n",
    "data.to_csv(\"modify_other_train.csv\")"
   ],
   "metadata": {
    "collapsed": false,
    "pycharm": {
     "name": "#%% # create new file with modify medical_info\n"
    }
   }
  },
  {
   "cell_type": "code",
   "execution_count": 63,
   "outputs": [
    {
     "name": "stdout",
     "text": [
      "name type return <class 'str'>\naddress type return <class 'str'>\nrace type return <class 'str'>\nmarital-status type return <class 'str'>\noccupation type return <class 'str'>\npregnant type return <class 'str'>\neducation-num type return <class 'numpy.float64'>\nrelationship type return <class 'str'>\ncapital-gain type return <class 'numpy.float64'>\neducation type return <class 'str'>\nfnlwgt type return <class 'numpy.float64'>\nclass type return <class 'numpy.float64'>\nincome type return <class 'str'>\nmedical_info type return <class 'str'>\nnative-country type return <class 'str'>\nhours-per-week type return <class 'numpy.float64'>\ncapital-loss type return <class 'numpy.float64'>\nworkclass type return <class 'str'>\nmean_glucose type return <class 'numpy.float64'>\nstd_glucose type return <class 'numpy.float64'>\nkurtosis_glucose type return <class 'numpy.float64'>\nskewness_glucose type return <class 'numpy.float64'>\nmean_oxygen type return <class 'numpy.float64'>\nstd_oxygen type return <class 'numpy.float64'>\nkurtosis_oxygen type return <class 'numpy.float64'>\nskewness_oxygen type return <class 'numpy.float64'>\n<class 'pandas.core.frame.DataFrame'>\nInt64Index: 3983 entries, 0 to 3982\nData columns (total 26 columns):\nname                3983 non-null object\naddress             3983 non-null object\nrace                3970 non-null object\nmarital-status      3965 non-null object\noccupation          3962 non-null object\npregnant            3961 non-null object\neducation-num       3962 non-null float64\nrelationship        3967 non-null object\ncapital-gain        3970 non-null float64\neducation           3967 non-null object\nfnlwgt              3966 non-null float64\nclass               3966 non-null float64\nincome              3965 non-null object\nmedical_info        3964 non-null object\nnative-country      3967 non-null object\nhours-per-week      3968 non-null float64\ncapital-loss        3969 non-null float64\nworkclass           3683 non-null object\nmean_glucose        3983 non-null float64\nstd_glucose         3983 non-null float64\nkurtosis_glucose    3983 non-null float64\nskewness_glucose    3983 non-null float64\nmean_oxygen         3983 non-null float64\nstd_oxygen          3983 non-null float64\nkurtosis_oxygen     3983 non-null float64\nskewness_oxygen     3983 non-null float64\ndtypes: float64(14), object(12)\nmemory usage: 1000.2+ KB\n"
     ],
     "output_type": "stream"
    }
   ],
   "source": [
    "for item in data:\n",
    "    print(\"{} type return {}\".format(item,type(data[item][0])))\n",
    "    \n",
    "data.info()"
   ],
   "metadata": {
    "collapsed": false,
    "pycharm": {
     "name": "#%%\n",
     "is_executing": false
    }
   }
  },
  {
   "cell_type": "markdown",
   "source": [
    "### Subor other_train.csv obsahuje 26 atributov pricom 14 z nich je float64(numpy) a 12 z nich su objeckty(str)\n"
   ],
   "metadata": {
    "collapsed": false,
    "pycharm": {
     "name": "#%% md\n"
    }
   }
  },
  {
   "cell_type": "code",
   "execution_count": 62,
   "outputs": [
    {
     "data": {
      "text/plain": "                 name                                          address  \\\ncount            3983                                             3983   \nunique           3933                                             3933   \ntop     James Menzies  455 Amber Freeway\\r\\nWest Timothyland, RI 32037   \nfreq                3                                                3   \nmean              NaN                                              NaN   \nstd               NaN                                              NaN   \nmin               NaN                                              NaN   \n25%               NaN                                              NaN   \n50%               NaN                                              NaN   \n75%               NaN                                              NaN   \nmax               NaN                                              NaN   \n\n          race       marital-status     occupation pregnant  education-num  \\\ncount     3970                 3965           3962     3961     3962.00000   \nunique       5                    6             15        6            NaN   \ntop      White   Married-civ-spouse   Craft-repair        f            NaN   \nfreq      3398                 1830            547     3494            NaN   \nmean       NaN                  NaN            NaN      NaN       10.05477   \nstd        NaN                  NaN            NaN      NaN        2.58377   \nmin        NaN                  NaN            NaN      NaN        1.00000   \n25%        NaN                  NaN            NaN      NaN        9.00000   \n50%        NaN                  NaN            NaN      NaN       10.00000   \n75%        NaN                  NaN            NaN      NaN       12.00000   \nmax        NaN                  NaN            NaN      NaN       16.00000   \n\n       relationship  capital-gain education  ...  capital-loss  workclass  \\\ncount          3967   3970.000000      3967  ...   3969.000000       3683   \nunique            9           NaN        16  ...           NaN          9   \ntop         Husband           NaN   HS-grad  ...           NaN    Private   \nfreq           1615           NaN      1306  ...           NaN       2518   \nmean            NaN   1240.338539       NaN  ...     91.746536        NaN   \nstd             NaN   8300.936903       NaN  ...    412.307694        NaN   \nmin             NaN      0.000000       NaN  ...      0.000000        NaN   \n25%             NaN      0.000000       NaN  ...      0.000000        NaN   \n50%             NaN      0.000000       NaN  ...      0.000000        NaN   \n75%             NaN      0.000000       NaN  ...      0.000000        NaN   \nmax             NaN  99999.000000       NaN  ...   2824.000000        NaN   \n\n       mean_glucose  std_glucose kurtosis_glucose  skewness_glucose  \\\ncount   3983.000000  3983.000000      3983.000000       3983.000000   \nunique          NaN          NaN              NaN               NaN   \ntop             NaN          NaN              NaN               NaN   \nfreq            NaN          NaN              NaN               NaN   \nmean     100.813059    44.952091         0.946830          4.202553   \nstd       34.235192     8.203270         1.609436          9.657077   \nmin        0.000000     0.000000        -1.641515         -1.755332   \n25%       87.292969    40.050403         0.067006         -0.118707   \n50%      110.570312    45.820717         0.308703          0.369527   \n75%      124.128906    50.334942         0.770071          2.074858   \nmax      189.734375    91.206475         8.069522         68.101622   \n\n        mean_oxygen   std_oxygen  kurtosis_oxygen  skewness_oxygen  \ncount   3983.000000  3983.000000      3983.000000      3983.000000  \nunique          NaN          NaN              NaN              NaN  \ntop             NaN          NaN              NaN              NaN  \nfreq            NaN          NaN              NaN              NaN  \nmean      18.388082    31.014362         7.377900        90.889854  \nstd       34.717117    22.342098         4.828623       108.481276  \nmin        0.000000     0.000000        -2.597872        -1.976976  \n25%        2.050167    14.999759         3.562240        11.840094  \n50%        3.209866    20.400828         7.760264        68.127714  \n75%       12.604515    43.109566        10.258696       126.817691  \nmax      217.371238   110.642211        34.539844      1191.000837  \n\n[11 rows x 26 columns]",
      "text/html": "<div>\n<style scoped>\n    .dataframe tbody tr th:only-of-type {\n        vertical-align: middle;\n    }\n\n    .dataframe tbody tr th {\n        vertical-align: top;\n    }\n\n    .dataframe thead th {\n        text-align: right;\n    }\n</style>\n<table border=\"1\" class=\"dataframe\">\n  <thead>\n    <tr style=\"text-align: right;\">\n      <th></th>\n      <th>name</th>\n      <th>address</th>\n      <th>race</th>\n      <th>marital-status</th>\n      <th>occupation</th>\n      <th>pregnant</th>\n      <th>education-num</th>\n      <th>relationship</th>\n      <th>capital-gain</th>\n      <th>education</th>\n      <th>...</th>\n      <th>capital-loss</th>\n      <th>workclass</th>\n      <th>mean_glucose</th>\n      <th>std_glucose</th>\n      <th>kurtosis_glucose</th>\n      <th>skewness_glucose</th>\n      <th>mean_oxygen</th>\n      <th>std_oxygen</th>\n      <th>kurtosis_oxygen</th>\n      <th>skewness_oxygen</th>\n    </tr>\n  </thead>\n  <tbody>\n    <tr>\n      <th>count</th>\n      <td>3983</td>\n      <td>3983</td>\n      <td>3970</td>\n      <td>3965</td>\n      <td>3962</td>\n      <td>3961</td>\n      <td>3962.00000</td>\n      <td>3967</td>\n      <td>3970.000000</td>\n      <td>3967</td>\n      <td>...</td>\n      <td>3969.000000</td>\n      <td>3683</td>\n      <td>3983.000000</td>\n      <td>3983.000000</td>\n      <td>3983.000000</td>\n      <td>3983.000000</td>\n      <td>3983.000000</td>\n      <td>3983.000000</td>\n      <td>3983.000000</td>\n      <td>3983.000000</td>\n    </tr>\n    <tr>\n      <th>unique</th>\n      <td>3933</td>\n      <td>3933</td>\n      <td>5</td>\n      <td>6</td>\n      <td>15</td>\n      <td>6</td>\n      <td>NaN</td>\n      <td>9</td>\n      <td>NaN</td>\n      <td>16</td>\n      <td>...</td>\n      <td>NaN</td>\n      <td>9</td>\n      <td>NaN</td>\n      <td>NaN</td>\n      <td>NaN</td>\n      <td>NaN</td>\n      <td>NaN</td>\n      <td>NaN</td>\n      <td>NaN</td>\n      <td>NaN</td>\n    </tr>\n    <tr>\n      <th>top</th>\n      <td>James Menzies</td>\n      <td>455 Amber Freeway\\r\\nWest Timothyland, RI 32037</td>\n      <td>White</td>\n      <td>Married-civ-spouse</td>\n      <td>Craft-repair</td>\n      <td>f</td>\n      <td>NaN</td>\n      <td>Husband</td>\n      <td>NaN</td>\n      <td>HS-grad</td>\n      <td>...</td>\n      <td>NaN</td>\n      <td>Private</td>\n      <td>NaN</td>\n      <td>NaN</td>\n      <td>NaN</td>\n      <td>NaN</td>\n      <td>NaN</td>\n      <td>NaN</td>\n      <td>NaN</td>\n      <td>NaN</td>\n    </tr>\n    <tr>\n      <th>freq</th>\n      <td>3</td>\n      <td>3</td>\n      <td>3398</td>\n      <td>1830</td>\n      <td>547</td>\n      <td>3494</td>\n      <td>NaN</td>\n      <td>1615</td>\n      <td>NaN</td>\n      <td>1306</td>\n      <td>...</td>\n      <td>NaN</td>\n      <td>2518</td>\n      <td>NaN</td>\n      <td>NaN</td>\n      <td>NaN</td>\n      <td>NaN</td>\n      <td>NaN</td>\n      <td>NaN</td>\n      <td>NaN</td>\n      <td>NaN</td>\n    </tr>\n    <tr>\n      <th>mean</th>\n      <td>NaN</td>\n      <td>NaN</td>\n      <td>NaN</td>\n      <td>NaN</td>\n      <td>NaN</td>\n      <td>NaN</td>\n      <td>10.05477</td>\n      <td>NaN</td>\n      <td>1240.338539</td>\n      <td>NaN</td>\n      <td>...</td>\n      <td>91.746536</td>\n      <td>NaN</td>\n      <td>100.813059</td>\n      <td>44.952091</td>\n      <td>0.946830</td>\n      <td>4.202553</td>\n      <td>18.388082</td>\n      <td>31.014362</td>\n      <td>7.377900</td>\n      <td>90.889854</td>\n    </tr>\n    <tr>\n      <th>std</th>\n      <td>NaN</td>\n      <td>NaN</td>\n      <td>NaN</td>\n      <td>NaN</td>\n      <td>NaN</td>\n      <td>NaN</td>\n      <td>2.58377</td>\n      <td>NaN</td>\n      <td>8300.936903</td>\n      <td>NaN</td>\n      <td>...</td>\n      <td>412.307694</td>\n      <td>NaN</td>\n      <td>34.235192</td>\n      <td>8.203270</td>\n      <td>1.609436</td>\n      <td>9.657077</td>\n      <td>34.717117</td>\n      <td>22.342098</td>\n      <td>4.828623</td>\n      <td>108.481276</td>\n    </tr>\n    <tr>\n      <th>min</th>\n      <td>NaN</td>\n      <td>NaN</td>\n      <td>NaN</td>\n      <td>NaN</td>\n      <td>NaN</td>\n      <td>NaN</td>\n      <td>1.00000</td>\n      <td>NaN</td>\n      <td>0.000000</td>\n      <td>NaN</td>\n      <td>...</td>\n      <td>0.000000</td>\n      <td>NaN</td>\n      <td>0.000000</td>\n      <td>0.000000</td>\n      <td>-1.641515</td>\n      <td>-1.755332</td>\n      <td>0.000000</td>\n      <td>0.000000</td>\n      <td>-2.597872</td>\n      <td>-1.976976</td>\n    </tr>\n    <tr>\n      <th>25%</th>\n      <td>NaN</td>\n      <td>NaN</td>\n      <td>NaN</td>\n      <td>NaN</td>\n      <td>NaN</td>\n      <td>NaN</td>\n      <td>9.00000</td>\n      <td>NaN</td>\n      <td>0.000000</td>\n      <td>NaN</td>\n      <td>...</td>\n      <td>0.000000</td>\n      <td>NaN</td>\n      <td>87.292969</td>\n      <td>40.050403</td>\n      <td>0.067006</td>\n      <td>-0.118707</td>\n      <td>2.050167</td>\n      <td>14.999759</td>\n      <td>3.562240</td>\n      <td>11.840094</td>\n    </tr>\n    <tr>\n      <th>50%</th>\n      <td>NaN</td>\n      <td>NaN</td>\n      <td>NaN</td>\n      <td>NaN</td>\n      <td>NaN</td>\n      <td>NaN</td>\n      <td>10.00000</td>\n      <td>NaN</td>\n      <td>0.000000</td>\n      <td>NaN</td>\n      <td>...</td>\n      <td>0.000000</td>\n      <td>NaN</td>\n      <td>110.570312</td>\n      <td>45.820717</td>\n      <td>0.308703</td>\n      <td>0.369527</td>\n      <td>3.209866</td>\n      <td>20.400828</td>\n      <td>7.760264</td>\n      <td>68.127714</td>\n    </tr>\n    <tr>\n      <th>75%</th>\n      <td>NaN</td>\n      <td>NaN</td>\n      <td>NaN</td>\n      <td>NaN</td>\n      <td>NaN</td>\n      <td>NaN</td>\n      <td>12.00000</td>\n      <td>NaN</td>\n      <td>0.000000</td>\n      <td>NaN</td>\n      <td>...</td>\n      <td>0.000000</td>\n      <td>NaN</td>\n      <td>124.128906</td>\n      <td>50.334942</td>\n      <td>0.770071</td>\n      <td>2.074858</td>\n      <td>12.604515</td>\n      <td>43.109566</td>\n      <td>10.258696</td>\n      <td>126.817691</td>\n    </tr>\n    <tr>\n      <th>max</th>\n      <td>NaN</td>\n      <td>NaN</td>\n      <td>NaN</td>\n      <td>NaN</td>\n      <td>NaN</td>\n      <td>NaN</td>\n      <td>16.00000</td>\n      <td>NaN</td>\n      <td>99999.000000</td>\n      <td>NaN</td>\n      <td>...</td>\n      <td>2824.000000</td>\n      <td>NaN</td>\n      <td>189.734375</td>\n      <td>91.206475</td>\n      <td>8.069522</td>\n      <td>68.101622</td>\n      <td>217.371238</td>\n      <td>110.642211</td>\n      <td>34.539844</td>\n      <td>1191.000837</td>\n    </tr>\n  </tbody>\n</table>\n<p>11 rows × 26 columns</p>\n</div>"
     },
     "metadata": {},
     "output_type": "execute_result",
     "execution_count": 62
    }
   ],
   "source": [
    "data.describe(include=\"all\")"
   ],
   "metadata": {
    "collapsed": false,
    "pycharm": {
     "name": "#%%\n",
     "is_executing": false
    }
   }
  },
  {
   "cell_type": "markdown",
   "source": [
    "### Pacienti ktory maju, nemaju a nevieme o ich chorobe (class atribut)"
   ],
   "metadata": {
    "collapsed": false,
    "pycharm": {
     "name": "#%% md\n"
    }
   }
  },
  {
   "cell_type": "code",
   "execution_count": 47,
   "outputs": [
    {
     "name": "stdout",
     "text": [
      "Patient which has diseasis  1010\nPatient which has not diseasis  2956\nPatient which we dont know  17\nAll patient  3983\n"
     ],
     "output_type": "stream"
    }
   ],
   "source": [
    "print(\"Patient who has diseases \",len(data.loc[data['class'] == 1]))\n",
    "print(\"Patient who has not diseases \",len(data.loc[data['class'] == 0]))\n",
    "print(\"Patient that we dont know if they have or not\",len(data.loc[data['class'] != 1].loc[data['class'] != 0]))\n",
    "print(\"All patient \",len(data))"
   ],
   "metadata": {
    "collapsed": false,
    "pycharm": {
     "name": "#%%\n",
     "is_executing": false
    }
   }
  },
  {
   "cell_type": "code",
   "execution_count": 87,
   "outputs": [
    {
     "data": {
      "text/plain": "<matplotlib.axes._subplots.AxesSubplot at 0x7f19b439a750>"
     },
     "metadata": {},
     "output_type": "execute_result",
     "execution_count": 87
    },
    {
     "data": {
      "text/plain": "<Figure size 432x288 with 1 Axes>",
      "image/png": "[encoded data removed]"
     },
     "metadata": {
      "needs_background": "light"
     },
     "output_type": "display_data"
    }
   ],
   "source": [
    "data.boxplot('mean_glucose')"
   ],
   "metadata": {
    "collapsed": false,
    "pycharm": {
     "name": "#%%\n",
     "is_executing": false
    }
   }
  },
  {
   "cell_type": "code",
   "execution_count": 86,
   "outputs": [
    {
     "data": {
      "text/plain": "<matplotlib.axes._subplots.AxesSubplot at 0x7f19b37cedd0>"
     },
     "metadata": {},
     "output_type": "execute_result",
     "execution_count": 86
    },
    {
     "data": {
      "text/plain": "<Figure size 432x288 with 1 Axes>",
      "image/png": "[encoded data removed]"
     },
     "metadata": {
      "needs_background": "light"
     },
     "output_type": "display_data"
    }
   ],
   "source": [
    "data.boxplot('std_glucose')"
   ],
   "metadata": {
    "collapsed": false,
    "pycharm": {
     "name": "#%%\n",
     "is_executing": false
    }
   }
  },
  {
   "cell_type": "code",
   "execution_count": 85,
   "outputs": [
    {
     "data": {
      "text/plain": "<matplotlib.axes._subplots.AxesSubplot at 0x7f19c64e70d0>"
     },
     "metadata": {},
     "output_type": "execute_result",
     "execution_count": 85
    },
    {
     "data": {
      "text/plain": "<Figure size 432x288 with 1 Axes>",
      "image/png": "[encoded data removed]"
     },
     "metadata": {
      "needs_background": "light"
     },
     "output_type": "display_data"
    }
   ],
   "source": [
    "data.boxplot('kurtosis_glucose')"
   ],
   "metadata": {
    "collapsed": false,
    "pycharm": {
     "name": "#%%\n",
     "is_executing": false
    }
   }
  },
  {
   "cell_type": "code",
   "execution_count": 84,
   "outputs": [
    {
     "data": {
      "text/plain": "<matplotlib.axes._subplots.AxesSubplot at 0x7f19b37e16d0>"
     },
     "metadata": {},
     "output_type": "execute_result",
     "execution_count": 84
    },
    {
     "data": {
      "text/plain": "<Figure size 432x288 with 1 Axes>",
      "image/png": "[encoded data removed]"
     },
     "metadata": {
      "needs_background": "light"
     },
     "output_type": "display_data"
    }
   ],
   "source": [
    "data.boxplot('skewness_glucose')"
   ],
   "metadata": {
    "collapsed": false,
    "pycharm": {
     "name": "#%%\n",
     "is_executing": false
    }
   }
  },
  {
   "cell_type": "code",
   "execution_count": 83,
   "outputs": [
    {
     "data": {
      "text/plain": "<matplotlib.axes._subplots.AxesSubplot at 0x7f19b38c6410>"
     },
     "metadata": {},
     "output_type": "execute_result",
     "execution_count": 83
    },
    {
     "data": {
      "text/plain": "<Figure size 432x288 with 1 Axes>",
      "image/png": "[encoded data removed]"
     },
     "metadata": {
      "needs_background": "light"
     },
     "output_type": "display_data"
    }
   ],
   "source": [
    "data.boxplot('mean_oxygen')"
   ],
   "metadata": {
    "collapsed": false,
    "pycharm": {
     "name": "#%%\n",
     "is_executing": false
    }
   }
  },
  {
   "cell_type": "code",
   "execution_count": 82,
   "outputs": [
    {
     "data": {
      "text/plain": "<matplotlib.axes._subplots.AxesSubplot at 0x7f19b4673e50>"
     },
     "metadata": {},
     "output_type": "execute_result",
     "execution_count": 82
    },
    {
     "data": {
      "text/plain": "<Figure size 432x288 with 1 Axes>",
      "image/png": "[encoded data removed]"
     },
     "metadata": {
      "needs_background": "light"
     },
     "output_type": "display_data"
    }
   ],
   "source": [
    "data.boxplot('std_oxygen')"
   ],
   "metadata": {
    "collapsed": false,
    "pycharm": {
     "name": "#%%\n",
     "is_executing": false
    }
   }
  },
  {
   "cell_type": "code",
   "execution_count": 81,
   "outputs": [
    {
     "data": {
      "text/plain": "<matplotlib.axes._subplots.AxesSubplot at 0x7f19b6936d90>"
     },
     "metadata": {},
     "output_type": "execute_result",
     "execution_count": 81
    },
    {
     "data": {
      "text/plain": "<Figure size 432x288 with 1 Axes>",
      "image/png": "[encoded data removed]"
     },
     "metadata": {
      "needs_background": "light"
     },
     "output_type": "display_data"
    }
   ],
   "source": [
    "data.boxplot('kurtosis_oxygen')"
   ],
   "metadata": {
    "collapsed": false,
    "pycharm": {
     "name": "#%%\n",
     "is_executing": false
    }
   }
  },
  {
   "cell_type": "code",
   "execution_count": 80,
   "outputs": [
    {
     "data": {
      "text/plain": "<matplotlib.axes._subplots.AxesSubplot at 0x7f19b6b66d50>"
     },
     "metadata": {},
     "output_type": "execute_result",
     "execution_count": 80
    },
    {
     "data": {
      "text/plain": "<Figure size 432x288 with 1 Axes>",
      "image/png": "[encoded data removed]"
     },
     "metadata": {
      "needs_background": "light"
     },
     "output_type": "display_data"
    }
   ],
   "source": [
    "data.boxplot('skewness_oxygen')\n"
   ],
   "metadata": {
    "collapsed": false,
    "pycharm": {
     "name": "#%%\n",
     "is_executing": false
    }
   }
  }
 ],
 "metadata": {
  "kernelspec": {
   "display_name": "Python 3",
   "language": "python",
   "name": "python3"
  },
  "language_info": {
   "codemirror_mode": {
    "name": "ipython",
    "version": 2
   },
   "file_extension": ".py",
   "mimetype": "text/x-python",
   "name": "python",
   "nbconvert_exporter": "python",
   "pygments_lexer": "ipython2",
   "version": "2.7.6"
  },
  "pycharm": {
   "stem_cell": {
    "cell_type": "raw",
    "source": [],
    "metadata": {
     "collapsed": false
    }
   }
  }
 },
 "nbformat": 4,
 "nbformat_minor": 0
}