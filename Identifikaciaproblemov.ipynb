{
 "cells": [
  {
   "cell_type": "code",
   "execution_count": 1,
   "metadata": {
    "pycharm": {
     "name": "#%%\n"
    }
   },
   "outputs": [],
   "source": [
    "import pandas as pd\n",
    "import numpy as np\n",
    "import matplotlib.pyplot as plt\n",
    "import seaborn as sns"
   ]
  },
  {
   "cell_type": "code",
   "execution_count": 2,
   "metadata": {
    "pycharm": {
     "name": "#%%\n"
    }
   },
   "outputs": [],
   "source": [
    "other_data = pd.read_csv(\"./data/modify_other_train.csv\",index_col=0)\n",
    "person_data = pd.read_csv(\"./data/personal_train.csv\",index_col=0)"
   ]
  },
  {
   "cell_type": "markdown",
   "metadata": {
    "collapsed": true,
    "pycharm": {
     "name": "#%% md\n"
    }
   },
   "source": [
    "# Zadanie\n",
    "Nevhodná štruktúra dát (dáta nie sú v tabuľkovej podobe alebo jedna entita je opísaná viacerými riadkami tabuľky)  \n",
    "Duplicitné záznamy, resp. nejednoznačné mapovanie medzi záznamami  \n",
    "Nejednotné formáty dát  \n",
    "Chýbajúce hodnoty  \n",
    "Vychýlené (odľahlé) hodnoty  a ďalšie, t. j. v dátach sa môžu nachádzať aj iné, tu nevymenované problémy, ktoré tiež treba identifikovať a vo vašej analýze adresovať.  "
   ]
  },
  {
   "cell_type": "markdown",
   "metadata": {
    "pycharm": {
     "name": "#%% md\n"
    }
   },
   "source": [
    "## Subor personal.csv\n",
    "\n",
    "    - tento subor obsahuje rozne chyby ako nejednotne formaty datum narodenia, alebo neobsahuje vek\n",
    "    - oba tieto problemy sa daju riesit. Pri datum si vyberieme nejaky format a nasledne vsetky don prevedieme \n",
    "        tie, ktore sa nebudu dat budeme musiet rucne alebo ich zvolime ako nezname\n",
    "    - pokial budeme opravovat formaty datum vieme automaticky opravovat aj vek ci uz len kontrolovat alebo aj doplnat"
   ]
  },
  {
   "cell_type": "markdown",
   "metadata": {
    "pycharm": {
     "name": "#%% md\n"
    }
   },
   "source": [
    "# doplnit histogram alebo scitat hodnoty, ktore su nulove"
   ]
  },
  {
   "cell_type": "markdown",
   "metadata": {
    "pycharm": {
     "name": "#%% md\n"
    }
   },
   "source": [
    "## Subor other.csv\n",
    "   - obsahuje nekonzistentny format ci je pacient tehotny teda toto zmenime na \"False\" \"True\" podla hodnoty      \n",
    "    ![Personal age data](img/personal_age_data.png)\n",
    "   - occupation, country, workclass ako nezname nebudeme menit (?)\n",
    "   - pricom workclass pokial nebude nic obsahovat tak vlozime \"?\"\n",
    "   - co sa tyka stlpca medical_info pokial tento stlpec nebude nic obsahovat vlozime donho json s nulovymi hodnotami\n",
    "   - udaje ktore su v medical_info budeme parsovat z JSONU na dict ten nasledne pozbierame a vytvorime z neho DataFrame,\n",
    "        ktory nasledne vlozime do povodnych dat a ulozime. Pred tym ale budeme musiet jednotlive hodnoty parsnut na float numpy\n",
    "   - tento bod sme uz museli vykonvat aby sa nam lahsie spracovala prva uloha a dalej vedeli pouzivat data a postupovat v zadani\n",
    "   - spajat udaje s person.csv budeme vkada menu a priezvisku kedze nevieme ci id su v rovnakych poradiach\n",
    "   - vychylene hodnoty po identifikovani vyhodime z datasetu no len v danej ulohe, hlavne tam kde to bude potrebne, pre istotu ze ine vysledky budu spravne\n",
    "   - pokial pacient nema rasu tam vlozime other alebo ? ako unknown nech nam to neznehodnoti statistiky\n",
    "    \n",
    "\n"
   ]
  }
 ],
 "metadata": {
  "kernelspec": {
   "display_name": "Python 3",
   "language": "python",
   "name": "python3"
  },
  "language_info": {
   "codemirror_mode": {
    "name": "ipython",
    "version": 3
   },
   "file_extension": ".py",
   "mimetype": "text/x-python",
   "name": "python",
   "nbconvert_exporter": "python",
   "pygments_lexer": "ipython3",
   "version": "3.7.3"
  },
  "pycharm": {
   "stem_cell": {
    "cell_type": "raw",
    "metadata": {
     "collapsed": false
    },
    "source": []
   }
  }
 },
 "nbformat": 4,
 "nbformat_minor": 1
}
