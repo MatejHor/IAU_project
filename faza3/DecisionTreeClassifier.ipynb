{
 "cells": [
  {
   "cell_type": "markdown",
   "metadata": {},
   "source": [
    "V tomto notebooku sa venujeme vytvaraniu rozhodovacich stromov za pomoci kniznice scikit-learn. Najprv si data upravujeme pomocou OneHotEncoderu, pricom nahradzujeme kategoricke data za numericke. Potom vytvarame rozhodovaci strom bez specifikovania hyperparametrov, skumame jeho vysledky. Nasledne sa venujeme optimalizacii hyperparametrov pomocou GridSearch-u a skumame najlepsie nastavenie hyperparametrov."
   ]
  },
  {
   "cell_type": "code",
   "execution_count": 52,
   "metadata": {
    "pycharm": {
     "is_executing": false
    }
   },
   "outputs": [],
   "source": [
    "import scipy.stats as stats\n",
    "import pandas as pd\n",
    "import numpy as np\n",
    "from sklearn.base import TransformerMixin\n",
    "from sklearn.compose import ColumnTransformer\n",
    "from sklearn.impute._iterative import IterativeImputer\n",
    "from sklearn.metrics import classification_report\n",
    "from sklearn.pipeline import Pipeline\n",
    "import matplotlib.pyplot as plt\n",
    "import seaborn as sns\n",
    "import dateutil.parser as parser\n",
    "from sklearn.impute import SimpleImputer as Imputer, SimpleImputer\n",
    "from sklearn.neighbors import NearestNeighbors as neigh\n",
    "from sklearn.neighbors import KNeighborsRegressor as neigh\n",
    "from sklearn.model_selection import train_test_split as split\n",
    "from sklearn import metrics\n",
    "from math import sqrt\n",
    "import json\n",
    "from sklearn.preprocessing import StandardScaler, OneHotEncoder, PowerTransformer\n",
    "from missingpy import KNNImputer, MissForest\n",
    "from sklearn.tree import DecisionTreeClassifier\n",
    "import category_encoders as ce\n",
    "import copy\n",
    "from sklearn.tree import export_graphviz\n",
    "from graphviz import Source\n",
    "from IPython.display import SVG\n",
    "from sklearn.model_selection import GridSearchCV\n",
    "from sklearn.model_selection import ParameterGrid"
   ]
  },
  {
   "cell_type": "markdown",
   "metadata": {
    "pycharm": {
     "name": "#%% md\n"
    }
   },
   "source": [
    "Odstranenie nepotrebnych stlpcov a nacitanie.\n",
    "Ziskanie kategorickych dat a pretransformovanie ich pomocou OneHotEncoder-u.\n",
    "Odstranenie povodnych stlpcov a pridanie novo vytvorenych."
   ]
  },
  {
   "cell_type": "code",
   "execution_count": 53,
   "metadata": {
    "pycharm": {
     "is_executing": false
    }
   },
   "outputs": [
    {
     "data": {
      "text/html": [
       "<div>\n",
       "<style scoped>\n",
       "    .dataframe tbody tr th:only-of-type {\n",
       "        vertical-align: middle;\n",
       "    }\n",
       "\n",
       "    .dataframe tbody tr th {\n",
       "        vertical-align: top;\n",
       "    }\n",
       "\n",
       "    .dataframe thead th {\n",
       "        text-align: right;\n",
       "    }\n",
       "</style>\n",
       "<table border=\"1\" class=\"dataframe\">\n",
       "  <thead>\n",
       "    <tr style=\"text-align: right;\">\n",
       "      <th></th>\n",
       "      <th>education-num</th>\n",
       "      <th>capital-gain</th>\n",
       "      <th>fnlwgt</th>\n",
       "      <th>hours-per-week</th>\n",
       "      <th>capital-loss</th>\n",
       "      <th>mean_glucose</th>\n",
       "      <th>std_glucose</th>\n",
       "      <th>kurtosis_glucose</th>\n",
       "      <th>skewness_glucose</th>\n",
       "      <th>mean_oxygen</th>\n",
       "      <th>...</th>\n",
       "      <th>native-country_37</th>\n",
       "      <th>native-country_38</th>\n",
       "      <th>native-country_39</th>\n",
       "      <th>workclass_1</th>\n",
       "      <th>workclass_2</th>\n",
       "      <th>workclass_3</th>\n",
       "      <th>workclass_4</th>\n",
       "      <th>workclass_5</th>\n",
       "      <th>workclass_6</th>\n",
       "      <th>workclass_7</th>\n",
       "    </tr>\n",
       "  </thead>\n",
       "  <tbody>\n",
       "    <tr>\n",
       "      <td>0</td>\n",
       "      <td>1.595991</td>\n",
       "      <td>-0.307122</td>\n",
       "      <td>1.389199</td>\n",
       "      <td>2.451870</td>\n",
       "      <td>-0.227166</td>\n",
       "      <td>95.351562</td>\n",
       "      <td>41.828816</td>\n",
       "      <td>1.280503</td>\n",
       "      <td>3.351277</td>\n",
       "      <td>14.103679</td>\n",
       "      <td>...</td>\n",
       "      <td>0</td>\n",
       "      <td>0</td>\n",
       "      <td>0</td>\n",
       "      <td>1</td>\n",
       "      <td>0</td>\n",
       "      <td>0</td>\n",
       "      <td>0</td>\n",
       "      <td>0</td>\n",
       "      <td>0</td>\n",
       "      <td>0</td>\n",
       "    </tr>\n",
       "    <tr>\n",
       "      <td>1</td>\n",
       "      <td>-0.060364</td>\n",
       "      <td>-0.307122</td>\n",
       "      <td>0.215814</td>\n",
       "      <td>1.190627</td>\n",
       "      <td>-0.227166</td>\n",
       "      <td>111.164062</td>\n",
       "      <td>51.802174</td>\n",
       "      <td>0.267679</td>\n",
       "      <td>-0.141940</td>\n",
       "      <td>2.902174</td>\n",
       "      <td>...</td>\n",
       "      <td>0</td>\n",
       "      <td>0</td>\n",
       "      <td>0</td>\n",
       "      <td>0</td>\n",
       "      <td>1</td>\n",
       "      <td>0</td>\n",
       "      <td>0</td>\n",
       "      <td>0</td>\n",
       "      <td>0</td>\n",
       "      <td>0</td>\n",
       "    </tr>\n",
       "    <tr>\n",
       "      <td>2</td>\n",
       "      <td>-0.060364</td>\n",
       "      <td>-0.307122</td>\n",
       "      <td>0.276509</td>\n",
       "      <td>0.774574</td>\n",
       "      <td>-0.227166</td>\n",
       "      <td>14.460938</td>\n",
       "      <td>29.387737</td>\n",
       "      <td>5.600391</td>\n",
       "      <td>34.223119</td>\n",
       "      <td>57.382107</td>\n",
       "      <td>...</td>\n",
       "      <td>0</td>\n",
       "      <td>0</td>\n",
       "      <td>0</td>\n",
       "      <td>0</td>\n",
       "      <td>1</td>\n",
       "      <td>0</td>\n",
       "      <td>0</td>\n",
       "      <td>0</td>\n",
       "      <td>0</td>\n",
       "      <td>0</td>\n",
       "    </tr>\n",
       "    <tr>\n",
       "      <td>3</td>\n",
       "      <td>-0.060364</td>\n",
       "      <td>-0.307122</td>\n",
       "      <td>-0.437771</td>\n",
       "      <td>-2.727383</td>\n",
       "      <td>-0.227166</td>\n",
       "      <td>107.796875</td>\n",
       "      <td>41.562709</td>\n",
       "      <td>0.510415</td>\n",
       "      <td>1.672603</td>\n",
       "      <td>1.910535</td>\n",
       "      <td>...</td>\n",
       "      <td>0</td>\n",
       "      <td>0</td>\n",
       "      <td>0</td>\n",
       "      <td>0</td>\n",
       "      <td>1</td>\n",
       "      <td>0</td>\n",
       "      <td>0</td>\n",
       "      <td>0</td>\n",
       "      <td>0</td>\n",
       "      <td>0</td>\n",
       "    </tr>\n",
       "    <tr>\n",
       "      <td>4</td>\n",
       "      <td>-0.060364</td>\n",
       "      <td>-0.307122</td>\n",
       "      <td>0.055621</td>\n",
       "      <td>2.451870</td>\n",
       "      <td>-0.227166</td>\n",
       "      <td>111.484375</td>\n",
       "      <td>53.068350</td>\n",
       "      <td>0.459786</td>\n",
       "      <td>-0.116594</td>\n",
       "      <td>1.599498</td>\n",
       "      <td>...</td>\n",
       "      <td>0</td>\n",
       "      <td>0</td>\n",
       "      <td>0</td>\n",
       "      <td>0</td>\n",
       "      <td>1</td>\n",
       "      <td>0</td>\n",
       "      <td>0</td>\n",
       "      <td>0</td>\n",
       "      <td>0</td>\n",
       "      <td>0</td>\n",
       "    </tr>\n",
       "    <tr>\n",
       "      <td>...</td>\n",
       "      <td>...</td>\n",
       "      <td>...</td>\n",
       "      <td>...</td>\n",
       "      <td>...</td>\n",
       "      <td>...</td>\n",
       "      <td>...</td>\n",
       "      <td>...</td>\n",
       "      <td>...</td>\n",
       "      <td>...</td>\n",
       "      <td>...</td>\n",
       "      <td>...</td>\n",
       "      <td>...</td>\n",
       "      <td>...</td>\n",
       "      <td>...</td>\n",
       "      <td>...</td>\n",
       "      <td>...</td>\n",
       "      <td>...</td>\n",
       "      <td>...</td>\n",
       "      <td>...</td>\n",
       "      <td>...</td>\n",
       "      <td>...</td>\n",
       "    </tr>\n",
       "    <tr>\n",
       "      <td>3928</td>\n",
       "      <td>-0.447286</td>\n",
       "      <td>-0.307122</td>\n",
       "      <td>0.674189</td>\n",
       "      <td>-0.049761</td>\n",
       "      <td>-0.227166</td>\n",
       "      <td>103.578125</td>\n",
       "      <td>45.166638</td>\n",
       "      <td>0.552355</td>\n",
       "      <td>0.777646</td>\n",
       "      <td>21.821070</td>\n",
       "      <td>...</td>\n",
       "      <td>0</td>\n",
       "      <td>0</td>\n",
       "      <td>0</td>\n",
       "      <td>0</td>\n",
       "      <td>1</td>\n",
       "      <td>0</td>\n",
       "      <td>0</td>\n",
       "      <td>0</td>\n",
       "      <td>0</td>\n",
       "      <td>0</td>\n",
       "    </tr>\n",
       "    <tr>\n",
       "      <td>3929</td>\n",
       "      <td>1.166759</td>\n",
       "      <td>-0.307122</td>\n",
       "      <td>-0.156044</td>\n",
       "      <td>1.190627</td>\n",
       "      <td>-0.227166</td>\n",
       "      <td>27.468750</td>\n",
       "      <td>37.283110</td>\n",
       "      <td>4.430580</td>\n",
       "      <td>20.844460</td>\n",
       "      <td>7.814381</td>\n",
       "      <td>...</td>\n",
       "      <td>0</td>\n",
       "      <td>0</td>\n",
       "      <td>0</td>\n",
       "      <td>0</td>\n",
       "      <td>1</td>\n",
       "      <td>0</td>\n",
       "      <td>0</td>\n",
       "      <td>0</td>\n",
       "      <td>0</td>\n",
       "      <td>0</td>\n",
       "    </tr>\n",
       "    <tr>\n",
       "      <td>3930</td>\n",
       "      <td>-0.060364</td>\n",
       "      <td>-0.307122</td>\n",
       "      <td>1.665610</td>\n",
       "      <td>-0.049761</td>\n",
       "      <td>-0.227166</td>\n",
       "      <td>100.859375</td>\n",
       "      <td>32.731324</td>\n",
       "      <td>0.251239</td>\n",
       "      <td>3.491732</td>\n",
       "      <td>4.968227</td>\n",
       "      <td>...</td>\n",
       "      <td>0</td>\n",
       "      <td>0</td>\n",
       "      <td>0</td>\n",
       "      <td>0</td>\n",
       "      <td>1</td>\n",
       "      <td>0</td>\n",
       "      <td>0</td>\n",
       "      <td>0</td>\n",
       "      <td>0</td>\n",
       "      <td>0</td>\n",
       "    </tr>\n",
       "    <tr>\n",
       "      <td>3931</td>\n",
       "      <td>-2.176550</td>\n",
       "      <td>-0.307122</td>\n",
       "      <td>0.274627</td>\n",
       "      <td>0.361026</td>\n",
       "      <td>-0.227166</td>\n",
       "      <td>40.398438</td>\n",
       "      <td>33.748458</td>\n",
       "      <td>3.933903</td>\n",
       "      <td>19.294670</td>\n",
       "      <td>96.349498</td>\n",
       "      <td>...</td>\n",
       "      <td>0</td>\n",
       "      <td>0</td>\n",
       "      <td>0</td>\n",
       "      <td>0</td>\n",
       "      <td>1</td>\n",
       "      <td>0</td>\n",
       "      <td>0</td>\n",
       "      <td>0</td>\n",
       "      <td>0</td>\n",
       "      <td>0</td>\n",
       "    </tr>\n",
       "    <tr>\n",
       "      <td>3932</td>\n",
       "      <td>-0.060364</td>\n",
       "      <td>-0.307122</td>\n",
       "      <td>0.654868</td>\n",
       "      <td>-1.657412</td>\n",
       "      <td>-0.227166</td>\n",
       "      <td>124.796875</td>\n",
       "      <td>45.098046</td>\n",
       "      <td>0.286940</td>\n",
       "      <td>-0.171916</td>\n",
       "      <td>5.556020</td>\n",
       "      <td>...</td>\n",
       "      <td>0</td>\n",
       "      <td>0</td>\n",
       "      <td>0</td>\n",
       "      <td>0</td>\n",
       "      <td>1</td>\n",
       "      <td>0</td>\n",
       "      <td>0</td>\n",
       "      <td>0</td>\n",
       "      <td>0</td>\n",
       "      <td>0</td>\n",
       "    </tr>\n",
       "  </tbody>\n",
       "</table>\n",
       "<p>3933 rows × 117 columns</p>\n",
       "</div>"
      ],
      "text/plain": [
       "      education-num  capital-gain    fnlwgt  hours-per-week  capital-loss  \\\n",
       "0          1.595991     -0.307122  1.389199        2.451870     -0.227166   \n",
       "1         -0.060364     -0.307122  0.215814        1.190627     -0.227166   \n",
       "2         -0.060364     -0.307122  0.276509        0.774574     -0.227166   \n",
       "3         -0.060364     -0.307122 -0.437771       -2.727383     -0.227166   \n",
       "4         -0.060364     -0.307122  0.055621        2.451870     -0.227166   \n",
       "...             ...           ...       ...             ...           ...   \n",
       "3928      -0.447286     -0.307122  0.674189       -0.049761     -0.227166   \n",
       "3929       1.166759     -0.307122 -0.156044        1.190627     -0.227166   \n",
       "3930      -0.060364     -0.307122  1.665610       -0.049761     -0.227166   \n",
       "3931      -2.176550     -0.307122  0.274627        0.361026     -0.227166   \n",
       "3932      -0.060364     -0.307122  0.654868       -1.657412     -0.227166   \n",
       "\n",
       "      mean_glucose  std_glucose  kurtosis_glucose  skewness_glucose  \\\n",
       "0        95.351562    41.828816          1.280503          3.351277   \n",
       "1       111.164062    51.802174          0.267679         -0.141940   \n",
       "2        14.460938    29.387737          5.600391         34.223119   \n",
       "3       107.796875    41.562709          0.510415          1.672603   \n",
       "4       111.484375    53.068350          0.459786         -0.116594   \n",
       "...            ...          ...               ...               ...   \n",
       "3928    103.578125    45.166638          0.552355          0.777646   \n",
       "3929     27.468750    37.283110          4.430580         20.844460   \n",
       "3930    100.859375    32.731324          0.251239          3.491732   \n",
       "3931     40.398438    33.748458          3.933903         19.294670   \n",
       "3932    124.796875    45.098046          0.286940         -0.171916   \n",
       "\n",
       "      mean_oxygen  ...  native-country_37  native-country_38  \\\n",
       "0       14.103679  ...                  0                  0   \n",
       "1        2.902174  ...                  0                  0   \n",
       "2       57.382107  ...                  0                  0   \n",
       "3        1.910535  ...                  0                  0   \n",
       "4        1.599498  ...                  0                  0   \n",
       "...           ...  ...                ...                ...   \n",
       "3928    21.821070  ...                  0                  0   \n",
       "3929     7.814381  ...                  0                  0   \n",
       "3930     4.968227  ...                  0                  0   \n",
       "3931    96.349498  ...                  0                  0   \n",
       "3932     5.556020  ...                  0                  0   \n",
       "\n",
       "      native-country_39  workclass_1  workclass_2  workclass_3  workclass_4  \\\n",
       "0                     0            1            0            0            0   \n",
       "1                     0            0            1            0            0   \n",
       "2                     0            0            1            0            0   \n",
       "3                     0            0            1            0            0   \n",
       "4                     0            0            1            0            0   \n",
       "...                 ...          ...          ...          ...          ...   \n",
       "3928                  0            0            1            0            0   \n",
       "3929                  0            0            1            0            0   \n",
       "3930                  0            0            1            0            0   \n",
       "3931                  0            0            1            0            0   \n",
       "3932                  0            0            1            0            0   \n",
       "\n",
       "      workclass_5  workclass_6  workclass_7  \n",
       "0               0            0            0  \n",
       "1               0            0            0  \n",
       "2               0            0            0  \n",
       "3               0            0            0  \n",
       "4               0            0            0  \n",
       "...           ...          ...          ...  \n",
       "3928            0            0            0  \n",
       "3929            0            0            0  \n",
       "3930            0            0            0  \n",
       "3931            0            0            0  \n",
       "3932            0            0            0  \n",
       "\n",
       "[3933 rows x 117 columns]"
      ]
     },
     "execution_count": 53,
     "metadata": {},
     "output_type": "execute_result"
    }
   ],
   "source": [
    "merged_data = pd.read_csv('trained_datas.csv',index_col=0)\n",
    "# merged_data.info()\n",
    "merged_data = merged_data.drop(['name', 'address', 'date_of_birth'], axis = 1)\n",
    "categoric = merged_data.select_dtypes(include = ['object'])\n",
    "\n",
    "encoder = ce.OneHotEncoder()\n",
    "encoder.fit(categoric)\n",
    "transformed = encoder.transform(categoric)\n",
    "\n",
    "merged_data = merged_data.drop(categoric, axis = 1)\n",
    "merged_data = merged_data.merge(transformed, left_index=True, right_index=True)\n",
    "merged_data"
   ]
  },
  {
   "cell_type": "markdown",
   "metadata": {
    "pycharm": {
     "name": "#%% md\n"
    }
   },
   "source": [
    "Vytvorenie rozhodovacieho stromu a natrenovanie ho. "
   ]
  },
  {
   "cell_type": "code",
   "execution_count": 54,
   "metadata": {
    "pycharm": {
     "is_executing": false
    }
   },
   "outputs": [],
   "source": [
    "cls = DecisionTreeClassifier(criterion = 'entropy')\n",
    "\n",
    "X = merged_data[merged_data.columns.difference(['class'])]\n",
    "y = merged_data['class']\n",
    "cls = cls.fit(X, y)\n"
   ]
  },
  {
   "cell_type": "markdown",
   "metadata": {
    "pycharm": {
     "name": "#%% md\n"
    }
   },
   "source": [
    "Vizualizacia rozhodovacieho stromu."
   ]
  },
  {
   "cell_type": "code",
   "execution_count": 55,
   "metadata": {
    "collapsed": false,
    "jupyter": {
     "outputs_hidden": false
    },
    "pycharm": {
     "is_executing": false,
     "name": "#%%\n"
    }
   },
   "outputs": [],
   "source": [
    "graph = Source(export_graphviz(cls, \n",
    "                               out_file=None,\n",
    "                               feature_names=X.columns,\n",
    "                               class_names=['no diabetes', 'yes diabetes'],\n",
    "                               filled = True))\n",
    "\n",
    "# display(SVG(graph.pipe(format='svg')))\n",
    "\n",
    "# from IPython.display import HTML # toto je tu len pre to aby sa mi obrazok zmestil na obrazovku\n",
    "# style = \"<style>svg{width:70% !important;height:70% !important;}</style>\"\n",
    "# HTML(style)"
   ]
  },
  {
   "cell_type": "markdown",
   "metadata": {},
   "source": [
    "Upravenie validacnych dat priprava na pouztie v strome, pouzitie encoderu a transformovanie."
   ]
  },
  {
   "cell_type": "code",
   "execution_count": 56,
   "metadata": {
    "collapsed": false,
    "jupyter": {
     "outputs_hidden": false
    },
    "pycharm": {
     "is_executing": false,
     "name": "#%%\n"
    }
   },
   "outputs": [],
   "source": [
    "val_merged_data = pd.read_csv('validate_datas.csv',index_col=0)\n",
    "# val_merged_data.info()\n",
    "val_merged_data = val_merged_data.drop(['name', 'address', 'date_of_birth'], axis = 1)\n",
    "categoric = val_merged_data.select_dtypes(include = ['object'])\n",
    "transformed = encoder.transform(categoric)\n",
    "\n",
    "val_merged_data = val_merged_data.drop(categoric, axis = 1)\n",
    "val_merged_data = val_merged_data.merge(transformed, left_index=True, right_index=True)"
   ]
  },
  {
   "cell_type": "markdown",
   "metadata": {
    "pycharm": {
     "name": "#%% md\n"
    }
   },
   "source": [
    "Zistili sme, ze validacne data obsahuju v stlpci 'class' dve hodnoty NaN. Zaznamy obsahujuce tieto\n",
    "hodnoty sme sa rozhodli odtranit z datasetu."
   ]
  },
  {
   "cell_type": "code",
   "execution_count": 57,
   "metadata": {
    "collapsed": false,
    "jupyter": {
     "outputs_hidden": false
    },
    "pycharm": {
     "is_executing": false,
     "name": "#%%\n"
    }
   },
   "outputs": [
    {
     "name": "stdout",
     "output_type": "stream",
     "text": [
      "<class 'pandas.core.frame.DataFrame'>\n",
      "Int64Index: 1309 entries, 0 to 1310\n",
      "Columns: 117 entries, education-num to workclass_7\n",
      "dtypes: float64(15), int64(102)\n",
      "memory usage: 1.2 MB\n"
     ]
    }
   ],
   "source": [
    "val_merged_data = val_merged_data.dropna()\n",
    "val_merged_data.info()"
   ]
  },
  {
   "cell_type": "markdown",
   "metadata": {
    "pycharm": {
     "name": "#%% md\n"
    }
   },
   "source": [
    "Prezenieme vsetky validacne data stromov a skontrolujeme aku presnost sme dosiahli. \n",
    "Ulozime si predikciu a nasledne ju budeme kontrolovat s povodnymi hodnotami stlpca 'class'."
   ]
  },
  {
   "cell_type": "code",
   "execution_count": 58,
   "metadata": {
    "collapsed": false,
    "jupyter": {
     "outputs_hidden": false
    },
    "pycharm": {
     "is_executing": false,
     "name": "#%%\n"
    }
   },
   "outputs": [],
   "source": [
    "prediction = cls.predict(val_merged_data[val_merged_data.columns.difference(['class'])])"
   ]
  },
  {
   "cell_type": "code",
   "execution_count": 59,
   "metadata": {
    "collapsed": false,
    "jupyter": {
     "outputs_hidden": false
    },
    "pycharm": {
     "is_executing": false,
     "name": "#%%\n"
    }
   },
   "outputs": [
    {
     "name": "stdout",
     "output_type": "stream",
     "text": [
      "              precision    recall  f1-score   support\n",
      "\n",
      "         0.0      0.969     0.943     0.956       963\n",
      "         1.0      0.852     0.916     0.883       346\n",
      "\n",
      "    accuracy                          0.936      1309\n",
      "   macro avg      0.911     0.930     0.919      1309\n",
      "weighted avg      0.938     0.936     0.937      1309\n",
      "\n"
     ]
    }
   ],
   "source": [
    "print(classification_report(val_merged_data['class'],prediction, digits=3))"
   ]
  },
  {
   "cell_type": "markdown",
   "metadata": {},
   "source": [
    "### 4. bod - Optimalizacia hyperparametrov\n",
    "\n",
    "Vyuzijeme GridSearch, pricom budeme vyuzivat 4 rozne hyperparametre, ktore mozeme menit a to su: \n",
    "* max depth - zvolili sme interval <2, 27> (ide o maximalnu hlbku stromu)\n",
    "* criterion - zvolili sme bud gini alebo entropy (ide o funkciu na meranie kvality rozdelovania intervalov)\n",
    "* min sample leaf - zvolili sme interval <1, 5> (ide o minimalny pocet hodnot, ktore musi obsahovat kazdy list)\n",
    "* splitter - zvolili sme best alebo random (ide o strategiu rozdelovania pri kazdom uzle)\n",
    "* max_leaf_nodes - zvolili sme interval <20, 25> (ide o maximalny pocet listov, ktory moze mat jeden uzol)\n",
    "\n",
    "\n",
    "GridSearch sme si zvolili, aby sme odhalili najlepsie riesenie. Kedze teraz uz mame silny stroj (i7 8750H, 6 jadier, base speed 2.20GHz, max speed 4.1GHz) a nie su kladene podmienky na casovu narocnost. Vdaka tomu, ze si to mozeme dovolit, sme nevyuzili RandomSearch."
   ]
  },
  {
   "cell_type": "code",
   "execution_count": 60,
   "metadata": {},
   "outputs": [],
   "source": [
    "clf = DecisionTreeClassifier\n",
    "\n",
    "cv_params = {'max_depth': list(range(2,20,1)), 'criterion': ['gini', 'entropy'], 'min_samples_leaf': list(range(1,6,1)), 'splitter':  ['best', 'random'], 'max_leaf_nodes' : list(range(20,26,1))}\n",
    "ind_params = {'random_state': 0}\n",
    "optimization = GridSearchCV(clf(**ind_params), \n",
    "                            cv_params, \n",
    "                             scoring = 'f1_macro', cv = 10, n_jobs = -1, verbose=True)"
   ]
  },
  {
   "cell_type": "markdown",
   "metadata": {},
   "source": [
    "Rozdelili sme si trenovaci dataset a ten sme priradili do X a y. Pricom v X su data bez stplca 'class' a y obsahuje stlpec 'class' teda hodnoty, ktore chceme predikovat."
   ]
  },
  {
   "cell_type": "code",
   "execution_count": 61,
   "metadata": {},
   "outputs": [],
   "source": [
    "X = merged_data[merged_data.columns.difference(['class'])]\n",
    "y = merged_data['class']"
   ]
  },
  {
   "cell_type": "markdown",
   "metadata": {},
   "source": [
    "Natrenujeme si stromy, pricom skusame rozne parametre, ktore sme si zadefinovali v GridSearch. A taktiez sledujume cas tohto trenovania."
   ]
  },
  {
   "cell_type": "code",
   "execution_count": 62,
   "metadata": {},
   "outputs": [
    {
     "name": "stdout",
     "output_type": "stream",
     "text": [
      "Fitting 10 folds for each of 2160 candidates, totalling 21600 fits\n"
     ]
    },
    {
     "name": "stderr",
     "output_type": "stream",
     "text": [
      "[Parallel(n_jobs=-1)]: Using backend LokyBackend with 12 concurrent workers.\n",
      "[Parallel(n_jobs=-1)]: Done  40 tasks      | elapsed:    0.3s\n",
      "[Parallel(n_jobs=-1)]: Done 1240 tasks      | elapsed:    3.7s\n",
      "[Parallel(n_jobs=-1)]: Done 3240 tasks      | elapsed:   11.1s\n",
      "[Parallel(n_jobs=-1)]: Done 6040 tasks      | elapsed:   23.2s\n",
      "[Parallel(n_jobs=-1)]: Done 9640 tasks      | elapsed:   40.7s\n",
      "[Parallel(n_jobs=-1)]: Done 14040 tasks      | elapsed:  1.0min\n",
      "[Parallel(n_jobs=-1)]: Done 19240 tasks      | elapsed:  1.6min\n"
     ]
    },
    {
     "name": "stdout",
     "output_type": "stream",
     "text": [
      "Wall time: 1min 50s\n"
     ]
    },
    {
     "name": "stderr",
     "output_type": "stream",
     "text": [
      "[Parallel(n_jobs=-1)]: Done 21600 out of 21600 | elapsed:  1.8min finished\n"
     ]
    },
    {
     "data": {
      "text/plain": [
       "GridSearchCV(cv=10, error_score='raise-deprecating',\n",
       "             estimator=DecisionTreeClassifier(class_weight=None,\n",
       "                                              criterion='gini', max_depth=None,\n",
       "                                              max_features=None,\n",
       "                                              max_leaf_nodes=None,\n",
       "                                              min_impurity_decrease=0.0,\n",
       "                                              min_impurity_split=None,\n",
       "                                              min_samples_leaf=1,\n",
       "                                              min_samples_split=2,\n",
       "                                              min_weight_fraction_leaf=0.0,\n",
       "                                              presort=False, random_state=0,\n",
       "                                              splitter='best'),\n",
       "             iid='warn', n_jobs=-1,\n",
       "             param_grid={'criterion': ['gini', 'entropy'],\n",
       "                         'max_depth': [2, 3, 4, 5, 6, 7, 8, 9, 10, 11, 12, 13,\n",
       "                                       14, 15, 16, 17, 18, 19],\n",
       "                         'max_leaf_nodes': [20, 21, 22, 23, 24, 25],\n",
       "                         'min_samples_leaf': [1, 2, 3, 4, 5],\n",
       "                         'splitter': ['best', 'random']},\n",
       "             pre_dispatch='2*n_jobs', refit=True, return_train_score=False,\n",
       "             scoring='f1_macro', verbose=True)"
      ]
     },
     "execution_count": 62,
     "metadata": {},
     "output_type": "execute_result"
    }
   ],
   "source": [
    "%%time\n",
    "optimization.fit(X, y)"
   ]
  },
  {
   "cell_type": "markdown",
   "metadata": {},
   "source": [
    "Vdaka cv results mozeme vidiet jednotlive vysledky, ktore dosahuje GridSearch pri jednotlivych kombinaciach parametrov."
   ]
  },
  {
   "cell_type": "code",
   "execution_count": 63,
   "metadata": {},
   "outputs": [],
   "source": [
    "# optimization.cv_results_"
   ]
  },
  {
   "cell_type": "markdown",
   "metadata": {},
   "source": [
    "Zistime si parametre, ktore dosahuju najlepsie vysledky. Z tych, co sme zadali do GridSearch to su:\n",
    "* max depth = 7\n",
    "* criterion = entropy\n",
    "* min samples leaf = 2\n",
    "* splitter = random\n",
    "* max leaf nodes = 25\n",
    "\n",
    "\n",
    "Tato kombinacia parametrov dosiahla skore 94.56% na trenovacom datasete."
   ]
  },
  {
   "cell_type": "code",
   "execution_count": 64,
   "metadata": {},
   "outputs": [
    {
     "data": {
      "text/plain": [
       "DecisionTreeClassifier(class_weight=None, criterion='entropy', max_depth=7,\n",
       "                       max_features=None, max_leaf_nodes=25,\n",
       "                       min_impurity_decrease=0.0, min_impurity_split=None,\n",
       "                       min_samples_leaf=4, min_samples_split=2,\n",
       "                       min_weight_fraction_leaf=0.0, presort=False,\n",
       "                       random_state=0, splitter='random')"
      ]
     },
     "execution_count": 64,
     "metadata": {},
     "output_type": "execute_result"
    }
   ],
   "source": [
    "optimization.best_estimator_"
   ]
  },
  {
   "cell_type": "code",
   "execution_count": 65,
   "metadata": {},
   "outputs": [
    {
     "data": {
      "text/plain": [
       "0.9456087715868917"
      ]
     },
     "execution_count": 65,
     "metadata": {},
     "output_type": "execute_result"
    }
   ],
   "source": [
    "optimization.best_score_"
   ]
  },
  {
   "cell_type": "markdown",
   "metadata": {},
   "source": [
    "Najprv si rozdelime validacne data, rovnakym sposobom ako trenovacie."
   ]
  },
  {
   "cell_type": "code",
   "execution_count": 66,
   "metadata": {},
   "outputs": [],
   "source": [
    "X = val_merged_data[merged_data.columns.difference(['class'])]\n",
    "y = val_merged_data['class']"
   ]
  },
  {
   "cell_type": "markdown",
   "metadata": {},
   "source": [
    "Spustime predikciu nad validacnymi datami."
   ]
  },
  {
   "cell_type": "code",
   "execution_count": 67,
   "metadata": {},
   "outputs": [],
   "source": [
    "prediction = optimization.best_estimator_.predict(X)"
   ]
  },
  {
   "cell_type": "markdown",
   "metadata": {},
   "source": [
    "Hyperparametre, ktore boli optimalizovane pomocou GridSearch, naslednym vytvorenim stromu s tymito hyperparametrami sme dosiahli precision 95.5%, recall 94.4% a accuracy 96.1%.\n",
    "\n",
    "Skusali sme aj ine parametre \n",
    "* 'max_features': [4] (ide o pocet ficur, ktore sa zvazuju pri hladani najlepsieho rozdelenia)\n",
    "\n",
    "ktore vsak nijako neovplyvnili vysledok v pozitivny prospech, praveze ho zhorsili a dosiahli sme s nimi precision 90.9% a recall 89.4%.\n",
    "\n",
    "Po vyskusani odstranenia jednotlivych definovanych parametrov (min samples leaf, splitter) sa precision a recall nijako nezmenili, no pokial sme odstranili max leaf, precision nam klesla na 93.9% a recall velmi mierne stupol na 93.9%.\n",
    "\n"
   ]
  },
  {
   "cell_type": "code",
   "execution_count": 68,
   "metadata": {},
   "outputs": [
    {
     "name": "stdout",
     "output_type": "stream",
     "text": [
      "              precision    recall  f1-score   support\n",
      "\n",
      "         0.0      0.967     0.980     0.974       963\n",
      "         1.0      0.943     0.908     0.925       346\n",
      "\n",
      "    accuracy                          0.961      1309\n",
      "   macro avg      0.955     0.944     0.949      1309\n",
      "weighted avg      0.961     0.961     0.961      1309\n",
      "\n"
     ]
    }
   ],
   "source": [
    "print(classification_report(y ,prediction, digits=3))"
   ]
  }
 ],
 "metadata": {
  "kernelspec": {
   "display_name": "Python 3",
   "language": "python",
   "name": "python3"
  },
  "language_info": {
   "codemirror_mode": {
    "name": "ipython",
    "version": 3
   },
   "file_extension": ".py",
   "mimetype": "text/x-python",
   "name": "python",
   "nbconvert_exporter": "python",
   "pygments_lexer": "ipython3",
   "version": "3.7.3"
  },
  "pycharm": {
   "stem_cell": {
    "cell_type": "raw",
    "metadata": {
     "collapsed": false
    },
    "source": []
   }
  }
 },
 "nbformat": 4,
 "nbformat_minor": 4
}
