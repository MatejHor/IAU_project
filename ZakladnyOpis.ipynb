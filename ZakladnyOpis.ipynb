{
 "cells": [
  {
   "cell_type": "code",
   "execution_count": 1,
   "metadata": {
    "pycharm": {
     "is_executing": false,
     "name": "#%%\n"
    }
   },
   "outputs": [],
   "source": [
    "import pandas as pd\n",
    "import numpy as np\n",
    "import matplotlib.pyplot as plt\n",
    "import seaborn as sns"
   ]
  },
  {
   "cell_type": "code",
   "execution_count": 2,
   "metadata": {
    "pycharm": {
     "name": "#%%\n"
    }
   },
   "outputs": [
    {
     "data": {
      "text/plain": [
       "3983"
      ]
     },
     "execution_count": 2,
     "metadata": {},
     "output_type": "execute_result"
    }
   ],
   "source": [
    "data = pd.read_csv(\"./data/other_train.csv\",index_col=0)\n",
    "len(data)"
   ]
  },
  {
   "cell_type": "markdown",
   "metadata": {},
   "source": [
    "### V subore other_train.csv sa nachadza 3983 zaznamov"
   ]
  },
  {
   "cell_type": "code",
   "execution_count": 3,
   "metadata": {
    "pycharm": {
     "is_executing": false,
     "name": "#%%\n"
    }
   },
   "outputs": [
    {
     "data": {
      "text/plain": [
       "3933"
      ]
     },
     "execution_count": 3,
     "metadata": {},
     "output_type": "execute_result"
    }
   ],
   "source": [
    "person = pd.read_csv(\"./data/personal_train.csv\")\n",
    "len(person)"
   ]
  },
  {
   "cell_type": "markdown",
   "metadata": {},
   "source": [
    "### V subore personal_train.csv sa nachadza 3933 zaznamov"
   ]
  },
  {
   "cell_type": "code",
   "execution_count": 4,
   "metadata": {
    "pycharm": {
     "is_executing": false,
     "name": "#%% \n"
    }
   },
   "outputs": [
    {
     "data": {
      "text/html": [
       "<div>\n",
       "<style scoped>\n",
       "    .dataframe tbody tr th:only-of-type {\n",
       "        vertical-align: middle;\n",
       "    }\n",
       "\n",
       "    .dataframe tbody tr th {\n",
       "        vertical-align: top;\n",
       "    }\n",
       "\n",
       "    .dataframe thead th {\n",
       "        text-align: right;\n",
       "    }\n",
       "</style>\n",
       "<table border=\"1\" class=\"dataframe\">\n",
       "  <thead>\n",
       "    <tr style=\"text-align: right;\">\n",
       "      <th></th>\n",
       "      <th>name</th>\n",
       "      <th>address</th>\n",
       "      <th>race</th>\n",
       "      <th>marital-status</th>\n",
       "      <th>occupation</th>\n",
       "      <th>pregnant</th>\n",
       "      <th>education-num</th>\n",
       "      <th>relationship</th>\n",
       "      <th>capital-gain</th>\n",
       "      <th>education</th>\n",
       "      <th>...</th>\n",
       "      <th>capital-loss</th>\n",
       "      <th>workclass</th>\n",
       "      <th>mean_glucose</th>\n",
       "      <th>std_glucose</th>\n",
       "      <th>kurtosis_glucose</th>\n",
       "      <th>skewness_glucose</th>\n",
       "      <th>mean_oxygen</th>\n",
       "      <th>std_oxygen</th>\n",
       "      <th>kurtosis_oxygen</th>\n",
       "      <th>skewness_oxygen</th>\n",
       "    </tr>\n",
       "  </thead>\n",
       "  <tbody>\n",
       "    <tr>\n",
       "      <td>0</td>\n",
       "      <td>Clarence Rodriguez</td>\n",
       "      <td>6931 Anthony Island\\r\\nTaylorland, NH 14540</td>\n",
       "      <td>White</td>\n",
       "      <td>Married-civ-spouse</td>\n",
       "      <td>Craft-repair</td>\n",
       "      <td>f</td>\n",
       "      <td>9.0</td>\n",
       "      <td>Husband</td>\n",
       "      <td>0.0</td>\n",
       "      <td>HS-grad</td>\n",
       "      <td>...</td>\n",
       "      <td>0.0</td>\n",
       "      <td>Private</td>\n",
       "      <td>117.507812</td>\n",
       "      <td>40.788516</td>\n",
       "      <td>0.125276</td>\n",
       "      <td>0.773516</td>\n",
       "      <td>2.785953</td>\n",
       "      <td>16.660218</td>\n",
       "      <td>8.165360</td>\n",
       "      <td>82.956766</td>\n",
       "    </tr>\n",
       "    <tr>\n",
       "      <td>1</td>\n",
       "      <td>Manuel Boyd</td>\n",
       "      <td>50488 Timothy Knolls\\r\\nNorth Brittanyborough,...</td>\n",
       "      <td>Black</td>\n",
       "      <td>Never-married</td>\n",
       "      <td>Sales</td>\n",
       "      <td>f</td>\n",
       "      <td>10.0</td>\n",
       "      <td>Own-child</td>\n",
       "      <td>0.0</td>\n",
       "      <td>Some-college</td>\n",
       "      <td>...</td>\n",
       "      <td>0.0</td>\n",
       "      <td>??</td>\n",
       "      <td>16.539062</td>\n",
       "      <td>42.744865</td>\n",
       "      <td>3.968126</td>\n",
       "      <td>15.398741</td>\n",
       "      <td>109.183110</td>\n",
       "      <td>53.137096</td>\n",
       "      <td>0.871271</td>\n",
       "      <td>0.488218</td>\n",
       "    </tr>\n",
       "    <tr>\n",
       "      <td>2</td>\n",
       "      <td>Charles Arthur</td>\n",
       "      <td>247 Johnson Roads Apt. 514\\r\\nPort Sarahton, W...</td>\n",
       "      <td>White</td>\n",
       "      <td>Married-civ-spouse</td>\n",
       "      <td>Handlers-cleaners</td>\n",
       "      <td>F</td>\n",
       "      <td>10.0</td>\n",
       "      <td>Husband</td>\n",
       "      <td>0.0</td>\n",
       "      <td>Some-college</td>\n",
       "      <td>...</td>\n",
       "      <td>0.0</td>\n",
       "      <td>Private</td>\n",
       "      <td>126.617188</td>\n",
       "      <td>49.077764</td>\n",
       "      <td>0.193887</td>\n",
       "      <td>0.162133</td>\n",
       "      <td>2.232441</td>\n",
       "      <td>15.860211</td>\n",
       "      <td>8.937473</td>\n",
       "      <td>95.093257</td>\n",
       "    </tr>\n",
       "    <tr>\n",
       "      <td>3</td>\n",
       "      <td>Carl Dobransky</td>\n",
       "      <td>102 Taylor Trace\\r\\nNew Jennifer, RI 87597</td>\n",
       "      <td>White</td>\n",
       "      <td>Never-married</td>\n",
       "      <td>Exec-managerial</td>\n",
       "      <td>f</td>\n",
       "      <td>13.0</td>\n",
       "      <td>Not-in-family</td>\n",
       "      <td>0.0</td>\n",
       "      <td>Bachelors</td>\n",
       "      <td>...</td>\n",
       "      <td>0.0</td>\n",
       "      <td>Private</td>\n",
       "      <td>132.773438</td>\n",
       "      <td>45.895808</td>\n",
       "      <td>0.201450</td>\n",
       "      <td>0.087837</td>\n",
       "      <td>0.522575</td>\n",
       "      <td>9.779098</td>\n",
       "      <td>20.979174</td>\n",
       "      <td>474.263227</td>\n",
       "    </tr>\n",
       "    <tr>\n",
       "      <td>4</td>\n",
       "      <td>Thomas Oconnor</td>\n",
       "      <td>USNV Skinner\\r\\nFPO AE 19822</td>\n",
       "      <td>White</td>\n",
       "      <td>Married-civ-spouse</td>\n",
       "      <td>Craft-repair</td>\n",
       "      <td>FALSE</td>\n",
       "      <td>7.0</td>\n",
       "      <td>Husband</td>\n",
       "      <td>0.0</td>\n",
       "      <td>11th</td>\n",
       "      <td>...</td>\n",
       "      <td>0.0</td>\n",
       "      <td>Private</td>\n",
       "      <td>100.656250</td>\n",
       "      <td>45.964225</td>\n",
       "      <td>0.350437</td>\n",
       "      <td>0.282474</td>\n",
       "      <td>10.305184</td>\n",
       "      <td>38.965850</td>\n",
       "      <td>3.937302</td>\n",
       "      <td>15.001139</td>\n",
       "    </tr>\n",
       "    <tr>\n",
       "      <td>...</td>\n",
       "      <td>...</td>\n",
       "      <td>...</td>\n",
       "      <td>...</td>\n",
       "      <td>...</td>\n",
       "      <td>...</td>\n",
       "      <td>...</td>\n",
       "      <td>...</td>\n",
       "      <td>...</td>\n",
       "      <td>...</td>\n",
       "      <td>...</td>\n",
       "      <td>...</td>\n",
       "      <td>...</td>\n",
       "      <td>...</td>\n",
       "      <td>...</td>\n",
       "      <td>...</td>\n",
       "      <td>...</td>\n",
       "      <td>...</td>\n",
       "      <td>...</td>\n",
       "      <td>...</td>\n",
       "      <td>...</td>\n",
       "      <td>...</td>\n",
       "    </tr>\n",
       "    <tr>\n",
       "      <td>3978</td>\n",
       "      <td>Michael Gibbs</td>\n",
       "      <td>16431 Nelson Estate\\r\\nEast Samanthaberg, MN 6...</td>\n",
       "      <td>White</td>\n",
       "      <td>Never-married</td>\n",
       "      <td>Farming-fishing</td>\n",
       "      <td>f</td>\n",
       "      <td>9.0</td>\n",
       "      <td>Unmarried</td>\n",
       "      <td>0.0</td>\n",
       "      <td>HS-grad</td>\n",
       "      <td>...</td>\n",
       "      <td>0.0</td>\n",
       "      <td>Self-emp-not-inc</td>\n",
       "      <td>92.031250</td>\n",
       "      <td>39.015609</td>\n",
       "      <td>0.694631</td>\n",
       "      <td>1.746994</td>\n",
       "      <td>2.987458</td>\n",
       "      <td>16.477481</td>\n",
       "      <td>7.788552</td>\n",
       "      <td>76.894261</td>\n",
       "    </tr>\n",
       "    <tr>\n",
       "      <td>3979</td>\n",
       "      <td>Ronald Nolasco</td>\n",
       "      <td>588 Timothy Field\\r\\nSteveville, TX 56369</td>\n",
       "      <td>NaN</td>\n",
       "      <td>NaN</td>\n",
       "      <td>Exec-managerial</td>\n",
       "      <td>NaN</td>\n",
       "      <td>13.0</td>\n",
       "      <td>Not_in_family</td>\n",
       "      <td>0.0</td>\n",
       "      <td>Bachelors</td>\n",
       "      <td>...</td>\n",
       "      <td>NaN</td>\n",
       "      <td>Private</td>\n",
       "      <td>172.562500</td>\n",
       "      <td>43.713154</td>\n",
       "      <td>-0.921974</td>\n",
       "      <td>1.363436</td>\n",
       "      <td>96.241639</td>\n",
       "      <td>104.775493</td>\n",
       "      <td>0.424477</td>\n",
       "      <td>-1.619877</td>\n",
       "    </tr>\n",
       "    <tr>\n",
       "      <td>3980</td>\n",
       "      <td>Daniel Bell</td>\n",
       "      <td>78234 Emily Oval\\r\\nPort Michaelport, OR 24683</td>\n",
       "      <td>White</td>\n",
       "      <td>Married-civ-spouse</td>\n",
       "      <td>Craft-repair</td>\n",
       "      <td>f</td>\n",
       "      <td>12.0</td>\n",
       "      <td>Husband</td>\n",
       "      <td>0.0</td>\n",
       "      <td>Assoc-acdm</td>\n",
       "      <td>...</td>\n",
       "      <td>0.0</td>\n",
       "      <td>Private</td>\n",
       "      <td>118.273438</td>\n",
       "      <td>50.283993</td>\n",
       "      <td>0.044799</td>\n",
       "      <td>-0.108468</td>\n",
       "      <td>4.069398</td>\n",
       "      <td>19.225411</td>\n",
       "      <td>6.443271</td>\n",
       "      <td>52.803754</td>\n",
       "    </tr>\n",
       "    <tr>\n",
       "      <td>3981</td>\n",
       "      <td>Joshua Goodwin</td>\n",
       "      <td>PSC 4150, Box 2967\\r\\nAPO AA 04681</td>\n",
       "      <td>White</td>\n",
       "      <td>Never-married</td>\n",
       "      <td>Prof-specialty</td>\n",
       "      <td>FALSE</td>\n",
       "      <td>13.0</td>\n",
       "      <td>Not-in-family</td>\n",
       "      <td>0.0</td>\n",
       "      <td>Bachelors</td>\n",
       "      <td>...</td>\n",
       "      <td>0.0</td>\n",
       "      <td>Private</td>\n",
       "      <td>123.960938</td>\n",
       "      <td>56.225606</td>\n",
       "      <td>0.290871</td>\n",
       "      <td>-0.392737</td>\n",
       "      <td>2.253344</td>\n",
       "      <td>17.119349</td>\n",
       "      <td>8.930296</td>\n",
       "      <td>90.443459</td>\n",
       "    </tr>\n",
       "    <tr>\n",
       "      <td>3982</td>\n",
       "      <td>Howard Benally</td>\n",
       "      <td>060 Harris Overpass\\r\\nPort Justinborough, IL ...</td>\n",
       "      <td>Black</td>\n",
       "      <td>Never-married</td>\n",
       "      <td>Exec-managerial</td>\n",
       "      <td>FALSE</td>\n",
       "      <td>10.0</td>\n",
       "      <td>Not_in_family</td>\n",
       "      <td>0.0</td>\n",
       "      <td>Some-college</td>\n",
       "      <td>...</td>\n",
       "      <td>0.0</td>\n",
       "      <td>Private</td>\n",
       "      <td>115.617188</td>\n",
       "      <td>45.449684</td>\n",
       "      <td>0.284368</td>\n",
       "      <td>-0.008721</td>\n",
       "      <td>2.164716</td>\n",
       "      <td>14.733943</td>\n",
       "      <td>9.668452</td>\n",
       "      <td>117.340668</td>\n",
       "    </tr>\n",
       "  </tbody>\n",
       "</table>\n",
       "<p>3983 rows × 26 columns</p>\n",
       "</div>"
      ],
      "text/plain": [
       "                    name                                            address  \\\n",
       "0     Clarence Rodriguez        6931 Anthony Island\\r\\nTaylorland, NH 14540   \n",
       "1            Manuel Boyd  50488 Timothy Knolls\\r\\nNorth Brittanyborough,...   \n",
       "2         Charles Arthur  247 Johnson Roads Apt. 514\\r\\nPort Sarahton, W...   \n",
       "3         Carl Dobransky         102 Taylor Trace\\r\\nNew Jennifer, RI 87597   \n",
       "4         Thomas Oconnor                       USNV Skinner\\r\\nFPO AE 19822   \n",
       "...                  ...                                                ...   \n",
       "3978       Michael Gibbs  16431 Nelson Estate\\r\\nEast Samanthaberg, MN 6...   \n",
       "3979      Ronald Nolasco          588 Timothy Field\\r\\nSteveville, TX 56369   \n",
       "3980         Daniel Bell     78234 Emily Oval\\r\\nPort Michaelport, OR 24683   \n",
       "3981      Joshua Goodwin                 PSC 4150, Box 2967\\r\\nAPO AA 04681   \n",
       "3982      Howard Benally  060 Harris Overpass\\r\\nPort Justinborough, IL ...   \n",
       "\n",
       "        race       marital-status          occupation pregnant  education-num  \\\n",
       "0      White   Married-civ-spouse        Craft-repair        f            9.0   \n",
       "1      Black        Never-married               Sales        f           10.0   \n",
       "2      White   Married-civ-spouse   Handlers-cleaners        F           10.0   \n",
       "3      White        Never-married     Exec-managerial        f           13.0   \n",
       "4      White   Married-civ-spouse        Craft-repair    FALSE            7.0   \n",
       "...      ...                  ...                 ...      ...            ...   \n",
       "3978   White        Never-married     Farming-fishing        f            9.0   \n",
       "3979     NaN                  NaN     Exec-managerial      NaN           13.0   \n",
       "3980   White   Married-civ-spouse        Craft-repair        f           12.0   \n",
       "3981   White        Never-married      Prof-specialty    FALSE           13.0   \n",
       "3982   Black        Never-married     Exec-managerial    FALSE           10.0   \n",
       "\n",
       "        relationship  capital-gain      education  ...  capital-loss  \\\n",
       "0            Husband           0.0        HS-grad  ...           0.0   \n",
       "1          Own-child           0.0   Some-college  ...           0.0   \n",
       "2            Husband           0.0   Some-college  ...           0.0   \n",
       "3      Not-in-family           0.0      Bachelors  ...           0.0   \n",
       "4            Husband           0.0           11th  ...           0.0   \n",
       "...              ...           ...            ...  ...           ...   \n",
       "3978       Unmarried           0.0        HS-grad  ...           0.0   \n",
       "3979   Not_in_family           0.0      Bachelors  ...           NaN   \n",
       "3980         Husband           0.0     Assoc-acdm  ...           0.0   \n",
       "3981   Not-in-family           0.0      Bachelors  ...           0.0   \n",
       "3982   Not_in_family           0.0   Some-college  ...           0.0   \n",
       "\n",
       "              workclass mean_glucose std_glucose kurtosis_glucose  \\\n",
       "0               Private   117.507812   40.788516         0.125276   \n",
       "1                    ??    16.539062   42.744865         3.968126   \n",
       "2               Private   126.617188   49.077764         0.193887   \n",
       "3               Private   132.773438   45.895808         0.201450   \n",
       "4               Private   100.656250   45.964225         0.350437   \n",
       "...                 ...          ...         ...              ...   \n",
       "3978   Self-emp-not-inc    92.031250   39.015609         0.694631   \n",
       "3979            Private   172.562500   43.713154        -0.921974   \n",
       "3980            Private   118.273438   50.283993         0.044799   \n",
       "3981            Private   123.960938   56.225606         0.290871   \n",
       "3982            Private   115.617188   45.449684         0.284368   \n",
       "\n",
       "      skewness_glucose  mean_oxygen  std_oxygen  kurtosis_oxygen  \\\n",
       "0             0.773516     2.785953   16.660218         8.165360   \n",
       "1            15.398741   109.183110   53.137096         0.871271   \n",
       "2             0.162133     2.232441   15.860211         8.937473   \n",
       "3             0.087837     0.522575    9.779098        20.979174   \n",
       "4             0.282474    10.305184   38.965850         3.937302   \n",
       "...                ...          ...         ...              ...   \n",
       "3978          1.746994     2.987458   16.477481         7.788552   \n",
       "3979          1.363436    96.241639  104.775493         0.424477   \n",
       "3980         -0.108468     4.069398   19.225411         6.443271   \n",
       "3981         -0.392737     2.253344   17.119349         8.930296   \n",
       "3982         -0.008721     2.164716   14.733943         9.668452   \n",
       "\n",
       "      skewness_oxygen  \n",
       "0           82.956766  \n",
       "1            0.488218  \n",
       "2           95.093257  \n",
       "3          474.263227  \n",
       "4           15.001139  \n",
       "...               ...  \n",
       "3978        76.894261  \n",
       "3979        -1.619877  \n",
       "3980        52.803754  \n",
       "3981        90.443459  \n",
       "3982       117.340668  \n",
       "\n",
       "[3983 rows x 26 columns]"
      ]
     },
     "execution_count": 4,
     "metadata": {},
     "output_type": "execute_result"
    }
   ],
   "source": [
    "import json\n",
    "# Vyvorenie pola do kt. pojdu vsetky parsnute JSONy\n",
    "dict_array = []\n",
    "# Nulovy JSON\n",
    "string = '{\"mean_glucose\":0,\"std_glucose\":0,\"kurtosis_glucose\":0,\"skewness_glucose\":0,\"mean_oxygen\":0,\"std_oxygen\":0,\"kurtosis_oxygen\":0,\"skewness_oxygen\":0}'\n",
    "# Nacitanie JSON parsnutie ' na \" a nahradenie nulovych hodnot v medical info\n",
    "data.medical_info.apply(lambda x: dict_array.append(json.loads(x.replace(\"'\",\"\\\"\").replace(\":\\\"\",\":\").replace(\"\\\",\",\",\").replace(\"\\\"}\",\"}\") if isinstance(x,str) else string)))\n",
    "medical_datas = pd.DataFrame(dict_array)\n",
    "\n",
    "# Pridanie novych stlpcov do povodneho DataFramu, pricom vsetky vieme zmenit na float\n",
    "for item in medical_datas:\n",
    "    data[item] = medical_datas[item].astype(float)\n",
    "    \n",
    "len(data.columns)\n",
    "data"
   ]
  },
  {
   "cell_type": "code",
   "execution_count": 5,
   "metadata": {
    "pycharm": {
     "is_executing": false,
     "name": "#%% \n"
    }
   },
   "outputs": [],
   "source": [
    "# Vytvoremoe noveho suboru aby sme parsovat nemuseli zakazdym\n",
    "\n",
    "data = data.drop(columns=['medical_info'])\n",
    "data.to_csv(\"modify_other_train.csv\")"
   ]
  },
  {
   "cell_type": "code",
   "execution_count": 18,
   "metadata": {
    "pycharm": {
     "is_executing": false,
     "name": "#%%\n"
    }
   },
   "outputs": [
    {
     "name": "stdout",
     "output_type": "stream",
     "text": [
      "name type return <class 'str'>\n",
      "address type return <class 'str'>\n",
      "race type return <class 'str'>\n",
      "marital-status type return <class 'str'>\n",
      "occupation type return <class 'str'>\n",
      "pregnant type return <class 'str'>\n",
      "education-num type return <class 'numpy.float64'>\n",
      "relationship type return <class 'str'>\n",
      "capital-gain type return <class 'numpy.float64'>\n",
      "education type return <class 'str'>\n",
      "fnlwgt type return <class 'numpy.float64'>\n",
      "class type return <class 'numpy.float64'>\n",
      "income type return <class 'str'>\n",
      "native-country type return <class 'str'>\n",
      "hours-per-week type return <class 'numpy.float64'>\n",
      "capital-loss type return <class 'numpy.float64'>\n",
      "workclass type return <class 'str'>\n",
      "mean_glucose type return <class 'numpy.float64'>\n",
      "std_glucose type return <class 'numpy.float64'>\n",
      "kurtosis_glucose type return <class 'numpy.float64'>\n",
      "skewness_glucose type return <class 'numpy.float64'>\n",
      "mean_oxygen type return <class 'numpy.float64'>\n",
      "std_oxygen type return <class 'numpy.float64'>\n",
      "kurtosis_oxygen type return <class 'numpy.float64'>\n",
      "skewness_oxygen type return <class 'numpy.float64'>\n",
      "\n",
      "\n",
      "<class 'pandas.core.frame.DataFrame'>\n",
      "Int64Index: 3983 entries, 0 to 3982\n",
      "Data columns (total 25 columns):\n",
      "name                3983 non-null object\n",
      "address             3983 non-null object\n",
      "race                3970 non-null object\n",
      "marital-status      3965 non-null object\n",
      "occupation          3962 non-null object\n",
      "pregnant            3961 non-null object\n",
      "education-num       3962 non-null float64\n",
      "relationship        3967 non-null object\n",
      "capital-gain        3970 non-null float64\n",
      "education           3967 non-null object\n",
      "fnlwgt              3966 non-null float64\n",
      "class               3966 non-null float64\n",
      "income              3965 non-null object\n",
      "native-country      3967 non-null object\n",
      "hours-per-week      3968 non-null float64\n",
      "capital-loss        3969 non-null float64\n",
      "workclass           3683 non-null object\n",
      "mean_glucose        3983 non-null float64\n",
      "std_glucose         3983 non-null float64\n",
      "kurtosis_glucose    3983 non-null float64\n",
      "skewness_glucose    3983 non-null float64\n",
      "mean_oxygen         3983 non-null float64\n",
      "std_oxygen          3983 non-null float64\n",
      "kurtosis_oxygen     3983 non-null float64\n",
      "skewness_oxygen     3983 non-null float64\n",
      "dtypes: float64(14), object(11)\n",
      "memory usage: 969.0+ KB\n"
     ]
    }
   ],
   "source": [
    "# Zistenie skutocneho Datoveho typu stlpcov\n",
    "for item in data:\n",
    "    print(\"{} type return {}\".format(item,type(data[item][0])))\n",
    "    \n",
    "print('\\n')\n",
    "    \n",
    "# Typ kt. nam vypise pandas\n",
    "data.info()"
   ]
  },
  {
   "cell_type": "markdown",
   "metadata": {
    "pycharm": {
     "name": "#%% md\n"
    }
   },
   "source": [
    "### Subor other_train.csv obsahuje 25 atributov pricom 14 z nich je float64(numpy) a 11 z nich su objekty(str)\n"
   ]
  },
  {
   "cell_type": "code",
   "execution_count": 7,
   "metadata": {
    "pycharm": {
     "name": "#%%\n"
    }
   },
   "outputs": [
    {
     "name": "stdout",
     "output_type": "stream",
     "text": [
      "<class 'pandas.core.frame.DataFrame'>\n",
      "RangeIndex: 3933 entries, 0 to 3932\n",
      "Data columns (total 6 columns):\n",
      "Unnamed: 0       3933 non-null int64\n",
      "name             3933 non-null object\n",
      "address          3933 non-null object\n",
      "age              3540 non-null float64\n",
      "sex              3933 non-null object\n",
      "date_of_birth    3933 non-null object\n",
      "dtypes: float64(1), int64(1), object(4)\n",
      "memory usage: 184.5+ KB\n"
     ]
    }
   ],
   "source": [
    "person.info()"
   ]
  },
  {
   "cell_type": "markdown",
   "metadata": {
    "pycharm": {
     "name": "#%% md\n"
    }
   },
   "source": [
    "### Subor person_train.csv obsahuje 6 atributov pricom 1 z nich je float64(numpy) a 4 z nich su objeckty(str) a 1 je datum"
   ]
  },
  {
   "cell_type": "code",
   "execution_count": 8,
   "metadata": {
    "pycharm": {
     "is_executing": false,
     "name": "#%%\n"
    }
   },
   "outputs": [
    {
     "data": {
      "text/html": [
       "<div>\n",
       "<style scoped>\n",
       "    .dataframe tbody tr th:only-of-type {\n",
       "        vertical-align: middle;\n",
       "    }\n",
       "\n",
       "    .dataframe tbody tr th {\n",
       "        vertical-align: top;\n",
       "    }\n",
       "\n",
       "    .dataframe thead th {\n",
       "        text-align: right;\n",
       "    }\n",
       "</style>\n",
       "<table border=\"1\" class=\"dataframe\">\n",
       "  <thead>\n",
       "    <tr style=\"text-align: right;\">\n",
       "      <th></th>\n",
       "      <th>name</th>\n",
       "      <th>address</th>\n",
       "      <th>race</th>\n",
       "      <th>marital-status</th>\n",
       "      <th>occupation</th>\n",
       "      <th>pregnant</th>\n",
       "      <th>education-num</th>\n",
       "      <th>relationship</th>\n",
       "      <th>capital-gain</th>\n",
       "      <th>education</th>\n",
       "      <th>...</th>\n",
       "      <th>capital-loss</th>\n",
       "      <th>workclass</th>\n",
       "      <th>mean_glucose</th>\n",
       "      <th>std_glucose</th>\n",
       "      <th>kurtosis_glucose</th>\n",
       "      <th>skewness_glucose</th>\n",
       "      <th>mean_oxygen</th>\n",
       "      <th>std_oxygen</th>\n",
       "      <th>kurtosis_oxygen</th>\n",
       "      <th>skewness_oxygen</th>\n",
       "    </tr>\n",
       "  </thead>\n",
       "  <tbody>\n",
       "    <tr>\n",
       "      <td>count</td>\n",
       "      <td>3983</td>\n",
       "      <td>3983</td>\n",
       "      <td>3970</td>\n",
       "      <td>3965</td>\n",
       "      <td>3962</td>\n",
       "      <td>3961</td>\n",
       "      <td>3962.00000</td>\n",
       "      <td>3967</td>\n",
       "      <td>3970.000000</td>\n",
       "      <td>3967</td>\n",
       "      <td>...</td>\n",
       "      <td>3969.000000</td>\n",
       "      <td>3683</td>\n",
       "      <td>3983.000000</td>\n",
       "      <td>3983.000000</td>\n",
       "      <td>3983.000000</td>\n",
       "      <td>3983.000000</td>\n",
       "      <td>3983.000000</td>\n",
       "      <td>3983.000000</td>\n",
       "      <td>3983.000000</td>\n",
       "      <td>3983.000000</td>\n",
       "    </tr>\n",
       "    <tr>\n",
       "      <td>unique</td>\n",
       "      <td>3933</td>\n",
       "      <td>3933</td>\n",
       "      <td>5</td>\n",
       "      <td>6</td>\n",
       "      <td>15</td>\n",
       "      <td>6</td>\n",
       "      <td>NaN</td>\n",
       "      <td>9</td>\n",
       "      <td>NaN</td>\n",
       "      <td>16</td>\n",
       "      <td>...</td>\n",
       "      <td>NaN</td>\n",
       "      <td>9</td>\n",
       "      <td>NaN</td>\n",
       "      <td>NaN</td>\n",
       "      <td>NaN</td>\n",
       "      <td>NaN</td>\n",
       "      <td>NaN</td>\n",
       "      <td>NaN</td>\n",
       "      <td>NaN</td>\n",
       "      <td>NaN</td>\n",
       "    </tr>\n",
       "    <tr>\n",
       "      <td>top</td>\n",
       "      <td>James Menzies</td>\n",
       "      <td>455 Amber Freeway\\r\\nWest Timothyland, RI 32037</td>\n",
       "      <td>White</td>\n",
       "      <td>Married-civ-spouse</td>\n",
       "      <td>Craft-repair</td>\n",
       "      <td>f</td>\n",
       "      <td>NaN</td>\n",
       "      <td>Husband</td>\n",
       "      <td>NaN</td>\n",
       "      <td>HS-grad</td>\n",
       "      <td>...</td>\n",
       "      <td>NaN</td>\n",
       "      <td>Private</td>\n",
       "      <td>NaN</td>\n",
       "      <td>NaN</td>\n",
       "      <td>NaN</td>\n",
       "      <td>NaN</td>\n",
       "      <td>NaN</td>\n",
       "      <td>NaN</td>\n",
       "      <td>NaN</td>\n",
       "      <td>NaN</td>\n",
       "    </tr>\n",
       "    <tr>\n",
       "      <td>freq</td>\n",
       "      <td>3</td>\n",
       "      <td>3</td>\n",
       "      <td>3398</td>\n",
       "      <td>1830</td>\n",
       "      <td>547</td>\n",
       "      <td>3494</td>\n",
       "      <td>NaN</td>\n",
       "      <td>1615</td>\n",
       "      <td>NaN</td>\n",
       "      <td>1306</td>\n",
       "      <td>...</td>\n",
       "      <td>NaN</td>\n",
       "      <td>2518</td>\n",
       "      <td>NaN</td>\n",
       "      <td>NaN</td>\n",
       "      <td>NaN</td>\n",
       "      <td>NaN</td>\n",
       "      <td>NaN</td>\n",
       "      <td>NaN</td>\n",
       "      <td>NaN</td>\n",
       "      <td>NaN</td>\n",
       "    </tr>\n",
       "    <tr>\n",
       "      <td>mean</td>\n",
       "      <td>NaN</td>\n",
       "      <td>NaN</td>\n",
       "      <td>NaN</td>\n",
       "      <td>NaN</td>\n",
       "      <td>NaN</td>\n",
       "      <td>NaN</td>\n",
       "      <td>10.05477</td>\n",
       "      <td>NaN</td>\n",
       "      <td>1240.338539</td>\n",
       "      <td>NaN</td>\n",
       "      <td>...</td>\n",
       "      <td>91.746536</td>\n",
       "      <td>NaN</td>\n",
       "      <td>100.813059</td>\n",
       "      <td>44.952091</td>\n",
       "      <td>0.946830</td>\n",
       "      <td>4.202553</td>\n",
       "      <td>18.388082</td>\n",
       "      <td>31.014362</td>\n",
       "      <td>7.377900</td>\n",
       "      <td>90.889854</td>\n",
       "    </tr>\n",
       "    <tr>\n",
       "      <td>std</td>\n",
       "      <td>NaN</td>\n",
       "      <td>NaN</td>\n",
       "      <td>NaN</td>\n",
       "      <td>NaN</td>\n",
       "      <td>NaN</td>\n",
       "      <td>NaN</td>\n",
       "      <td>2.58377</td>\n",
       "      <td>NaN</td>\n",
       "      <td>8300.936903</td>\n",
       "      <td>NaN</td>\n",
       "      <td>...</td>\n",
       "      <td>412.307694</td>\n",
       "      <td>NaN</td>\n",
       "      <td>34.235192</td>\n",
       "      <td>8.203270</td>\n",
       "      <td>1.609436</td>\n",
       "      <td>9.657077</td>\n",
       "      <td>34.717117</td>\n",
       "      <td>22.342098</td>\n",
       "      <td>4.828623</td>\n",
       "      <td>108.481276</td>\n",
       "    </tr>\n",
       "    <tr>\n",
       "      <td>min</td>\n",
       "      <td>NaN</td>\n",
       "      <td>NaN</td>\n",
       "      <td>NaN</td>\n",
       "      <td>NaN</td>\n",
       "      <td>NaN</td>\n",
       "      <td>NaN</td>\n",
       "      <td>1.00000</td>\n",
       "      <td>NaN</td>\n",
       "      <td>0.000000</td>\n",
       "      <td>NaN</td>\n",
       "      <td>...</td>\n",
       "      <td>0.000000</td>\n",
       "      <td>NaN</td>\n",
       "      <td>0.000000</td>\n",
       "      <td>0.000000</td>\n",
       "      <td>-1.641515</td>\n",
       "      <td>-1.755332</td>\n",
       "      <td>0.000000</td>\n",
       "      <td>0.000000</td>\n",
       "      <td>-2.597872</td>\n",
       "      <td>-1.976976</td>\n",
       "    </tr>\n",
       "    <tr>\n",
       "      <td>25%</td>\n",
       "      <td>NaN</td>\n",
       "      <td>NaN</td>\n",
       "      <td>NaN</td>\n",
       "      <td>NaN</td>\n",
       "      <td>NaN</td>\n",
       "      <td>NaN</td>\n",
       "      <td>9.00000</td>\n",
       "      <td>NaN</td>\n",
       "      <td>0.000000</td>\n",
       "      <td>NaN</td>\n",
       "      <td>...</td>\n",
       "      <td>0.000000</td>\n",
       "      <td>NaN</td>\n",
       "      <td>87.292969</td>\n",
       "      <td>40.050403</td>\n",
       "      <td>0.067006</td>\n",
       "      <td>-0.118707</td>\n",
       "      <td>2.050167</td>\n",
       "      <td>14.999759</td>\n",
       "      <td>3.562240</td>\n",
       "      <td>11.840094</td>\n",
       "    </tr>\n",
       "    <tr>\n",
       "      <td>50%</td>\n",
       "      <td>NaN</td>\n",
       "      <td>NaN</td>\n",
       "      <td>NaN</td>\n",
       "      <td>NaN</td>\n",
       "      <td>NaN</td>\n",
       "      <td>NaN</td>\n",
       "      <td>10.00000</td>\n",
       "      <td>NaN</td>\n",
       "      <td>0.000000</td>\n",
       "      <td>NaN</td>\n",
       "      <td>...</td>\n",
       "      <td>0.000000</td>\n",
       "      <td>NaN</td>\n",
       "      <td>110.570312</td>\n",
       "      <td>45.820717</td>\n",
       "      <td>0.308703</td>\n",
       "      <td>0.369527</td>\n",
       "      <td>3.209866</td>\n",
       "      <td>20.400828</td>\n",
       "      <td>7.760264</td>\n",
       "      <td>68.127714</td>\n",
       "    </tr>\n",
       "    <tr>\n",
       "      <td>75%</td>\n",
       "      <td>NaN</td>\n",
       "      <td>NaN</td>\n",
       "      <td>NaN</td>\n",
       "      <td>NaN</td>\n",
       "      <td>NaN</td>\n",
       "      <td>NaN</td>\n",
       "      <td>12.00000</td>\n",
       "      <td>NaN</td>\n",
       "      <td>0.000000</td>\n",
       "      <td>NaN</td>\n",
       "      <td>...</td>\n",
       "      <td>0.000000</td>\n",
       "      <td>NaN</td>\n",
       "      <td>124.128906</td>\n",
       "      <td>50.334942</td>\n",
       "      <td>0.770071</td>\n",
       "      <td>2.074858</td>\n",
       "      <td>12.604515</td>\n",
       "      <td>43.109566</td>\n",
       "      <td>10.258696</td>\n",
       "      <td>126.817691</td>\n",
       "    </tr>\n",
       "    <tr>\n",
       "      <td>max</td>\n",
       "      <td>NaN</td>\n",
       "      <td>NaN</td>\n",
       "      <td>NaN</td>\n",
       "      <td>NaN</td>\n",
       "      <td>NaN</td>\n",
       "      <td>NaN</td>\n",
       "      <td>16.00000</td>\n",
       "      <td>NaN</td>\n",
       "      <td>99999.000000</td>\n",
       "      <td>NaN</td>\n",
       "      <td>...</td>\n",
       "      <td>2824.000000</td>\n",
       "      <td>NaN</td>\n",
       "      <td>189.734375</td>\n",
       "      <td>91.206475</td>\n",
       "      <td>8.069522</td>\n",
       "      <td>68.101622</td>\n",
       "      <td>217.371238</td>\n",
       "      <td>110.642211</td>\n",
       "      <td>34.539844</td>\n",
       "      <td>1191.000837</td>\n",
       "    </tr>\n",
       "  </tbody>\n",
       "</table>\n",
       "<p>11 rows × 25 columns</p>\n",
       "</div>"
      ],
      "text/plain": [
       "                 name                                          address  \\\n",
       "count            3983                                             3983   \n",
       "unique           3933                                             3933   \n",
       "top     James Menzies  455 Amber Freeway\\r\\nWest Timothyland, RI 32037   \n",
       "freq                3                                                3   \n",
       "mean              NaN                                              NaN   \n",
       "std               NaN                                              NaN   \n",
       "min               NaN                                              NaN   \n",
       "25%               NaN                                              NaN   \n",
       "50%               NaN                                              NaN   \n",
       "75%               NaN                                              NaN   \n",
       "max               NaN                                              NaN   \n",
       "\n",
       "          race       marital-status     occupation pregnant  education-num  \\\n",
       "count     3970                 3965           3962     3961     3962.00000   \n",
       "unique       5                    6             15        6            NaN   \n",
       "top      White   Married-civ-spouse   Craft-repair        f            NaN   \n",
       "freq      3398                 1830            547     3494            NaN   \n",
       "mean       NaN                  NaN            NaN      NaN       10.05477   \n",
       "std        NaN                  NaN            NaN      NaN        2.58377   \n",
       "min        NaN                  NaN            NaN      NaN        1.00000   \n",
       "25%        NaN                  NaN            NaN      NaN        9.00000   \n",
       "50%        NaN                  NaN            NaN      NaN       10.00000   \n",
       "75%        NaN                  NaN            NaN      NaN       12.00000   \n",
       "max        NaN                  NaN            NaN      NaN       16.00000   \n",
       "\n",
       "       relationship  capital-gain education  ...  capital-loss  workclass  \\\n",
       "count          3967   3970.000000      3967  ...   3969.000000       3683   \n",
       "unique            9           NaN        16  ...           NaN          9   \n",
       "top         Husband           NaN   HS-grad  ...           NaN    Private   \n",
       "freq           1615           NaN      1306  ...           NaN       2518   \n",
       "mean            NaN   1240.338539       NaN  ...     91.746536        NaN   \n",
       "std             NaN   8300.936903       NaN  ...    412.307694        NaN   \n",
       "min             NaN      0.000000       NaN  ...      0.000000        NaN   \n",
       "25%             NaN      0.000000       NaN  ...      0.000000        NaN   \n",
       "50%             NaN      0.000000       NaN  ...      0.000000        NaN   \n",
       "75%             NaN      0.000000       NaN  ...      0.000000        NaN   \n",
       "max             NaN  99999.000000       NaN  ...   2824.000000        NaN   \n",
       "\n",
       "       mean_glucose  std_glucose  kurtosis_glucose  skewness_glucose  \\\n",
       "count   3983.000000  3983.000000       3983.000000       3983.000000   \n",
       "unique          NaN          NaN               NaN               NaN   \n",
       "top             NaN          NaN               NaN               NaN   \n",
       "freq            NaN          NaN               NaN               NaN   \n",
       "mean     100.813059    44.952091          0.946830          4.202553   \n",
       "std       34.235192     8.203270          1.609436          9.657077   \n",
       "min        0.000000     0.000000         -1.641515         -1.755332   \n",
       "25%       87.292969    40.050403          0.067006         -0.118707   \n",
       "50%      110.570312    45.820717          0.308703          0.369527   \n",
       "75%      124.128906    50.334942          0.770071          2.074858   \n",
       "max      189.734375    91.206475          8.069522         68.101622   \n",
       "\n",
       "        mean_oxygen   std_oxygen  kurtosis_oxygen  skewness_oxygen  \n",
       "count   3983.000000  3983.000000      3983.000000      3983.000000  \n",
       "unique          NaN          NaN              NaN              NaN  \n",
       "top             NaN          NaN              NaN              NaN  \n",
       "freq            NaN          NaN              NaN              NaN  \n",
       "mean      18.388082    31.014362         7.377900        90.889854  \n",
       "std       34.717117    22.342098         4.828623       108.481276  \n",
       "min        0.000000     0.000000        -2.597872        -1.976976  \n",
       "25%        2.050167    14.999759         3.562240        11.840094  \n",
       "50%        3.209866    20.400828         7.760264        68.127714  \n",
       "75%       12.604515    43.109566        10.258696       126.817691  \n",
       "max      217.371238   110.642211        34.539844      1191.000837  \n",
       "\n",
       "[11 rows x 25 columns]"
      ]
     },
     "execution_count": 8,
     "metadata": {},
     "output_type": "execute_result"
    }
   ],
   "source": [
    "# Vypis vsetky deskriptyvnych statistik\n",
    "data.describe(include=\"all\")"
   ]
  },
  {
   "cell_type": "markdown",
   "metadata": {
    "pycharm": {
     "name": "#%% md\n"
    }
   },
   "source": [
    "### Pacienti ktory maju, nemaju a nevieme o ich chorobe (class atribut)"
   ]
  },
  {
   "cell_type": "code",
   "execution_count": 19,
   "metadata": {
    "pycharm": {
     "is_executing": false,
     "name": "#%%\n"
    }
   },
   "outputs": [
    {
     "name": "stdout",
     "output_type": "stream",
     "text": [
      "Patients who have diseases  1010\n",
      "Patients who have not diseases  2956\n",
      "Patients that we dont know if they have or not 17\n",
      "All patients  3983\n"
     ]
    }
   ],
   "source": [
    "# Zistenie pocet pacientov s chorobou\n",
    "print(\"Patients who have diseases \",len(data.loc[data['class'] == 1]))\n",
    "print(\"Patients who have not diseases \",len(data.loc[data['class'] == 0]))\n",
    "print(\"Patients that we dont know if they have or not\",len(data.loc[data['class'] != 1].loc[data['class'] != 0]))\n",
    "print(\"All patients \",len(data))"
   ]
  },
  {
   "cell_type": "markdown",
   "metadata": {
    "pycharm": {
     "name": "#%% md\n"
    }
   },
   "source": [
    "### Histogramy jednotlivych hodnote, kt sme ziskali z medical info"
   ]
  },
  {
   "cell_type": "code",
   "execution_count": 10,
   "metadata": {
    "pycharm": {
     "is_executing": false,
     "name": "#%%\n"
    }
   },
   "outputs": [
    {
     "data": {
      "text/plain": [
       "array([[<matplotlib.axes._subplots.AxesSubplot object at 0x000001AD9B7A2B70>]],\n",
       "      dtype=object)"
      ]
     },
     "execution_count": 10,
     "metadata": {},
     "output_type": "execute_result"
    },
    {
     "data": {
      "image/png": "[encoded data removed]",
      "text/plain": [
       "<Figure size 432x288 with 1 Axes>"
      ]
     },
     "metadata": {
      "needs_background": "light"
     },
     "output_type": "display_data"
    }
   ],
   "source": [
    "data.hist('mean_glucose')"
   ]
  },
  {
   "cell_type": "code",
   "execution_count": 11,
   "metadata": {
    "pycharm": {
     "is_executing": false,
     "name": "#%%\n"
    }
   },
   "outputs": [
    {
     "data": {
      "text/plain": [
       "array([[<matplotlib.axes._subplots.AxesSubplot object at 0x000001AD9B7A2780>]],\n",
       "      dtype=object)"
      ]
     },
     "execution_count": 11,
     "metadata": {},
     "output_type": "execute_result"
    },
    {
     "data": {
      "image/png": "[encoded data removed]",
      "text/plain": [
       "<Figure size 432x288 with 1 Axes>"
      ]
     },
     "metadata": {
      "needs_background": "light"
     },
     "output_type": "display_data"
    }
   ],
   "source": [
    "data.hist('std_glucose')"
   ]
  },
  {
   "cell_type": "code",
   "execution_count": 12,
   "metadata": {
    "pycharm": {
     "is_executing": false,
     "name": "#%%\n"
    }
   },
   "outputs": [
    {
     "data": {
      "text/plain": [
       "array([[<matplotlib.axes._subplots.AxesSubplot object at 0x000001AD9BB58CF8>]],\n",
       "      dtype=object)"
      ]
     },
     "execution_count": 12,
     "metadata": {},
     "output_type": "execute_result"
    },
    {
     "data": {
      "image/png": "[encoded data removed]",
      "text/plain": [
       "<Figure size 432x288 with 1 Axes>"
      ]
     },
     "metadata": {
      "needs_background": "light"
     },
     "output_type": "display_data"
    }
   ],
   "source": [
    "data.hist('kurtosis_glucose')"
   ]
  },
  {
   "cell_type": "code",
   "execution_count": 13,
   "metadata": {
    "pycharm": {
     "is_executing": false,
     "name": "#%%\n"
    }
   },
   "outputs": [
    {
     "data": {
      "text/plain": [
       "array([[<matplotlib.axes._subplots.AxesSubplot object at 0x000001AD9BBEE048>]],\n",
       "      dtype=object)"
      ]
     },
     "execution_count": 13,
     "metadata": {},
     "output_type": "execute_result"
    },
    {
     "data": {
      "image/png": "[encoded data removed]",
      "text/plain": [
       "<Figure size 432x288 with 1 Axes>"
      ]
     },
     "metadata": {
      "needs_background": "light"
     },
     "output_type": "display_data"
    }
   ],
   "source": [
    "data.hist('skewness_glucose')"
   ]
  },
  {
   "cell_type": "code",
   "execution_count": 14,
   "metadata": {
    "pycharm": {
     "is_executing": false,
     "name": "#%%\n"
    }
   },
   "outputs": [
    {
     "data": {
      "text/plain": [
       "array([[<matplotlib.axes._subplots.AxesSubplot object at 0x000001AD9BC758D0>]],\n",
       "      dtype=object)"
      ]
     },
     "execution_count": 14,
     "metadata": {},
     "output_type": "execute_result"
    },
    {
     "data": {
      "image/png": "[encoded data removed]",
      "text/plain": [
       "<Figure size 432x288 with 1 Axes>"
      ]
     },
     "metadata": {
      "needs_background": "light"
     },
     "output_type": "display_data"
    }
   ],
   "source": [
    "data.hist('mean_oxygen')"
   ]
  },
  {
   "cell_type": "code",
   "execution_count": 15,
   "metadata": {
    "pycharm": {
     "is_executing": false,
     "name": "#%%\n"
    }
   },
   "outputs": [
    {
     "data": {
      "text/plain": [
       "array([[<matplotlib.axes._subplots.AxesSubplot object at 0x000001AD9BBEEBA8>]],\n",
       "      dtype=object)"
      ]
     },
     "execution_count": 15,
     "metadata": {},
     "output_type": "execute_result"
    },
    {
     "data": {
      "image/png": "[encoded data removed]",
      "text/plain": [
       "<Figure size 432x288 with 1 Axes>"
      ]
     },
     "metadata": {
      "needs_background": "light"
     },
     "output_type": "display_data"
    }
   ],
   "source": [
    "data.hist('std_oxygen')"
   ]
  },
  {
   "cell_type": "code",
   "execution_count": 16,
   "metadata": {
    "pycharm": {
     "is_executing": false,
     "name": "#%%\n"
    }
   },
   "outputs": [
    {
     "data": {
      "text/plain": [
       "array([[<matplotlib.axes._subplots.AxesSubplot object at 0x000001AD9BD6FC50>]],\n",
       "      dtype=object)"
      ]
     },
     "execution_count": 16,
     "metadata": {},
     "output_type": "execute_result"
    },
    {
     "data": {
      "image/png": "[encoded data removed]",
      "text/plain": [
       "<Figure size 432x288 with 1 Axes>"
      ]
     },
     "metadata": {
      "needs_background": "light"
     },
     "output_type": "display_data"
    }
   ],
   "source": [
    "data.hist('kurtosis_oxygen')"
   ]
  },
  {
   "cell_type": "code",
   "execution_count": 17,
   "metadata": {
    "pycharm": {
     "is_executing": false,
     "name": "#%%\n"
    }
   },
   "outputs": [
    {
     "data": {
      "text/plain": [
       "array([[<matplotlib.axes._subplots.AxesSubplot object at 0x000001AD9BCC0320>]],\n",
       "      dtype=object)"
      ]
     },
     "execution_count": 17,
     "metadata": {},
     "output_type": "execute_result"
    },
    {
     "data": {
      "image/png": "[encoded data removed]",
      "text/plain": [
       "<Figure size 432x288 with 1 Axes>"
      ]
     },
     "metadata": {
      "needs_background": "light"
     },
     "output_type": "display_data"
    }
   ],
   "source": [
    "data.hist('skewness_oxygen')\n"
   ]
  }
 ],
 "metadata": {
  "kernelspec": {
   "display_name": "Python 3",
   "language": "python",
   "name": "python3"
  },
  "language_info": {
   "codemirror_mode": {
    "name": "ipython",
    "version": 3
   },
   "file_extension": ".py",
   "mimetype": "text/x-python",
   "name": "python",
   "nbconvert_exporter": "python",
   "pygments_lexer": "ipython3",
   "version": "3.7.3"
  },
  "pycharm": {
   "stem_cell": {
    "cell_type": "raw",
    "metadata": {
     "collapsed": false
    },
    "source": []
   }
  }
 },
 "nbformat": 4,
 "nbformat_minor": 1
}
