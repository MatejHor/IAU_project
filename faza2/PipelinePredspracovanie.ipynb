{
 "cells": [
  {
   "cell_type": "code",
   "execution_count": 140,
   "outputs": [],
   "source": [
    "import scipy.stats as stats\n",
    "import pandas as pd\n",
    "import numpy as np\n",
    "from sklearn.base import TransformerMixin\n",
    "from sklearn.compose import ColumnTransformer\n",
    "from sklearn.impute._iterative import IterativeImputer\n",
    "from sklearn.pipeline import Pipeline\n",
    "import matplotlib.pyplot as plt\n",
    "import seaborn as sns\n",
    "import dateutil.parser as parser\n",
    "from sklearn.impute import SimpleImputer as Imputer, SimpleImputer\n",
    "from sklearn.neighbors import NearestNeighbors as neigh\n",
    "from sklearn.neighbors import KNeighborsRegressor as neigh\n",
    "from sklearn.model_selection import train_test_split as split\n",
    "from sklearn import metrics\n",
    "from math import sqrt\n",
    "import json\n",
    "from sklearn.preprocessing import StandardScaler, OneHotEncoder, PowerTransformer\n",
    "from missingpy import KNNImputer, MissForest\n",
    "\n"
   ],
   "metadata": {
    "collapsed": false,
    "pycharm": {
     "name": "#%%\n",
     "is_executing": false
    }
   }
  },
  {
   "cell_type": "code",
   "execution_count": 194,
   "outputs": [
    {
     "name": "stderr",
     "text": [
      "/home/matho/anaconda3/lib/python3.7/site-packages/ipykernel_launcher.py:30: SettingWithCopyWarning: \nA value is trying to be set on a copy of a slice from a DataFrame.\nTry using .loc[row_indexer,col_indexer] = value instead\n\nSee the caveats in the documentation: http://pandas.pydata.org/pandas-docs/stable/indexing.html#indexing-view-versus-copy\n"
     ],
     "output_type": "stream"
    },
    {
     "name": "stdout",
     "text": [
      "<class 'pandas.core.frame.DataFrame'>\nInt64Index: 3933 entries, 0 to 3932\nData columns (total 28 columns):\nname                3933 non-null object\naddress             3933 non-null object\nage                 3933 non-null float64\nsex                 3933 non-null object\ndate_of_birth       3933 non-null object\nrace                3933 non-null object\nmarital-status      3933 non-null object\noccupation          3703 non-null object\npregnant            3931 non-null object\nrelationship        3932 non-null object\neducation           3933 non-null object\nincome              3932 non-null object\nnative-country      3872 non-null object\nworkclass           3341 non-null object\neducation-num       3933 non-null float64\ncapital-gain        3933 non-null float64\nfnlwgt              3932 non-null float64\nclass               3933 non-null float64\nhours-per-week      3932 non-null float64\ncapital-loss        3933 non-null float64\nkurtosis_glucose    3932 non-null float64\nkurtosis_oxygen     3932 non-null float64\nmean_glucose        3932 non-null float64\nmean_oxygen         3932 non-null float64\nskewness_glucose    3932 non-null float64\nskewness_oxygen     3932 non-null float64\nstd_glucose         3932 non-null float64\nstd_oxygen          3932 non-null float64\ndtypes: float64(15), object(13)\nmemory usage: 1.0+ MB\n"
     ],
     "output_type": "stream"
    }
   ],
   "source": [
    "data = pd.read_csv(\"../data/other_train.csv\",index_col=0)\n",
    "\n",
    "dict_array = []\n",
    "string = '{\"mean_glucose\": 9999999,\"std_glucose\": 9999999,\"kurtosis_glucose\":9999999,\"skewness_glucose\":9999999,\"mean_oxygen\":9999999,\"std_oxygen\":9999999,\"kurtosis_oxygen\":9999999,\"skewness_oxygen\":9999999}'\n",
    "data.medical_info.apply(lambda x: dict_array.append(json.loads(x.replace(\"'\",\"\\\"\").replace(\":\\\"\",\":\").replace(\"\\\",\",\",\").replace(\"\\\"}\",\"}\") if isinstance(x,str) else string)))\n",
    "medical_datas = pd.DataFrame(dict_array)\n",
    "\n",
    "for item in medical_datas:\n",
    "    data[item] = medical_datas[item].astype(float)\n",
    "data = data.drop(columns=['medical_info'])\n",
    "# print(data)\n",
    "# data.info()\n",
    "\n",
    "\n",
    "person = pd.read_csv(\"../data/personal_train.csv\",index_col=0)\n",
    "# print(person)\n",
    "# person.info()"
   ],
   "metadata": {
    "collapsed": false,
    "pycharm": {
     "name": "#%%\n",
     "is_executing": false
    }
   }
  },
  {
   "cell_type": "code",
   "execution_count": null,
   "outputs": [],
   "source": [
    "\n",
    "data = data.replace({ 9999999 : np.nan },regex=False)\n",
    "data = data.replace({'^[? ]*$' : np.nan},regex=True)\n",
    "person = person.replace({'^[? ]*$' : np.nan},regex=True)"
   ],
   "metadata": {
    "collapsed": false,
    "pycharm": {
     "name": "#%%\n"
    }
   }
  },
  {
   "cell_type": "code",
   "execution_count": null,
   "outputs": [],
   "source": [
    "numeric = data.select_dtypes(include=['float64'])\n",
    "categoric = data.select_dtypes(include=['object'])\n",
    "numeric['name'] = categoric['name']\n",
    "\n",
    "numeric = numeric.groupby('name').aggregate('mean')\n",
    "categoric = categoric.groupby('name').aggregate('first')\n",
    "\n",
    "data = categoric.merge(numeric, on=['name'])"
   ],
   "metadata": {
    "collapsed": false,
    "pycharm": {
     "name": "#%%\n"
    }
   }
  },
  {
   "cell_type": "code",
   "execution_count": null,
   "outputs": [],
   "source": [
    "merged_data = pd.merge(person, data, on=['name','address'], how='left')\n"
   ],
   "metadata": {
    "collapsed": false,
    "pycharm": {
     "name": "#%%\n"
    }
   }
  },
  {
   "cell_type": "code",
   "execution_count": null,
   "outputs": [],
   "source": [
    "merged_data = merged_data.replace(['FALSE','F'],'f',regex=True)\n",
    "merged_data = merged_data.replace(['TRUE','T'],'t',regex=True)\n",
    "\n",
    "merged_data = merged_data.replace([' <=50K'],'<=50K',regex=True)\n",
    "merged_data = merged_data.replace([' >50K'],'>50K',regex=True)\n",
    "\n",
    "\n",
    "merged_data = merged_data.replace([' Other-relative'],' Other_relative',regex=True)\n",
    "merged_data = merged_data.replace([' Not-in-family'],' Not_in_family',regex=True)\n",
    "merged_data = merged_data.replace([' Own-child'],' Own_child',regex=True)\n",
    "\n",
    "\n",
    "for i, row in merged_data.iterrows():\n",
    "        \n",
    "    date = parser.parse(merged_data.iloc[i]['date_of_birth'].split(' ')[0])\n",
    "    day = date.day\n",
    "    month = date.month\n",
    "    year = date.year\n",
    "    \n",
    "    if (year > 2019):\n",
    "        year = year - 100\n",
    "\n",
    "    merged_data.at[i,'date_of_birth'] = str(day) + \"/\" + str(month) + \"/\" + str(year)\n",
    "            \n",
    "    if ((pd.isna(row['age'])) | (row['age'] > 115) | (row['age'] < 0)):\n",
    "        merged_data.at[i,'age'] = 2019 - year\n",
    "\n",
    "merged_data.info()"
   ],
   "metadata": {
    "collapsed": false,
    "pycharm": {
     "name": "#%%\n"
    }
   }
  },
  {
   "cell_type": "code",
   "execution_count": null,
   "outputs": [],
   "source": [
    "# Remove outliers which can be probably not use\n",
    "# print(merged_data['education-num'].value_counts())\n",
    "# sns.distplot(merged_data['education-num'])\n",
    "\n",
    "# ## Remove outliers from education-num\n",
    "# # sns.boxplot(merged_data['education-num'])\n",
    "# merged_data.loc[merged_data['education-num'] < 5,'education-num'] = np.NaN\n",
    "# # sns.boxplot(merged_data['education-num'])\n",
    "# \n",
    "# ## Remove outliers from 'capital-gain'\n",
    "# # sns.boxplot(merged_data['capital-gain'])\n",
    "# merged_data.loc[merged_data['capital-gain'] > 30000,'capital-gain'] = np.NaN\n",
    "# # sns.boxplot(merged_data['capital-gain'])\n",
    "# \n",
    "# ## Remove outliers from 'fnlwgt'\n",
    "# # sns.boxplot(merged_data['fnlwgt'])\n",
    "# merged_data.loc[merged_data['fnlwgt'] > 800000,'fnlwgt'] = np.NaN\n",
    "# # sns.boxplot(merged_data['fnlwgt'])\n",
    "# \n",
    "# ## Remove outliers from 'hours-per-week'\n",
    "# # sns.boxplot(merged_data['hours-per-week'])\n",
    "# merged_data.loc[(merged_data['hours-per-week'] > 57) | (merged_data['hours-per-week'] < 8),'hours-per-week'] = np.NaN\n",
    "# # sns.boxplot(merged_data['hours-per-week'])"
   ],
   "metadata": {
    "collapsed": false,
    "pycharm": {
     "name": "#%%\n"
    }
   }
  },
  {
   "cell_type": "code",
   "execution_count": null,
   "outputs": [],
   "source": [
    "# Remove outliers on floats datas\n",
    "\n",
    "## Remove outliers from 'kurtosis_glucose'\n",
    "column = 'kurtosis_glucose'\n",
    "# sns.boxplot(merged_data[column])\n",
    "# merged_data[column].hist()\n",
    "mask = (merged_data[column] > 6) | (merged_data[column] < -1)\n",
    "merged_data.loc[mask ,column] = np.NaN\n",
    "\n",
    "## Remove outliers from 'mean_glucose'\n",
    "column = 'mean_glucose'\n",
    "# sns.boxplot(merged_data[column])\n",
    "# merged_data[column].hist()\n",
    "mask = (merged_data[column] > 150)  \n",
    "merged_data.loc[mask ,column] = np.NaN\n",
    "\n",
    "## Remove outliers from 'mean_oxygen'\n",
    "column = 'mean_oxygen'\n",
    "# sns.boxplot(merged_data[column])\n",
    "# merged_data[column].hist()\n",
    "mask = (merged_data[column] > 120)  \n",
    "merged_data.loc[mask ,column] = np.NaN\n",
    "\n",
    "## Remove outliers from 'kurtosis_oxygen'\n",
    "column = 'kurtosis_oxygen'\n",
    "# sns.boxplot(merged_data[column])\n",
    "# merged_data[column].hist()\n",
    "mask = (merged_data[column] > 20)  \n",
    "merged_data.loc[mask ,column] = np.NaN\n",
    "\n",
    "## Remove outliers from 'skewness_glucose'\n",
    "column = 'skewness_glucose'\n",
    "# sns.boxplot(merged_data[column])\n",
    "# merged_data[column].hist()\n",
    "mask = (merged_data[column] > 40)  \n",
    "merged_data.loc[mask ,column] = np.NaN\n",
    "\n",
    "## Remove outliers from 'skewness_oxygen'\n",
    "column = 'skewness_oxygen'\n",
    "# sns.boxplot(merged_data[column])\n",
    "# merged_data[column].hist()\n",
    "mask = (merged_data[column] > 350)  \n",
    "merged_data.loc[mask ,column] = np.NaN\n",
    "\n",
    "## Remove outliers from 'std_glucose'\n",
    "column = 'std_glucose'\n",
    "# sns.boxplot(merged_data[column])\n",
    "# merged_data[column].hist()\n",
    "mask = (merged_data[column] > 62) \n",
    "merged_data.loc[mask ,column] = np.NaN\n",
    "\n",
    "## Remove outliers from 'std_oxygen'\n",
    "column = 'std_oxygen'\n",
    "# sns.boxplot(merged_data[column])\n",
    "# merged_data[column].hist()\n",
    "mask = (merged_data[column] > 80)  \n",
    "merged_data.loc[mask ,column] = np.NaN\n"
   ],
   "metadata": {
    "collapsed": false,
    "pycharm": {
     "name": "#%%\n"
    }
   }
  },
  {
   "cell_type": "code",
   "execution_count": 64,
   "outputs": [
    {
     "name": "stdout",
     "text": [
      "Index(['age', 'education-num', 'capital-gain', 'fnlwgt', 'hours-per-week',\n       'capital-loss', 'kurtosis_glucose'],\n      dtype='object')\nIndex(['kurtosis_oxygen', 'mean_glucose', 'mean_oxygen', 'skewness_glucose',\n       'skewness_oxygen', 'std_glucose', 'std_oxygen'],\n      dtype='object')\nIndex(['name', 'address', 'sex', 'date_of_birth', 'race', 'marital-status',\n       'occupation', 'pregnant', 'relationship', 'education', 'income',\n       'native-country', 'workclass'],\n      dtype='object')\n"
     ],
     "output_type": "stream"
    }
   ],
   "source": [
    "# Divide datas into 3 category\n",
    "\n",
    "old = merged_data\n",
    "merged_data = merged_data.drop(columns=['class'])\n",
    "\n",
    "numeric = merged_data.select_dtypes(include=['float64'])\n",
    "numeric1 = numeric.iloc[:,:7].columns\n",
    "print(numeric1)\n",
    "numeric2 = numeric.iloc[:,7:].columns\n",
    "print(numeric2)        \n",
    "categoric = merged_data.select_dtypes(include=['object']).columns\n",
    "print(categoric)"
   ],
   "metadata": {
    "collapsed": false,
    "pycharm": {
     "name": "#%%\n",
     "is_executing": false
    }
   }
  },
  {
   "cell_type": "code",
   "execution_count": 65,
   "outputs": [],
   "source": [
    "# Apply pipeline in category \n",
    "\n",
    "numeric_transformer1 = Pipeline(steps=[('imputer',MissForest(missing_values=np.NaN, max_iter=10, # Nahradenie nulovych hodnot pomocou MissForest\n",
    "                                                             decreasing=False, copy=False)), \n",
    "                                      ('powerTransformer',PowerTransformer(method='yeo-johnson',\n",
    "                                                                           copy=False)) # Transformuje dat aby boli viac z Gaussoveho rozdelenia\n",
    "                                       ])\n",
    "numeric_transformer2 = Pipeline(steps=[('imputer',KNNImputer(missing_values=np.NaN, n_neighbors=5, # Nahradenie nulovych hodnot pomocou KNN\n",
    "                                                              weights='distance')), \n",
    "                                     # ('RobustScaler',StandardScaler())    # \n",
    "                                       ])\n",
    "categoric_transormer = Pipeline(steps=[('imputer',SimpleImputer(strategy='most_frequent'))]) # Nahradenie nulovych hodnot pomocou najcastejsich hodnot\n",
    "                                      # ('onehot',OneHotEncoder(handle_unknown='ignore'))])\n",
    "preproccesors = ColumnTransformer(transformers=[('Cat', categoric_transormer, categoric),\n",
    "                                                ('Num1', numeric_transformer1, numeric1),\n",
    "                                                ('Num2', numeric_transformer2, numeric2)\n",
    "                                                ])\n"
   ],
   "metadata": {
    "collapsed": false,
    "pycharm": {
     "name": "#%%\n",
     "is_executing": false
    }
   }
  },
  {
   "cell_type": "code",
   "execution_count": 66,
   "outputs": [
    {
     "name": "stdout",
     "text": [
      "Iteration: 0\n",
      "Iteration: 1\n",
      "Iteration: 2\n",
      "Iteration: 3\n",
      "Iteration: 4\n",
      "Iteration: 5\n"
     ],
     "output_type": "stream"
    },
    {
     "name": "stderr",
     "text": [
      "/home/matho/anaconda3/lib/python3.7/site-packages/missingpy/knnimpute.py:224: UserWarning: There are rows with more than 50.0% missing values. These rows are not included as donor neighbors.\n  .format(self.row_max_missing * 100))\n/home/matho/anaconda3/lib/python3.7/site-packages/missingpy/knnimpute.py:282: UserWarning: There are rows with more than 50.0% missing values. The missing features in these rows are imputed with column means.\n  .format(self.row_max_missing * 100))\n"
     ],
     "output_type": "stream"
    }
   ],
   "source": [
    "# Execute pipeline steps\n",
    "\n",
    "pipeline = Pipeline(steps=[('preproccesors', preproccesors)])\n",
    "pipeline_datas = pipeline.fit_transform(merged_data)"
   ],
   "metadata": {
    "collapsed": false,
    "pycharm": {
     "name": "#%%\n",
     "is_executing": false
    }
   }
  },
  {
   "cell_type": "code",
   "execution_count": 67,
   "outputs": [
    {
     "name": "stdout",
     "text": [
      "                      name                                            address  \\\n0          Roscoe Bohannon  7183 Osborne Ways Apt. 651\\r\\nEast Andrew, OH ...   \n1             Ernest Kline  391 Ball Road Suite 961\\r\\nflowersborough, IN ...   \n2          Harold Hendriks     8702 Vincent Square\\r\\nNew Jerryfurt, CO 30614   \n3           Randy Baptiste     2751 Harris Crossroad\\r\\nWest Ashley, CA 30311   \n4          Anthony Colucci  904 Robert Cliffs Suite 186\\r\\nWest Kyle, CO 7...   \n5             Ronald Lange        30973 Martinez Shores\\r\\nJameston, CA 70245   \n6            Boyd Eiselein  29941 Christopher Curve Apt. 682\\r\\nRaychester...   \n7            Raymond Smith  53487 Scott Extensions Apt. 824\\r\\nMccartytown...   \n8            Harold Miller  8514 Elizabeth Crescent\\r\\nWest Joseland, GA 4...   \n9     Charles Czachorowski  6798 Wagner Locks Suite 377\\r\\nLake Brenda, DC...   \n10         Robert Grantham            822 Adams Plains\\r\\nNew Karen, AK 92114   \n11                Joel Lam  61296 Reginald Rapids Suite 783\\r\\nWest timoth...   \n12              Irving Gil  90757 Amanda Views Suite 604\\r\\nPort Paul, tX ...   \n13          terry Reynolds  0019 Jensen Land Apt. 513\\r\\nPort timothyville...   \n14        Kurt Littlefield       822 Wilson Meadow\\r\\nMitchellmouth, RI 05935   \n15            Andy Grayson            2573 Ryan Mission\\r\\nShortton, DC 01129   \n16         Chauncey Suarez      481 Wilson Prairie\\r\\nKimberlymouth, LA 20064   \n17          Wallace Street          9909 John Creek\\r\\nEast Heather, NY 31266   \n18         Daniel Crossman   74669 Robles Drive\\r\\nPort Madisonbury, LA 63565   \n19              Steve Ripp           7629 Ramos Knoll\\r\\nOwensmouth, NC 34420   \n20         George Hairston      18356 Benjamin Roads\\r\\nSouth Nancy, NJ 58120   \n21          Jeffrey taylor                           USNV Kim\\r\\nfPO AA 96043   \n22             David Mealy          0873 Diaz Village\\r\\nSandrastad, DE 05796   \n23          Garfield Bowen   3678 Gloria Pine Apt. 652\\r\\nKevinfort, LA 80839   \n24        thaddeus Mackerl  8122 Jessica Knolls Apt. 880\\r\\nDakotafurt, WV...   \n25             Gerald Pack       6146 Roman Shores\\r\\nNew Christine, OR 28920   \n26         Jonathon Nemith            875 David Road\\r\\nPhillipfort, NC 26174   \n27             Roger Groce          781 Berry Spring\\r\\ntravismouth, NJ 11603   \n28            Harold Odowd  7842 Curtis Vista Apt. 188\\r\\nLake Samuelburgh...   \n29         Stanley forrest  9532 Jesse Roads Suite 253\\r\\nNorth toni, NC 7...   \n...                    ...                                                ...   \n3903       Anthony Hoffman  164 Kristi Station Suite 000\\r\\nKimberlyfurt, ...   \n3904          Charles Gray     82950 Harding Knolls\\r\\nMcmahonburgh, ID 09644   \n3905          Jarrod Duffy  6164 Sanchez Divide Suite 420\\r\\nRalphborough,...   \n3906         Peter Gaydosh  17568 Amanda Court Suite 220\\r\\nPattonside, DE...   \n3907        Chester Holmes  720 Harris turnpike Suite 732\\r\\nEast Sierra, ...   \n3908       Robert Mitchell  775 Hall Mountain Apt. 538\\r\\nNorth Aaronmouth...   \n3909        Michael Warner                 PSC 2691, Box 9112\\r\\nAPO AE 63663   \n3910        Morgan Padilla       09934 Lance Corner\\r\\nVeronicaport, IN 24910   \n3911          Wallace King  06226 Rebecca Village\\r\\nWest Christopherside,...   \n3912         Samuel Garcia      418 Christopher Court\\r\\nNancyburgh, WY 93612   \n3913       David Signorile  23675 Jennifer Island Suite 889\\r\\ntranland, A...   \n3914            John Jaffe                 PSC 3677, Box 2117\\r\\nAPO AE 28076   \n3915            Drew Garst                        USNS Duarte\\r\\nfPO AA 22046   \n3916              tony Lee        3874 Adams Alley\\r\\nNew Danielton, NY 38772   \n3917          Robert Gerke        820 Mark Drives\\r\\nMichaelchester, OH 64396   \n3918          Hector Kenny    54278 Kyle Lock Suite 612\\r\\nLeonfurt, MO 81951   \n3919      Charles Perryman             136 Kane Points\\r\\nNew Larry, Vt 78663   \n3920          David Lackey                     USNV Patterson\\r\\nfPO AA 81791   \n3921           Jerry Banks         3469 Vincent forge\\r\\nSmithville, KY 69292   \n3922       Delbert Cantave     9537 Bruce Cape Apt. 688\\r\\nCodyport, AR 43964   \n3923         Mark Goldberg  2405 Hunter View Apt. 348\\r\\nNorth Luishaven, ...   \n3924           John Booker         744 Justin Street\\r\\nErinborough, NE 87956   \n3925        Edward Peschel    6562 James Plaza Apt. 950\\r\\nRyanberg, ND 07273   \n3926         Joseph Leroux                 Unit 7574 Box 5626\\r\\nDPO AE 77296   \n3927      Emerson Williams  888 Benjamin Parks Suite 847\\r\\nDonaldtown, IA...   \n3928       Clair Pinkleton             8582 Lee Roads\\r\\nCostaburgh, SC 21897   \n3929          William Pope  68430 Erik terrace Suite 279\\r\\nPort Adamborou...   \n3930          Jared Kinsey                 Unit 8416 Box 3801\\r\\nDPO AE 31166   \n3931      frederick Lawley   34420 Brian Stream\\r\\nLake Michaeltown, MS 01832   \n3932   Adalberto Daughters                 Unit 7931 Box 0601\\r\\nDPO AE 50505   \n\n          age         sex        date_of_birth                 race  \\\n0        Male   30/3/1967                White        Never-married   \n1        Male  15/10/1970                Black             Divorced   \n2        Male  16/12/1954                White        Never-married   \n3        Male   23/7/1969                White   Married-civ-spouse   \n4        Male    5/3/1950                White   Married-civ-spouse   \n5        Male  29/11/1958                White   Married-civ-spouse   \n6        Male   15/7/1992                White             Divorced   \n7      female  28/10/1957                White        Never-married   \n8        Male    4/7/1968                White   Married-civ-spouse   \n9        Male  13/11/1993                White   Married-civ-spouse   \n10     female    7/9/1983                White        Never-married   \n11     female   12/8/1969                White            Separated   \n12       Male   14/4/1985                White             Divorced   \n13       Male   25/4/1955   Asian-Pac-Islander   Married-civ-spouse   \n14       Male  19/11/1959                White   Married-civ-spouse   \n15       Male    1/8/1962                White   Married-civ-spouse   \n16     female  12/12/1989                White             Divorced   \n17       Male   17/8/1956                White        Never-married   \n18     female  26/10/1957                Black   Married-civ-spouse   \n19       Male   10/9/1963                White        Never-married   \n20       Male   26/6/1964                White        Never-married   \n21       Male   10/6/1971                White   Married-civ-spouse   \n22       Male    6/3/1944                White   Married-civ-spouse   \n23     female  14/11/1972                White        Never-married   \n24     female   12/8/1968                White        Never-married   \n25     female   25/7/1961                White        Never-married   \n26       Male  25/12/1981                White   Married-civ-spouse   \n27       Male   18/6/1969   Asian-Pac-Islander   Married-civ-spouse   \n28       Male   28/4/1971                White   Married-civ-spouse   \n29       Male   21/8/1953                White             Divorced   \n...       ...         ...                  ...                  ...   \n3903     Male    2/8/1978                White        Never-married   \n3904     Male   19/3/1958                White        Never-married   \n3905   female   10/5/1983                White              Widowed   \n3906     Male    8/9/1968                White        Never-married   \n3907     Male    3/5/1948                White        Never-married   \n3908   female   30/9/1964                White        Never-married   \n3909     Male    9/5/1983                White             Divorced   \n3910     Male   20/9/1961                White        Never-married   \n3911     Male   30/1/1974                White   Married-civ-spouse   \n3912     Male   13/8/1983                White             Divorced   \n3913     Male  25/11/2000                White        Never-married   \n3914     Male   11/8/1977                White   Married-civ-spouse   \n3915     Male  28/10/1961                White        Never-married   \n3916     Male   30/6/1954                White   Married-civ-spouse   \n3917     Male  24/12/1957                White        Never-married   \n3918   female   19/8/1974                White        Never-married   \n3919     Male  16/12/1970                White   Married-civ-spouse   \n3920     Male  22/12/1975                White        Never-married   \n3921     Male   31/3/1972                White        Never-married   \n3922   female   28/1/1959                White        Never-married   \n3923   female   22/1/1988                White   Married-civ-spouse   \n3924   female    5/4/1975                White        Never-married   \n3925   female   18/6/1980                White        Never-married   \n3926   female    7/4/1957                White        Never-married   \n3927     Male   28/8/1957                White        Never-married   \n3928     Male   18/3/1952   Asian-Pac-Islander   Married-civ-spouse   \n3929   female   26/5/1952                White        Never-married   \n3930   female    7/7/1970                White        Never-married   \n3931     Male   22/7/1977                White   Married-civ-spouse   \n3932     Male   27/4/1961   Asian-Pac-Islander        Never-married   \n\n          marital-status occupation         pregnant   relationship  ...  \\\n0           Adm-clerical          f    Not_in_family        Masters  ...   \n1       transport-moving          f    Not_in_family   Some-college  ...   \n2                  Sales          f    Not_in_family   Some-college  ...   \n3           Craft-repair          f          Husband   Some-college  ...   \n4      Machine-op-inspct          f          Husband   Some-college  ...   \n5         Prof-specialty          f          Husband        HS-grad  ...   \n6           Craft-repair          f   Other_relative        HS-grad  ...   \n7      Handlers-cleaners          f        Own_child        HS-grad  ...   \n8      Machine-op-inspct          f          Husband        HS-grad  ...   \n9          Other-service          f          Husband        HS-grad  ...   \n10        Prof-specialty          f    Not_in_family        Masters  ...   \n11          Adm-clerical          f        Unmarried        HS-grad  ...   \n12       farming-fishing          f        Unmarried           10th  ...   \n13         Other-service          f          Husband        HS-grad  ...   \n14       farming-fishing          f          Husband        7th-8th  ...   \n15          Craft-repair          f          Husband   Some-college  ...   \n16     Machine-op-inspct          f    Not_in_family        HS-grad  ...   \n17     Machine-op-inspct          f    Not_in_family        HS-grad  ...   \n18        Prof-specialty          f             Wife        Masters  ...   \n19     Handlers-cleaners          f        Own_child        HS-grad  ...   \n20     Handlers-cleaners          f        Own_child        HS-grad  ...   \n21          Craft-repair          f          Husband        HS-grad  ...   \n22       Exec-managerial          f          Husband        Masters  ...   \n23      transport-moving          f    Not_in_family        HS-grad  ...   \n24        Prof-specialty          f        Own_child      Bachelors  ...   \n25          Adm-clerical          f    Not_in_family   Some-college  ...   \n26        Prof-specialty          f          Husband        Masters  ...   \n27        Prof-specialty          f          Husband        Masters  ...   \n28      transport-moving          f          Husband   Some-college  ...   \n29       Protective-serv          f    Not_in_family           11th  ...   \n...                  ...        ...              ...            ...  ...   \n3903   Handlers-cleaners          f        Own_child        HS-grad  ...   \n3904        Craft-repair          f    Not_in_family      Bachelors  ...   \n3905        Craft-repair          f    Not_in_family      Bachelors  ...   \n3906        Craft-repair          f    Not_in_family        HS-grad  ...   \n3907        Craft-repair          f        Unmarried   Some-college  ...   \n3908        Adm-clerical          f    Not_in_family        HS-grad  ...   \n3909       Other-service          f    Not_in_family        HS-grad  ...   \n3910     farming-fishing          f    Not_in_family        HS-grad  ...   \n3911       Other-service          f          Husband        HS-grad  ...   \n3912    transport-moving          f    Not_in_family        HS-grad  ...   \n3913        Adm-clerical          f    Not_in_family      Bachelors  ...   \n3914     farming-fishing          f          Husband   Some-college  ...   \n3915     Exec-managerial          f        Unmarried        Masters  ...   \n3916        Craft-repair          f          Husband   Some-college  ...   \n3917               Sales          f        Unmarried        HS-grad  ...   \n3918       Other-service          f   Other_relative           10th  ...   \n3919     Exec-managerial          f          Husband    Prof-school  ...   \n3920        Craft-repair          f        Own_child        HS-grad  ...   \n3921   Machine-op-inspct          f        Unmarried           10th  ...   \n3922        Adm-clerical          f        Own_child   Some-college  ...   \n3923      Prof-specialty          f             Wife      Assoc-voc  ...   \n3924       Other-service          f        Own_child           11th  ...   \n3925     farming-fishing          f        Own_child   Some-college  ...   \n3926        Adm-clerical          f    Not_in_family        HS-grad  ...   \n3927        Craft-repair          f        Own_child   Some-college  ...   \n3928    transport-moving          f          Husband        HS-grad  ...   \n3929      Prof-specialty          f    Not_in_family      Bachelors  ...   \n3930        Adm-clerical          t    Not_in_family   Some-college  ...   \n3931    transport-moving          f          Husband        7th-8th  ...   \n3932        Craft-repair          f        Own_child   Some-college  ...   \n\n     hours-per-week capital-loss kurtosis_glucose kurtosis_oxygen  \\\n0           2.45188    -0.227166         0.754423         3.51302   \n1           1.19065    -0.227166        -0.241071         8.40249   \n2          0.774601    -0.227166          2.04614         1.04252   \n3          -2.72741    -0.227166        0.0867718         10.5089   \n4           2.45188    -0.227166        0.0251794         12.5953   \n5        -0.0497329    -0.227166         0.541434          5.3596   \n6        -0.0497329    -0.227166        -0.405807         8.17374   \n7        -0.0497329    -0.227166          1.17133          5.2558   \n8         -0.861678    -0.227166          2.01402         0.96979   \n9        -0.0497329    -0.227166        -0.238702         16.8346   \n10       -0.0497329      4.40207        -0.322082         23.6585   \n11       -0.0497329    -0.227166          1.43155         1.36964   \n12          2.45188    -0.227166         -0.56101        0.982958   \n13       -0.0497329    -0.227166         -0.50193         14.2153   \n14       -0.0497329    -0.227166        -0.385101         9.83991   \n15       -0.0497329    -0.227166       -0.0629347         13.7498   \n16       -0.0497329    -0.227166        -0.625479         8.74728   \n17       -0.0497329    -0.227166        -0.641751         9.12085   \n18        -0.457444    -0.227166        -0.377137         8.85868   \n19        -0.294752    -0.227166         0.952712         6.17167   \n20        -0.861678    -0.227166        -0.263012         14.2856   \n21         -3.08356    -0.227166        -0.679292         5.28094   \n22            1.609    -0.227166          1.82261         1.96823   \n23         0.443552    -0.227166        -0.607701         20.0839   \n24          -2.0471    -0.227166         -1.24198         8.33417   \n25          -2.0471    -0.227166        -0.444837          14.934   \n26         0.361054    -0.227166        -0.140599         7.28571   \n27       -0.0497329    -0.227166        -0.723758           4.298   \n28       -0.0497329    -0.227166       -0.0788019         18.0554   \n29       -0.0497329    -0.227166        -0.306945         8.97864   \n...             ...          ...              ...             ...   \n3903     -0.0497329    -0.227166          1.75656        0.931728   \n3904       0.361054    -0.227166        -0.827048       -0.174835   \n3905     -0.0497329    -0.227166        -0.989664         6.76936   \n3906       0.114232    -0.227166        0.0406925         8.96143   \n3907     -0.0497329    -0.227166        -0.600306         5.85855   \n3908     -0.0497329    -0.227166         -0.68711         8.53028   \n3909     -0.0497329    -0.227166        -0.296854         4.10251   \n3910         4.9349    -0.227166          1.84022       0.0761661   \n3911      -0.457444    -0.227166        -0.560479         12.5779   \n3912     -0.0497329      4.40207        -0.314939          14.188   \n3913     -0.0497329    -0.227166         0.609935         3.14119   \n3914        2.02946    -0.227166         0.262838         22.1494   \n3915     -0.0497329    -0.227166          1.29519         1.09575   \n3916       -2.27746    -0.227166        -0.626899         6.90641   \n3917     -0.0497329    -0.227166         0.239398         15.3554   \n3918      -0.861678    -0.227166        0.0575112         9.16901   \n3919     -0.0497329    -0.227166         0.393453         9.54885   \n3920     -0.0497329    -0.227166       -0.0648144         6.20826   \n3921     -0.0497329    -0.227166        -0.608534         13.3677   \n3922       -2.42926    -0.227166         -1.29135         5.99414   \n3923        -2.0471      4.40207       -0.0820178         15.1998   \n3924        -2.0471    -0.227166         0.879233         1.97382   \n3925       0.774601    -0.227166        -0.267048         7.86669   \n3926       0.608869    -0.227166          1.98451       0.0190159   \n3927     -0.0497329    -0.227166         -0.78452         6.46411   \n3928     -0.0497329    -0.227166         0.135502         2.39892   \n3929        1.19065    -0.227166          1.78486         4.77233   \n3930     -0.0497329    -0.227166        -0.266656         5.87621   \n3931       0.361054    -0.227166          1.69147        0.558779   \n3932        -1.6574    -0.227166        -0.211722         5.14751   \n\n     mean_glucose mean_oxygen skewness_glucose skewness_oxygen std_glucose  \\\n0         95.3516     14.1037          3.35128          11.306     41.8288   \n1         111.164     2.90217         -0.14194         79.6189     51.8022   \n2         14.4609     57.3821          42.0254        0.231636     29.3877   \n3         107.797     1.91054           1.6726         120.443     41.5627   \n4         111.484      1.5995        -0.116594         226.699     53.0683   \n5         91.8359     6.79849          2.20971         28.4114     42.7615   \n6         112.008     2.84365        -0.447539         83.2553      54.192   \n7         65.5391     6.83612          9.02327         27.1446     33.7076   \n8         22.3125     66.9607          40.2228       0.0873325     30.5112   \n9         110.406     1.04013         0.210545         366.968     49.0684   \n10         122.25    0.447324          1.50029         596.853     35.2198   \n11        65.2031     44.5209          12.8045        0.316789      33.164   \n12        131.922     50.1455        -0.272863       -0.648081     50.5561   \n13        121.656     1.04599        0.0656978          237.79     46.2219   \n14        122.797     2.32023        -0.311661         129.265     52.9846   \n15        111.602     1.60786       -0.0256404         269.103     52.4372   \n16        126.266     2.94314        -0.132231          87.072     53.5208   \n17        133.078     2.27676         0.488897         103.877     43.4901   \n18        121.453     2.57441        -0.307962          102.76     56.8104   \n19        75.4375     5.53177          5.28418         38.3537     38.4833   \n20        103.391     1.48411           1.2055         290.415     38.8012   \n21        126.234     6.25418         -0.41858         30.1488     51.1087   \n22             32     32.1513          24.4146          3.4285     34.0315   \n23         101.32    0.741639          0.19342          489.87     49.5669   \n24        139.984     2.85201       -0.0400711         84.2516     49.5183   \n25        103.945     1.19816         0.457442          289.55     45.7019   \n26        94.6953     3.45987         0.153277         53.7694     46.5751   \n27        113.219     8.46237       -0.0958677         18.0755     46.6714   \n28        106.828    0.780936        -0.145018         376.596     52.5034   \n29        116.164      2.2801         0.208862         89.3304     45.1879   \n...           ...         ...              ...             ...         ...   \n3903       36.125     69.4147          18.8139         -0.3929     38.2967   \n3904      133.297     95.9841        -0.318092        -1.89885     53.6533   \n3905      140.672     4.23161        -0.527027         50.1416     53.3178   \n3906       110.57     2.32943          1.85545         82.5903     38.4943   \n3907      130.852     5.13545        -0.482038         41.2904     55.0761   \n3908      125.359     2.94398         0.185031         76.1714     48.8195   \n3909      113.172     7.61037        -0.175305         16.4713     54.5517   \n3910      25.2969     108.454          23.0157        -1.37395     36.5424   \n3911      118.805     1.56355        -0.301184         188.371     50.8904   \n3912      117.211     1.05602         0.560119         234.061     43.5001   \n3913      87.5156     15.6781          0.74284         8.44005     51.7634   \n3914      92.8047    0.511706          1.13747         555.273     43.3554   \n3915      64.4766     55.1171          6.26847       -0.249699     47.9609   \n3916      128.844     3.76589        -0.699136         57.8362     56.1515   \n3917      92.4688    0.864548          2.05561         256.424     37.7895   \n3918      115.234     2.33696         0.459237         115.062     43.4922   \n3919       103.68     2.32191          3.27946         126.362      36.384   \n3920      106.383     4.58946         0.555047         41.6447     39.1392   \n3921      116.414     1.19565       -0.0111054         217.726     51.1419   \n3922       138.18     5.11789         -0.12253         39.8182     49.9493   \n3923      106.594    0.930602          0.34544         264.284     45.7617   \n3924      80.2344     34.0794          2.24339          2.2607     51.9314   \n3925      123.273     3.22742        -0.141899         76.3235     52.2885   \n3926      35.2656     109.978          38.4002        -1.12436     30.4055   \n3927      140.164     4.56522          0.34712         45.2715     44.2291   \n3928      103.578     21.8211         0.777646         4.75922     45.1666   \n3929      27.4688     7.81438          20.8445         24.5001     37.2831   \n3930      100.859     4.96823          3.49173         36.8711     32.7313   \n3931      40.3984     96.3495          19.2947       -0.717264     33.7485   \n3932      124.797     5.55602        -0.171916         28.1122      45.098   \n\n     std_oxygen  \n0       47.4748  \n1       19.0583  \n2       68.2629  \n3        17.341  \n4       11.3475  \n5        34.336  \n6       16.2782  \n7        34.048  \n8       69.3877  \n9       10.0419  \n10      9.13123  \n11      75.7612  \n12      73.3324  \n13        11.83  \n14      13.9551  \n15      10.8093  \n16      18.3104  \n17      14.9779  \n18      14.7719  \n19      31.3686  \n20      10.5837  \n21      28.2741  \n22      56.6946  \n23      9.32994  \n24      16.8829  \n25      10.7584  \n26      24.0428  \n27      35.1596  \n28      10.4502  \n29      17.6408  \n...         ...  \n3903    79.0451  \n3904    86.5575  \n3905    24.3359  \n3906    19.7969  \n3907      23.24  \n3908    22.4774  \n3909    30.5087  \n3910    86.5184  \n3911    13.9934  \n3912    12.0187  \n3913    50.9059  \n3914    9.08998  \n3915    78.7169  \n3916    19.1085  \n3917    11.9834  \n3918    14.0394  \n3919    13.5605  \n3920    25.3311  \n3921    12.1325  \n3922    24.6668  \n3923    11.5957  \n3924    74.8892  \n3925    18.1845  \n3926    81.2712  \n3927    24.2356  \n3928    51.1772  \n3929    31.3656  \n3930     25.766  \n3931    76.5768  \n3932     25.384  \n\n[3933 rows x 27 columns]\n"
     ],
     "output_type": "stream"
    }
   ],
   "source": [
    "# Show mereged datas\n",
    "\n",
    "merged_data = pd.DataFrame(pipeline_datas,columns=merged_data.columns)\n",
    "print(merged_data)\n"
   ],
   "metadata": {
    "collapsed": false,
    "pycharm": {
     "name": "#%%\n",
     "is_executing": false
    }
   }
  }
 ],
 "metadata": {
  "kernelspec": {
   "name": "pycharm-938d843a",
   "language": "python",
   "display_name": "PyCharm (IAU)"
  },
  "language_info": {
   "codemirror_mode": {
    "name": "ipython",
    "version": 2
   },
   "file_extension": ".py",
   "mimetype": "text/x-python",
   "name": "python",
   "nbconvert_exporter": "python",
   "pygments_lexer": "ipython2",
   "version": "2.7.6"
  },
  "pycharm": {
   "stem_cell": {
    "cell_type": "raw",
    "source": [],
    "metadata": {
     "collapsed": false
    }
   }
  }
 },
 "nbformat": 4,
 "nbformat_minor": 0
}