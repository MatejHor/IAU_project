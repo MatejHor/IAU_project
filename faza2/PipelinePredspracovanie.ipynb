{
 "cells": [
  {
   "cell_type": "markdown",
   "metadata": {},
   "source": [
    "# Matej Horniak, Lukáš Mikula\n",
    "### 2. fáza projektu\n",
    "Dátová sada č. 44"
   ]
  },
  {
   "cell_type": "code",
   "execution_count": 117,
   "metadata": {
    "collapsed": false,
    "jupyter": {
     "outputs_hidden": false
    },
    "pycharm": {
     "is_executing": false,
     "name": "#%%\n"
    }
   },
   "outputs": [],
   "source": [
    "import scipy.stats as stats\n",
    "import pandas as pd\n",
    "import numpy as np\n",
    "from sklearn.base import TransformerMixin\n",
    "from sklearn.compose import ColumnTransformer\n",
    "from sklearn.impute._iterative import IterativeImputer\n",
    "from sklearn.pipeline import Pipeline\n",
    "import matplotlib.pyplot as plt\n",
    "import seaborn as sns\n",
    "import dateutil.parser as parser\n",
    "from sklearn.impute import SimpleImputer as Imputer, SimpleImputer\n",
    "from sklearn.neighbors import NearestNeighbors as neigh\n",
    "from sklearn.neighbors import KNeighborsRegressor as neigh\n",
    "from sklearn.model_selection import train_test_split as split\n",
    "from sklearn import metrics\n",
    "from math import sqrt\n",
    "import json\n",
    "from sklearn.preprocessing import StandardScaler, OneHotEncoder, PowerTransformer\n",
    "from missingpy import KNNImputer, MissForest\n",
    "import copy\n",
    "\n"
   ]
  },
  {
   "cell_type": "markdown",
   "metadata": {},
   "source": [
    "Zmenili sme mierne pristup riesenia parsovania jsonu a chybajucivh hodnot v nom, nakolko prvotne nahradzanie za nulove hodnoty nebolo validne. Teraz sme najprv nahradili hodnoty za velmi velke cisla, ktore sa v datach nenachadzaju a nasledne sme tieto cisla vymenili za NaN."
   ]
  },
  {
   "cell_type": "code",
   "execution_count": 118,
   "metadata": {
    "collapsed": false,
    "jupyter": {
     "outputs_hidden": false
    },
    "pycharm": {
     "is_executing": false,
     "name": "#%%\n"
    }
   },
   "outputs": [],
   "source": [
    "data = pd.read_csv(\"../data/other_train.csv\",index_col=0)\n",
    "\n",
    "dict_array = []\n",
    "string = '{\"mean_glucose\": 9999999,\"std_glucose\": 9999999,\"kurtosis_glucose\":9999999,\"skewness_glucose\":9999999,\"mean_oxygen\":9999999,\"std_oxygen\":9999999,\"kurtosis_oxygen\":9999999,\"skewness_oxygen\":9999999}'\n",
    "data.medical_info.apply(lambda x: dict_array.append(json.loads(x.replace(\"'\",\"\\\"\").replace(\":\\\"\",\":\").replace(\"\\\",\",\",\").replace(\"\\\"}\",\"}\") if isinstance(x,str) else string)))\n",
    "medical_datas = pd.DataFrame(dict_array)\n",
    "\n",
    "for item in medical_datas:\n",
    "    data[item] = medical_datas[item].astype(float)\n",
    "data = data.drop(columns=['medical_info'])\n",
    "# print(data)\n",
    "# data.info()\n",
    "\n",
    "person = pd.read_csv(\"../data/personal_train.csv\",index_col=0)\n",
    "# print(person)\n",
    "# person.info()"
   ]
  },
  {
   "cell_type": "markdown",
   "metadata": {},
   "source": [
    "Pokial boli v datach volne bunky alebo sa tam nachadzali otazniky s medzerami, vymenili sme tieto hodnoty za NaN."
   ]
  },
  {
   "cell_type": "code",
   "execution_count": 119,
   "metadata": {
    "collapsed": false,
    "jupyter": {
     "outputs_hidden": false
    },
    "pycharm": {
     "name": "#%%\n"
    }
   },
   "outputs": [],
   "source": [
    "\n",
    "data = data.replace({ 9999999 : np.nan },regex=False)\n",
    "data = data.replace({'^[? ]*$' : np.nan},regex=True)\n",
    "person = person.replace({'^[? ]*$' : np.nan},regex=True)\n",
    "og = copy.deepcopy(data) "
   ]
  },
  {
   "cell_type": "markdown",
   "metadata": {},
   "source": [
    "Rozdelili sme si data na 2 casti, teda na spojite a diskretne. \n",
    "\n",
    "Taktiez sme nahradili vsetky duplikaty, pricom pri spojitych sme pouzili agregacnu funkciu mean a pri diskretnych zasa agregacnu funkciu first.\n",
    "\n",
    "Nasledne sme tieto data spojili naspat dokopy."
   ]
  },
  {
   "cell_type": "code",
   "execution_count": 120,
   "metadata": {
    "collapsed": false,
    "jupyter": {
     "outputs_hidden": false
    },
    "pycharm": {
     "name": "#%%\n"
    }
   },
   "outputs": [
    {
     "name": "stderr",
     "output_type": "stream",
     "text": [
      "C:\\Users\\Lukas\\Anaconda3\\lib\\site-packages\\ipykernel_launcher.py:3: SettingWithCopyWarning: \n",
      "A value is trying to be set on a copy of a slice from a DataFrame.\n",
      "Try using .loc[row_indexer,col_indexer] = value instead\n",
      "\n",
      "See the caveats in the documentation: http://pandas.pydata.org/pandas-docs/stable/user_guide/indexing.html#returning-a-view-versus-a-copy\n",
      "  This is separate from the ipykernel package so we can avoid doing imports until\n"
     ]
    }
   ],
   "source": [
    "numeric = data.select_dtypes(include=['float64'])\n",
    "categoric = data.select_dtypes(include=['object'])\n",
    "numeric['name'] = categoric['name']\n",
    "\n",
    "numeric = numeric.groupby('name').aggregate('mean')\n",
    "categoric = categoric.groupby('name').aggregate('first')\n",
    "\n",
    "data = categoric.merge(numeric, on=['name'])"
   ]
  },
  {
   "cell_type": "markdown",
   "metadata": {},
   "source": [
    "Potom sme na zaklade mena a adresy spojili dva subory, teda personal a other."
   ]
  },
  {
   "cell_type": "code",
   "execution_count": 121,
   "metadata": {
    "collapsed": false,
    "jupyter": {
     "outputs_hidden": false
    },
    "pycharm": {
     "name": "#%%\n"
    }
   },
   "outputs": [],
   "source": [
    "merged_data = pd.merge(person, data, on=['name','address'], how='left')"
   ]
  },
  {
   "cell_type": "markdown",
   "metadata": {},
   "source": [
    "Tu riesime nejednotne data a hodnoty a vymiename ich za jednotne tvary.\n",
    "\n",
    "A dalej parsujeme datumy. A pocitame vek na zaklade datumu narodenia."
   ]
  },
  {
   "cell_type": "code",
   "execution_count": 122,
   "metadata": {
    "collapsed": false,
    "jupyter": {
     "outputs_hidden": false
    },
    "pycharm": {
     "name": "#%%\n"
    }
   },
   "outputs": [
    {
     "name": "stdout",
     "output_type": "stream",
     "text": [
      "<class 'pandas.core.frame.DataFrame'>\n",
      "Int64Index: 3933 entries, 0 to 3932\n",
      "Data columns (total 28 columns):\n",
      "name                3933 non-null object\n",
      "address             3933 non-null object\n",
      "age                 3933 non-null float64\n",
      "sex                 3933 non-null object\n",
      "date_of_birth       3933 non-null object\n",
      "race                3933 non-null object\n",
      "marital-status      3933 non-null object\n",
      "occupation          3703 non-null object\n",
      "pregnant            3931 non-null object\n",
      "relationship        3932 non-null object\n",
      "education           3933 non-null object\n",
      "income              3932 non-null object\n",
      "native-country      3872 non-null object\n",
      "workclass           3341 non-null object\n",
      "education-num       3933 non-null float64\n",
      "capital-gain        3933 non-null float64\n",
      "fnlwgt              3932 non-null float64\n",
      "class               3933 non-null float64\n",
      "hours-per-week      3932 non-null float64\n",
      "capital-loss        3933 non-null float64\n",
      "mean_glucose        3932 non-null float64\n",
      "std_glucose         3932 non-null float64\n",
      "kurtosis_glucose    3932 non-null float64\n",
      "skewness_glucose    3932 non-null float64\n",
      "mean_oxygen         3932 non-null float64\n",
      "std_oxygen          3932 non-null float64\n",
      "kurtosis_oxygen     3932 non-null float64\n",
      "skewness_oxygen     3932 non-null float64\n",
      "dtypes: float64(15), object(13)\n",
      "memory usage: 1.0+ MB\n"
     ]
    }
   ],
   "source": [
    "merged_data = merged_data.replace(['FALSE','F'],'f',regex=True)\n",
    "merged_data = merged_data.replace(['TRUE','T'],'t',regex=True)\n",
    "\n",
    "merged_data = merged_data.replace([' <=50K'],'<=50K',regex=True)\n",
    "merged_data = merged_data.replace([' >50K'],'>50K',regex=True)\n",
    "\n",
    "\n",
    "merged_data = merged_data.replace([' Other-relative'],'Other_relative',regex=True)\n",
    "merged_data = merged_data.replace([' Not-in-family'],'Not_in_family',regex=True)\n",
    "merged_data = merged_data.replace([' Own-child'],'Own_child',regex=True)\n",
    "\n",
    "\n",
    "for i, row in merged_data.iterrows():\n",
    "        \n",
    "    date = parser.parse(merged_data.iloc[i]['date_of_birth'].split(' ')[0])\n",
    "    day = date.day\n",
    "    month = date.month\n",
    "    year = date.year\n",
    "    \n",
    "    if (year > 2019):\n",
    "        year = year - 100\n",
    "\n",
    "    merged_data.at[i,'date_of_birth'] = str(day) + \"/\" + str(month) + \"/\" + str(year)\n",
    "            \n",
    "    if ((pd.isna(row['age'])) | (row['age'] > 115) | (row['age'] < 0)):\n",
    "        merged_data.at[i,'age'] = 2019 - year\n",
    "\n",
    "merged_data.info()"
   ]
  },
  {
   "cell_type": "code",
   "execution_count": 123,
   "metadata": {
    "collapsed": false,
    "jupyter": {
     "outputs_hidden": false
    },
    "pycharm": {
     "name": "#%%\n"
    }
   },
   "outputs": [],
   "source": [
    "# Remove outliers which can be probably not use\n",
    "# print(merged_data['education-num'].value_counts())\n",
    "# sns.distplot(merged_data['education-num'])\n",
    "\n",
    "# ## Remove outliers from education-num\n",
    "# # sns.boxplot(merged_data['education-num'])\n",
    "# merged_data.loc[merged_data['education-num'] < 5,'education-num'] = np.NaN\n",
    "# # sns.boxplot(merged_data['education-num'])\n",
    "# \n",
    "# ## Remove outliers from 'capital-gain'\n",
    "# # sns.boxplot(merged_data['capital-gain'])\n",
    "# merged_data.loc[merged_data['capital-gain'] > 30000,'capital-gain'] = np.NaN\n",
    "# # sns.boxplot(merged_data['capital-gain'])\n",
    "# \n",
    "# ## Remove outliers from 'fnlwgt'\n",
    "# # sns.boxplot(merged_data['fnlwgt'])\n",
    "# merged_data.loc[merged_data['fnlwgt'] > 800000,'fnlwgt'] = np.NaN\n",
    "# # sns.boxplot(merged_data['fnlwgt'])\n",
    "# \n",
    "# ## Remove outliers from 'hours-per-week'\n",
    "# # sns.boxplot(merged_data['hours-per-week'])\n",
    "# merged_data.loc[(merged_data['hours-per-week'] > 57) | (merged_data['hours-per-week'] < 8),'hours-per-week'] = np.NaN\n",
    "# # sns.boxplot(merged_data['hours-per-week'])"
   ]
  },
  {
   "cell_type": "markdown",
   "metadata": {},
   "source": [
    "Nasleduje odstranovanie outlierov z dat z povodneho stlpca medical info, pricom na povodne miesto nahradime NaN, ktory sa bude dalej nahradzovat v dalsej bunke."
   ]
  },
  {
   "cell_type": "code",
   "execution_count": 124,
   "metadata": {
    "collapsed": false,
    "jupyter": {
     "outputs_hidden": false
    },
    "pycharm": {
     "name": "#%%\n"
    }
   },
   "outputs": [],
   "source": [
    "# Remove outliers on floats datas\n",
    "\n",
    "## Remove outliers from 'kurtosis_glucose'\n",
    "column = 'kurtosis_glucose'\n",
    "# sns.boxplot(merged_data[column])\n",
    "# merged_data[column].hist()\n",
    "mask = (merged_data[column] > 6) | (merged_data[column] < -1)\n",
    "merged_data.loc[mask ,column] = np.NaN\n",
    "\n",
    "## Remove outliers from 'mean_glucose'\n",
    "column = 'mean_glucose'\n",
    "# sns.boxplot(merged_data[column])\n",
    "# merged_data[column].hist()\n",
    "mask = (merged_data[column] > 150)  \n",
    "merged_data.loc[mask ,column] = np.NaN\n",
    "\n",
    "## Remove outliers from 'mean_oxygen'\n",
    "column = 'mean_oxygen'\n",
    "# sns.boxplot(merged_data[column])\n",
    "# merged_data[column].hist()\n",
    "mask = (merged_data[column] > 120)  \n",
    "merged_data.loc[mask ,column] = np.NaN\n",
    "\n",
    "## Remove outliers from 'kurtosis_oxygen'\n",
    "column = 'kurtosis_oxygen'\n",
    "# sns.boxplot(merged_data[column])\n",
    "# merged_data[column].hist()\n",
    "mask = (merged_data[column] > 20)  \n",
    "merged_data.loc[mask ,column] = np.NaN\n",
    "\n",
    "## Remove outliers from 'skewness_glucose'\n",
    "column = 'skewness_glucose'\n",
    "# sns.boxplot(merged_data[column])\n",
    "# merged_data[column].hist()\n",
    "mask = (merged_data[column] > 40)  \n",
    "merged_data.loc[mask ,column] = np.NaN\n",
    "\n",
    "## Remove outliers from 'skewness_oxygen'\n",
    "column = 'skewness_oxygen'\n",
    "# sns.boxplot(merged_data[column])\n",
    "# merged_data[column].hist()\n",
    "mask = (merged_data[column] > 350)  \n",
    "merged_data.loc[mask ,column] = np.NaN\n",
    "\n",
    "## Remove outliers from 'std_glucose'\n",
    "column = 'std_glucose'\n",
    "# sns.boxplot(merged_data[column])\n",
    "# merged_data[column].hist()\n",
    "mask = (merged_data[column] > 62) \n",
    "merged_data.loc[mask ,column] = np.NaN\n",
    "\n",
    "## Remove outliers from 'std_oxygen'\n",
    "column = 'std_oxygen'\n",
    "# sns.boxplot(merged_data[column])\n",
    "# merged_data[column].hist()\n",
    "mask = (merged_data[column] > 80)  \n",
    "merged_data.loc[mask ,column] = np.NaN\n"
   ]
  },
  {
   "cell_type": "markdown",
   "metadata": {},
   "source": [
    "Rozdelujeme si dataset na 3 kategorie, na prvych 5 numerickych, zvysne numericke a nasledne kategoricke.\n",
    "\n",
    "Aby sme vedeli pri nahradzani chybajucich dat vyuzit viacere techniky nahradzania."
   ]
  },
  {
   "cell_type": "code",
   "execution_count": 125,
   "metadata": {
    "collapsed": false,
    "jupyter": {
     "outputs_hidden": false
    },
    "pycharm": {
     "is_executing": false,
     "name": "#%%\n"
    }
   },
   "outputs": [
    {
     "name": "stdout",
     "output_type": "stream",
     "text": [
      "Index(['education-num', 'capital-gain', 'fnlwgt', 'hours-per-week',\n",
      "       'capital-loss'],\n",
      "      dtype='object')\n",
      "Index(['mean_glucose', 'std_glucose', 'kurtosis_glucose', 'skewness_glucose',\n",
      "       'mean_oxygen', 'std_oxygen', 'kurtosis_oxygen', 'skewness_oxygen',\n",
      "       'age'],\n",
      "      dtype='object')\n",
      "Index(['name', 'address', 'sex', 'date_of_birth', 'race', 'marital-status',\n",
      "       'occupation', 'pregnant', 'relationship', 'education', 'income',\n",
      "       'native-country', 'workclass'],\n",
      "      dtype='object')\n"
     ]
    }
   ],
   "source": [
    "# Divide datas into 3 category\n",
    "\n",
    "old = merged_data\n",
    "merged_data = merged_data.drop(columns=['class'])\n",
    "age_column = copy.deepcopy(merged_data['age'])\n",
    "merged_data = merged_data.drop(columns=['age'])\n",
    "merged_data['age'] = age_column\n",
    "\n",
    "numeric = merged_data.select_dtypes(include=['float64'])\n",
    "numeric1 = numeric.iloc[:,:5].columns\n",
    "print(numeric1)\n",
    "numeric2 = numeric.iloc[:,5:].columns\n",
    "print(numeric2)  \n",
    "categoric = merged_data.select_dtypes(include=['object']).columns\n",
    "print(categoric)"
   ]
  },
  {
   "cell_type": "markdown",
   "metadata": {},
   "source": [
    "Zadefinujeme si jednotlive kroky pipelines, pricom na prvu skupinu numerickych hodnot pouzivame MissForest a PowerTransformer (pre upravenie dat, aby boli z gausovho rozdelenia) a na druhu skupinu pouzivame KNN. A na kategoricke data pouzivame najcastejsiu hodnotu."
   ]
  },
  {
   "cell_type": "code",
   "execution_count": 126,
   "metadata": {
    "collapsed": false,
    "jupyter": {
     "outputs_hidden": false
    },
    "pycharm": {
     "is_executing": false,
     "name": "#%%\n"
    }
   },
   "outputs": [],
   "source": [
    "# Apply pipeline in category \n",
    "\n",
    "numeric_transformer1 = Pipeline(steps=[('imputer',MissForest(missing_values=np.NaN, max_iter=10, # Nahradenie nulovych hodnot pomocou MissForest\n",
    "                                                             decreasing=False, copy=False)), \n",
    "                                      ('powerTransformer',PowerTransformer(method='yeo-johnson',\n",
    "                                                                           copy=False)) # Transformuje dat aby boli viac z Gaussoveho rozdelenia\n",
    "                                       ])\n",
    "numeric_transformer2 = Pipeline(steps=[('imputer',KNNImputer(missing_values=np.NaN, n_neighbors=5, # Nahradenie nulovych hodnot pomocou KNN\n",
    "                                                              weights='distance')), \n",
    "                                     # ('RobustScaler',StandardScaler())    # \n",
    "                                       ])\n",
    "categoric_transormer = Pipeline(steps=[('imputer',SimpleImputer(strategy='most_frequent'))]) # Nahradenie nulovych hodnot pomocou najcastejsich hodnot\n",
    "                                      # ('onehot',OneHotEncoder(handle_unknown='ignore'))])\n",
    "preproccesors = ColumnTransformer(transformers=[('Cat', categoric_transormer, categoric),\n",
    "                                                ('Num1', numeric_transformer1, numeric1),\n",
    "                                                ('Num2', numeric_transformer2, numeric2)\n",
    "                                                ])\n"
   ]
  },
  {
   "cell_type": "markdown",
   "metadata": {},
   "source": [
    "Vykoname jednotlive kroky pipelines, pricom ich ucime a hned aj transformujeme."
   ]
  },
  {
   "cell_type": "code",
   "execution_count": 127,
   "metadata": {
    "collapsed": false,
    "jupyter": {
     "outputs_hidden": false
    },
    "pycharm": {
     "is_executing": false,
     "name": "#%%\n"
    }
   },
   "outputs": [
    {
     "name": "stdout",
     "output_type": "stream",
     "text": [
      "Iteration: 0\n",
      "Iteration: 1\n",
      "Iteration: 2\n"
     ]
    },
    {
     "name": "stderr",
     "output_type": "stream",
     "text": [
      "C:\\Users\\Lukas\\Anaconda3\\lib\\site-packages\\missingpy\\knnimpute.py:224: UserWarning: There are rows with more than 50.0% missing values. These rows are not included as donor neighbors.\n",
      "  .format(self.row_max_missing * 100))\n",
      "C:\\Users\\Lukas\\Anaconda3\\lib\\site-packages\\missingpy\\knnimpute.py:282: UserWarning: There are rows with more than 50.0% missing values. The missing features in these rows are imputed with column means.\n",
      "  .format(self.row_max_missing * 100))\n",
      "C:\\Users\\Lukas\\Anaconda3\\lib\\site-packages\\sklearn\\utils\\validation.py:432: DeprecationWarning: 'warn_on_dtype' is deprecated in version 0.21 and will be removed in 0.23. Don't set `warn_on_dtype` to remove this warning.\n",
      "  DeprecationWarning)\n",
      "C:\\Users\\Lukas\\Anaconda3\\lib\\site-packages\\sklearn\\utils\\validation.py:432: DeprecationWarning: 'warn_on_dtype' is deprecated in version 0.21 and will be removed in 0.23. Don't set `warn_on_dtype` to remove this warning.\n",
      "  DeprecationWarning)\n",
      "C:\\Users\\Lukas\\Anaconda3\\lib\\site-packages\\missingpy\\utils.py:124: RuntimeWarning: invalid value encountered in sqrt\n",
      "  return distances if squared else np.sqrt(distances, out=distances)\n"
     ]
    }
   ],
   "source": [
    "# Execute pipeline steps\n",
    "\n",
    "pipeline = Pipeline(steps=[('preproccesors', preproccesors)])\n",
    "pipeline_datas = pipeline.fit_transform(merged_data)"
   ]
  },
  {
   "cell_type": "markdown",
   "metadata": {},
   "source": [
    "Pozrieme sa do jednotlivych dat, aby sme zistili, ci su fajnovucke."
   ]
  },
  {
   "cell_type": "code",
   "execution_count": 128,
   "metadata": {
    "collapsed": false,
    "jupyter": {
     "outputs_hidden": false
    },
    "pycharm": {
     "is_executing": false,
     "name": "#%%\n"
    }
   },
   "outputs": [
    {
     "name": "stdout",
     "output_type": "stream",
     "text": [
      "                     name                                            address  \\\n",
      "0         Roscoe Bohannon  7183 Osborne Ways Apt. 651\\r\\nEast Andrew, OH ...   \n",
      "1            Ernest Kline  391 Ball Road Suite 961\\r\\nflowersborough, IN ...   \n",
      "2         Harold Hendriks     8702 Vincent Square\\r\\nNew Jerryfurt, CO 30614   \n",
      "3          Randy Baptiste     2751 Harris Crossroad\\r\\nWest Ashley, CA 30311   \n",
      "4         Anthony Colucci  904 Robert Cliffs Suite 186\\r\\nWest Kyle, CO 7...   \n",
      "...                   ...                                                ...   \n",
      "3928      Clair Pinkleton             8582 Lee Roads\\r\\nCostaburgh, SC 21897   \n",
      "3929         William Pope  68430 Erik terrace Suite 279\\r\\nPort Adamborou...   \n",
      "3930         Jared Kinsey                 Unit 8416 Box 3801\\r\\nDPO AE 31166   \n",
      "3931     frederick Lawley   34420 Brian Stream\\r\\nLake Michaeltown, MS 01832   \n",
      "3932  Adalberto Daughters                 Unit 7931 Box 0601\\r\\nDPO AE 50505   \n",
      "\n",
      "          sex date_of_birth                 race       marital-status  \\\n",
      "0        Male     30/3/1967                White        Never-married   \n",
      "1        Male    15/10/1970                Black             Divorced   \n",
      "2        Male    16/12/1954                White        Never-married   \n",
      "3        Male     23/7/1969                White   Married-civ-spouse   \n",
      "4        Male      5/3/1950                White   Married-civ-spouse   \n",
      "...       ...           ...                  ...                  ...   \n",
      "3928     Male     18/3/1952   Asian-Pac-Islander   Married-civ-spouse   \n",
      "3929   female     26/5/1952                White        Never-married   \n",
      "3930   female      7/7/1970                White        Never-married   \n",
      "3931     Male     22/7/1977                White   Married-civ-spouse   \n",
      "3932     Male     27/4/1961   Asian-Pac-Islander        Never-married   \n",
      "\n",
      "              occupation pregnant    relationship      education  ...  \\\n",
      "0           Adm-clerical        f   Not_in_family        Masters  ...   \n",
      "1       transport-moving        f   Not_in_family   Some-college  ...   \n",
      "2                  Sales        f   Not_in_family   Some-college  ...   \n",
      "3           Craft-repair        f         Husband   Some-college  ...   \n",
      "4      Machine-op-inspct        f         Husband   Some-college  ...   \n",
      "...                  ...      ...             ...            ...  ...   \n",
      "3928    transport-moving        f         Husband        HS-grad  ...   \n",
      "3929      Prof-specialty        f   Not_in_family      Bachelors  ...   \n",
      "3930        Adm-clerical        t   Not_in_family   Some-college  ...   \n",
      "3931    transport-moving        f         Husband        7th-8th  ...   \n",
      "3932        Craft-repair        f       Own_child   Some-college  ...   \n",
      "\n",
      "     capital-loss mean_glucose std_glucose kurtosis_glucose skewness_glucose  \\\n",
      "0       -0.227166      95.3516     41.8288           1.2805          3.35128   \n",
      "1       -0.227166      111.164     51.8022         0.267679         -0.14194   \n",
      "2       -0.227166      14.4609     29.3877          5.60039          34.2231   \n",
      "3       -0.227166      107.797     41.5627         0.510415           1.6726   \n",
      "4       -0.227166      111.484     53.0683         0.459786        -0.116594   \n",
      "...           ...          ...         ...              ...              ...   \n",
      "3928    -0.227166      103.578     45.1666         0.552355         0.777646   \n",
      "3929    -0.227166      27.4688     37.2831          4.43058          20.8445   \n",
      "3930    -0.227166      100.859     32.7313         0.251239          3.49173   \n",
      "3931    -0.227166      40.3984     33.7485           3.9339          19.2947   \n",
      "3932    -0.227166      124.797      45.098          0.28694        -0.171916   \n",
      "\n",
      "     mean_oxygen std_oxygen kurtosis_oxygen skewness_oxygen age  \n",
      "0        14.1037    47.4748         3.51302          11.306  52  \n",
      "1        2.90217    19.0583         8.40249         79.6189  49  \n",
      "2        57.3821    68.2629         1.04252        0.231636  65  \n",
      "3        1.91054     17.341         10.5089         120.443  50  \n",
      "4         1.5995    11.3475         12.5953         226.699  69  \n",
      "...          ...        ...             ...             ...  ..  \n",
      "3928     21.8211    51.1772         2.39892         4.75922  67  \n",
      "3929     7.81438    31.3656         4.77233         24.5001  67  \n",
      "3930     4.96823     25.766         5.87621         36.8711  49  \n",
      "3931     96.3495    76.5768        0.558779       -0.717264  42  \n",
      "3932     5.55602     25.384         5.14751         28.1122  58  \n",
      "\n",
      "[3933 rows x 27 columns]\n"
     ]
    }
   ],
   "source": [
    "# Show mereged datas\n",
    "\n",
    "merged_data = pd.DataFrame(pipeline_datas,columns=merged_data.columns)\n",
    "print(merged_data)\n"
   ]
  },
  {
   "cell_type": "markdown",
   "metadata": {},
   "source": [
    "Tu prebieha pretypovanie niektorych dat, nakolko nam z nich pipelines urobili objekty a povodne boli tieto data floaty.\n",
    "\n",
    "Taktiez vraciame naspat stlpec class, ktory bol predtym odobraty z dat."
   ]
  },
  {
   "cell_type": "code",
   "execution_count": 129,
   "metadata": {},
   "outputs": [
    {
     "name": "stdout",
     "output_type": "stream",
     "text": [
      "                     name                                            address  \\\n",
      "0         Roscoe Bohannon  7183 Osborne Ways Apt. 651\\r\\nEast Andrew, OH ...   \n",
      "1            Ernest Kline  391 Ball Road Suite 961\\r\\nflowersborough, IN ...   \n",
      "2         Harold Hendriks     8702 Vincent Square\\r\\nNew Jerryfurt, CO 30614   \n",
      "3          Randy Baptiste     2751 Harris Crossroad\\r\\nWest Ashley, CA 30311   \n",
      "4         Anthony Colucci  904 Robert Cliffs Suite 186\\r\\nWest Kyle, CO 7...   \n",
      "...                   ...                                                ...   \n",
      "3928      Clair Pinkleton             8582 Lee Roads\\r\\nCostaburgh, SC 21897   \n",
      "3929         William Pope  68430 Erik terrace Suite 279\\r\\nPort Adamborou...   \n",
      "3930         Jared Kinsey                 Unit 8416 Box 3801\\r\\nDPO AE 31166   \n",
      "3931     frederick Lawley   34420 Brian Stream\\r\\nLake Michaeltown, MS 01832   \n",
      "3932  Adalberto Daughters                 Unit 7931 Box 0601\\r\\nDPO AE 50505   \n",
      "\n",
      "          sex date_of_birth                 race       marital-status  \\\n",
      "0        Male     30/3/1967                White        Never-married   \n",
      "1        Male    15/10/1970                Black             Divorced   \n",
      "2        Male    16/12/1954                White        Never-married   \n",
      "3        Male     23/7/1969                White   Married-civ-spouse   \n",
      "4        Male      5/3/1950                White   Married-civ-spouse   \n",
      "...       ...           ...                  ...                  ...   \n",
      "3928     Male     18/3/1952   Asian-Pac-Islander   Married-civ-spouse   \n",
      "3929   female     26/5/1952                White        Never-married   \n",
      "3930   female      7/7/1970                White        Never-married   \n",
      "3931     Male     22/7/1977                White   Married-civ-spouse   \n",
      "3932     Male     27/4/1961   Asian-Pac-Islander        Never-married   \n",
      "\n",
      "              occupation pregnant    relationship      education  ...  \\\n",
      "0           Adm-clerical        f   Not_in_family        Masters  ...   \n",
      "1       transport-moving        f   Not_in_family   Some-college  ...   \n",
      "2                  Sales        f   Not_in_family   Some-college  ...   \n",
      "3           Craft-repair        f         Husband   Some-college  ...   \n",
      "4      Machine-op-inspct        f         Husband   Some-college  ...   \n",
      "...                  ...      ...             ...            ...  ...   \n",
      "3928    transport-moving        f         Husband        HS-grad  ...   \n",
      "3929      Prof-specialty        f   Not_in_family      Bachelors  ...   \n",
      "3930        Adm-clerical        t   Not_in_family   Some-college  ...   \n",
      "3931    transport-moving        f         Husband        7th-8th  ...   \n",
      "3932        Craft-repair        f       Own_child   Some-college  ...   \n",
      "\n",
      "     mean_glucose std_glucose kurtosis_glucose  skewness_glucose  mean_oxygen  \\\n",
      "0       95.351562   41.828816         1.280503          3.351277    14.103679   \n",
      "1      111.164062   51.802174         0.267679         -0.141940     2.902174   \n",
      "2       14.460938   29.387737         5.600391         34.223119    57.382107   \n",
      "3      107.796875   41.562709         0.510415          1.672603     1.910535   \n",
      "4      111.484375   53.068350         0.459786         -0.116594     1.599498   \n",
      "...           ...         ...              ...               ...          ...   \n",
      "3928   103.578125   45.166638         0.552355          0.777646    21.821070   \n",
      "3929    27.468750   37.283110         4.430580         20.844460     7.814381   \n",
      "3930   100.859375   32.731324         0.251239          3.491732     4.968227   \n",
      "3931    40.398438   33.748458         3.933903         19.294670    96.349498   \n",
      "3932   124.796875   45.098046         0.286940         -0.171916     5.556020   \n",
      "\n",
      "      std_oxygen  kurtosis_oxygen  skewness_oxygen   age  class  \n",
      "0      47.474805         3.513019        11.305999  52.0      1  \n",
      "1      19.058253         8.402489        79.618941  49.0      0  \n",
      "2      68.262860         1.042517         0.231636  65.0      1  \n",
      "3      17.340950        10.508914       120.443237  50.0      1  \n",
      "4      11.347475        12.595281       226.699206  69.0      0  \n",
      "...          ...              ...              ...   ...    ...  \n",
      "3928   51.177177         2.398916         4.759217  67.0      1  \n",
      "3929   31.365559         4.772329        24.500064  67.0      1  \n",
      "3930   25.765971         5.876207        36.871068  49.0      0  \n",
      "3931   76.576780         0.558779        -0.717264  42.0      1  \n",
      "3932   25.383995         5.147508        28.112212  58.0      0  \n",
      "\n",
      "[3933 rows x 28 columns]\n"
     ]
    }
   ],
   "source": [
    "merged_data['age'] = merged_data['age'].astype(np.float64)\n",
    "merged_data['education-num'] = merged_data['education-num'].astype(np.float64)\n",
    "merged_data['capital-gain'] = merged_data['capital-gain'].astype(np.float64)\n",
    "merged_data['fnlwgt'] = merged_data['fnlwgt'].astype(np.float64)\n",
    "# merged_data['class'] = merged_data['class'].astype(np.float64)\n",
    "merged_data['hours-per-week'] = merged_data['hours-per-week'].astype(np.float64)\n",
    "merged_data['capital-loss'] = merged_data['capital-loss'].astype(np.float64)\n",
    "merged_data['mean_glucose'] = merged_data['mean_glucose'].astype(np.float64)\n",
    "merged_data['std_glucose'] = merged_data['std_glucose'].astype(np.float64)\n",
    "merged_data['kurtosis_glucose'] = merged_data['kurtosis_glucose'].astype(np.float64)\n",
    "merged_data['skewness_glucose'] = merged_data['skewness_glucose'].astype(np.float64)\n",
    "merged_data['mean_oxygen'] = merged_data['mean_oxygen'].astype(np.float64)\n",
    "merged_data['std_oxygen'] = merged_data['std_oxygen'].astype(np.float64)\n",
    "merged_data['kurtosis_oxygen'] = merged_data['kurtosis_oxygen'].astype(np.float64)\n",
    "merged_data['skewness_oxygen'] = merged_data['skewness_oxygen'].astype(np.float64)\n",
    "merged_data['class'] = old['class'].astype(np.int64)\n",
    "print(merged_data)"
   ]
  },
  {
   "cell_type": "markdown",
   "metadata": {},
   "source": [
    "Tu porovnavame typy stlpcov medzi povodnymi datami a nami upravenymi datami.\n",
    "\n",
    "og obsahuje povodne data.\n",
    "\n",
    "merged_data obsahuje nami zmenene data.\n",
    "\n",
    "Mozme tu taktiez vidiet, ze sa v datach uz nevyskytuju ziadne nulove hodnoty a pocet zaznamov sa mierne znizil o duplikaty."
   ]
  },
  {
   "cell_type": "code",
   "execution_count": 130,
   "metadata": {},
   "outputs": [
    {
     "name": "stdout",
     "output_type": "stream",
     "text": [
      "<class 'pandas.core.frame.DataFrame'>\n",
      "Int64Index: 3983 entries, 0 to 3982\n",
      "Data columns (total 25 columns):\n",
      "name                3983 non-null object\n",
      "address             3983 non-null object\n",
      "race                3970 non-null object\n",
      "marital-status      3965 non-null object\n",
      "occupation          3731 non-null object\n",
      "pregnant            3961 non-null object\n",
      "education-num       3962 non-null float64\n",
      "relationship        3967 non-null object\n",
      "capital-gain        3970 non-null float64\n",
      "education           3967 non-null object\n",
      "fnlwgt              3966 non-null float64\n",
      "class               3966 non-null float64\n",
      "income              3965 non-null object\n",
      "native-country      3905 non-null object\n",
      "hours-per-week      3968 non-null float64\n",
      "capital-loss        3969 non-null float64\n",
      "workclass           3366 non-null object\n",
      "mean_glucose        3964 non-null float64\n",
      "std_glucose         3964 non-null float64\n",
      "kurtosis_glucose    3964 non-null float64\n",
      "skewness_glucose    3964 non-null float64\n",
      "mean_oxygen         3964 non-null float64\n",
      "std_oxygen          3964 non-null float64\n",
      "kurtosis_oxygen     3964 non-null float64\n",
      "skewness_oxygen     3964 non-null float64\n",
      "dtypes: float64(14), object(11)\n",
      "memory usage: 809.0+ KB\n"
     ]
    }
   ],
   "source": [
    "og.info()"
   ]
  },
  {
   "cell_type": "code",
   "execution_count": 131,
   "metadata": {},
   "outputs": [
    {
     "name": "stdout",
     "output_type": "stream",
     "text": [
      "<class 'pandas.core.frame.DataFrame'>\n",
      "RangeIndex: 3933 entries, 0 to 3932\n",
      "Data columns (total 28 columns):\n",
      "name                3933 non-null object\n",
      "address             3933 non-null object\n",
      "sex                 3933 non-null object\n",
      "date_of_birth       3933 non-null object\n",
      "race                3933 non-null object\n",
      "marital-status      3933 non-null object\n",
      "occupation          3933 non-null object\n",
      "pregnant            3933 non-null object\n",
      "relationship        3933 non-null object\n",
      "education           3933 non-null object\n",
      "income              3933 non-null object\n",
      "native-country      3933 non-null object\n",
      "workclass           3933 non-null object\n",
      "education-num       3933 non-null float64\n",
      "capital-gain        3933 non-null float64\n",
      "fnlwgt              3933 non-null float64\n",
      "hours-per-week      3933 non-null float64\n",
      "capital-loss        3933 non-null float64\n",
      "mean_glucose        3933 non-null float64\n",
      "std_glucose         3933 non-null float64\n",
      "kurtosis_glucose    3933 non-null float64\n",
      "skewness_glucose    3933 non-null float64\n",
      "mean_oxygen         3933 non-null float64\n",
      "std_oxygen          3933 non-null float64\n",
      "kurtosis_oxygen     3933 non-null float64\n",
      "skewness_oxygen     3933 non-null float64\n",
      "age                 3933 non-null float64\n",
      "class               3933 non-null int64\n",
      "dtypes: float64(14), int64(1), object(13)\n",
      "memory usage: 860.5+ KB\n"
     ]
    }
   ],
   "source": [
    "merged_data.info()"
   ]
  },
  {
   "cell_type": "code",
   "execution_count": 132,
   "metadata": {},
   "outputs": [
    {
     "data": {
      "text/html": [
       "<div>\n",
       "<style scoped>\n",
       "    .dataframe tbody tr th:only-of-type {\n",
       "        vertical-align: middle;\n",
       "    }\n",
       "\n",
       "    .dataframe tbody tr th {\n",
       "        vertical-align: top;\n",
       "    }\n",
       "\n",
       "    .dataframe thead th {\n",
       "        text-align: right;\n",
       "    }\n",
       "</style>\n",
       "<table border=\"1\" class=\"dataframe\">\n",
       "  <thead>\n",
       "    <tr style=\"text-align: right;\">\n",
       "      <th></th>\n",
       "      <th>name</th>\n",
       "      <th>address</th>\n",
       "      <th>race</th>\n",
       "      <th>marital-status</th>\n",
       "      <th>occupation</th>\n",
       "      <th>pregnant</th>\n",
       "      <th>education-num</th>\n",
       "      <th>relationship</th>\n",
       "      <th>capital-gain</th>\n",
       "      <th>education</th>\n",
       "      <th>...</th>\n",
       "      <th>capital-loss</th>\n",
       "      <th>workclass</th>\n",
       "      <th>mean_glucose</th>\n",
       "      <th>std_glucose</th>\n",
       "      <th>kurtosis_glucose</th>\n",
       "      <th>skewness_glucose</th>\n",
       "      <th>mean_oxygen</th>\n",
       "      <th>std_oxygen</th>\n",
       "      <th>kurtosis_oxygen</th>\n",
       "      <th>skewness_oxygen</th>\n",
       "    </tr>\n",
       "  </thead>\n",
       "  <tbody>\n",
       "    <tr>\n",
       "      <td>count</td>\n",
       "      <td>3983</td>\n",
       "      <td>3983</td>\n",
       "      <td>3970</td>\n",
       "      <td>3965</td>\n",
       "      <td>3731</td>\n",
       "      <td>3961</td>\n",
       "      <td>3962.00000</td>\n",
       "      <td>3967</td>\n",
       "      <td>3970.000000</td>\n",
       "      <td>3967</td>\n",
       "      <td>...</td>\n",
       "      <td>3969.000000</td>\n",
       "      <td>3366</td>\n",
       "      <td>3964.000000</td>\n",
       "      <td>3964.000000</td>\n",
       "      <td>3964.000000</td>\n",
       "      <td>3964.000000</td>\n",
       "      <td>3964.000000</td>\n",
       "      <td>3964.000000</td>\n",
       "      <td>3964.000000</td>\n",
       "      <td>3964.000000</td>\n",
       "    </tr>\n",
       "    <tr>\n",
       "      <td>unique</td>\n",
       "      <td>3933</td>\n",
       "      <td>3933</td>\n",
       "      <td>5</td>\n",
       "      <td>6</td>\n",
       "      <td>14</td>\n",
       "      <td>6</td>\n",
       "      <td>NaN</td>\n",
       "      <td>9</td>\n",
       "      <td>NaN</td>\n",
       "      <td>16</td>\n",
       "      <td>...</td>\n",
       "      <td>NaN</td>\n",
       "      <td>7</td>\n",
       "      <td>NaN</td>\n",
       "      <td>NaN</td>\n",
       "      <td>NaN</td>\n",
       "      <td>NaN</td>\n",
       "      <td>NaN</td>\n",
       "      <td>NaN</td>\n",
       "      <td>NaN</td>\n",
       "      <td>NaN</td>\n",
       "    </tr>\n",
       "    <tr>\n",
       "      <td>top</td>\n",
       "      <td>James Menzies</td>\n",
       "      <td>455 Amber Freeway\\r\\nWest Timothyland, RI 32037</td>\n",
       "      <td>White</td>\n",
       "      <td>Married-civ-spouse</td>\n",
       "      <td>Craft-repair</td>\n",
       "      <td>f</td>\n",
       "      <td>NaN</td>\n",
       "      <td>Husband</td>\n",
       "      <td>NaN</td>\n",
       "      <td>HS-grad</td>\n",
       "      <td>...</td>\n",
       "      <td>NaN</td>\n",
       "      <td>Private</td>\n",
       "      <td>NaN</td>\n",
       "      <td>NaN</td>\n",
       "      <td>NaN</td>\n",
       "      <td>NaN</td>\n",
       "      <td>NaN</td>\n",
       "      <td>NaN</td>\n",
       "      <td>NaN</td>\n",
       "      <td>NaN</td>\n",
       "    </tr>\n",
       "    <tr>\n",
       "      <td>freq</td>\n",
       "      <td>3</td>\n",
       "      <td>3</td>\n",
       "      <td>3398</td>\n",
       "      <td>1830</td>\n",
       "      <td>547</td>\n",
       "      <td>3494</td>\n",
       "      <td>NaN</td>\n",
       "      <td>1615</td>\n",
       "      <td>NaN</td>\n",
       "      <td>1306</td>\n",
       "      <td>...</td>\n",
       "      <td>NaN</td>\n",
       "      <td>2518</td>\n",
       "      <td>NaN</td>\n",
       "      <td>NaN</td>\n",
       "      <td>NaN</td>\n",
       "      <td>NaN</td>\n",
       "      <td>NaN</td>\n",
       "      <td>NaN</td>\n",
       "      <td>NaN</td>\n",
       "      <td>NaN</td>\n",
       "    </tr>\n",
       "    <tr>\n",
       "      <td>mean</td>\n",
       "      <td>NaN</td>\n",
       "      <td>NaN</td>\n",
       "      <td>NaN</td>\n",
       "      <td>NaN</td>\n",
       "      <td>NaN</td>\n",
       "      <td>NaN</td>\n",
       "      <td>10.05477</td>\n",
       "      <td>NaN</td>\n",
       "      <td>1240.338539</td>\n",
       "      <td>NaN</td>\n",
       "      <td>...</td>\n",
       "      <td>91.746536</td>\n",
       "      <td>NaN</td>\n",
       "      <td>101.296270</td>\n",
       "      <td>45.167552</td>\n",
       "      <td>0.951369</td>\n",
       "      <td>4.222697</td>\n",
       "      <td>18.476218</td>\n",
       "      <td>31.163018</td>\n",
       "      <td>7.413264</td>\n",
       "      <td>91.325501</td>\n",
       "    </tr>\n",
       "    <tr>\n",
       "      <td>std</td>\n",
       "      <td>NaN</td>\n",
       "      <td>NaN</td>\n",
       "      <td>NaN</td>\n",
       "      <td>NaN</td>\n",
       "      <td>NaN</td>\n",
       "      <td>NaN</td>\n",
       "      <td>2.58377</td>\n",
       "      <td>NaN</td>\n",
       "      <td>8300.936903</td>\n",
       "      <td>NaN</td>\n",
       "      <td>...</td>\n",
       "      <td>412.307694</td>\n",
       "      <td>NaN</td>\n",
       "      <td>33.596246</td>\n",
       "      <td>7.608018</td>\n",
       "      <td>1.611950</td>\n",
       "      <td>9.675803</td>\n",
       "      <td>34.776830</td>\n",
       "      <td>22.291900</td>\n",
       "      <td>4.813020</td>\n",
       "      <td>108.557875</td>\n",
       "    </tr>\n",
       "    <tr>\n",
       "      <td>min</td>\n",
       "      <td>NaN</td>\n",
       "      <td>NaN</td>\n",
       "      <td>NaN</td>\n",
       "      <td>NaN</td>\n",
       "      <td>NaN</td>\n",
       "      <td>NaN</td>\n",
       "      <td>1.00000</td>\n",
       "      <td>NaN</td>\n",
       "      <td>0.000000</td>\n",
       "      <td>NaN</td>\n",
       "      <td>...</td>\n",
       "      <td>0.000000</td>\n",
       "      <td>NaN</td>\n",
       "      <td>6.187500</td>\n",
       "      <td>25.695250</td>\n",
       "      <td>-1.641515</td>\n",
       "      <td>-1.755332</td>\n",
       "      <td>0.213211</td>\n",
       "      <td>7.370432</td>\n",
       "      <td>-2.597872</td>\n",
       "      <td>-1.976976</td>\n",
       "    </tr>\n",
       "    <tr>\n",
       "      <td>25%</td>\n",
       "      <td>NaN</td>\n",
       "      <td>NaN</td>\n",
       "      <td>NaN</td>\n",
       "      <td>NaN</td>\n",
       "      <td>NaN</td>\n",
       "      <td>NaN</td>\n",
       "      <td>9.00000</td>\n",
       "      <td>NaN</td>\n",
       "      <td>0.000000</td>\n",
       "      <td>NaN</td>\n",
       "      <td>...</td>\n",
       "      <td>0.000000</td>\n",
       "      <td>NaN</td>\n",
       "      <td>87.720703</td>\n",
       "      <td>40.153323</td>\n",
       "      <td>0.071484</td>\n",
       "      <td>-0.120081</td>\n",
       "      <td>2.064799</td>\n",
       "      <td>15.034235</td>\n",
       "      <td>3.629228</td>\n",
       "      <td>12.749103</td>\n",
       "    </tr>\n",
       "    <tr>\n",
       "      <td>50%</td>\n",
       "      <td>NaN</td>\n",
       "      <td>NaN</td>\n",
       "      <td>NaN</td>\n",
       "      <td>NaN</td>\n",
       "      <td>NaN</td>\n",
       "      <td>NaN</td>\n",
       "      <td>10.00000</td>\n",
       "      <td>NaN</td>\n",
       "      <td>0.000000</td>\n",
       "      <td>NaN</td>\n",
       "      <td>...</td>\n",
       "      <td>0.000000</td>\n",
       "      <td>NaN</td>\n",
       "      <td>110.671875</td>\n",
       "      <td>45.868605</td>\n",
       "      <td>0.310578</td>\n",
       "      <td>0.375623</td>\n",
       "      <td>3.227007</td>\n",
       "      <td>20.535393</td>\n",
       "      <td>7.787156</td>\n",
       "      <td>68.623477</td>\n",
       "    </tr>\n",
       "    <tr>\n",
       "      <td>75%</td>\n",
       "      <td>NaN</td>\n",
       "      <td>NaN</td>\n",
       "      <td>NaN</td>\n",
       "      <td>NaN</td>\n",
       "      <td>NaN</td>\n",
       "      <td>NaN</td>\n",
       "      <td>12.00000</td>\n",
       "      <td>NaN</td>\n",
       "      <td>0.000000</td>\n",
       "      <td>NaN</td>\n",
       "      <td>...</td>\n",
       "      <td>0.000000</td>\n",
       "      <td>NaN</td>\n",
       "      <td>124.160156</td>\n",
       "      <td>50.346566</td>\n",
       "      <td>0.775953</td>\n",
       "      <td>2.083826</td>\n",
       "      <td>12.672659</td>\n",
       "      <td>43.297645</td>\n",
       "      <td>10.269058</td>\n",
       "      <td>127.057043</td>\n",
       "    </tr>\n",
       "    <tr>\n",
       "      <td>max</td>\n",
       "      <td>NaN</td>\n",
       "      <td>NaN</td>\n",
       "      <td>NaN</td>\n",
       "      <td>NaN</td>\n",
       "      <td>NaN</td>\n",
       "      <td>NaN</td>\n",
       "      <td>16.00000</td>\n",
       "      <td>NaN</td>\n",
       "      <td>99999.000000</td>\n",
       "      <td>NaN</td>\n",
       "      <td>...</td>\n",
       "      <td>2824.000000</td>\n",
       "      <td>NaN</td>\n",
       "      <td>189.734375</td>\n",
       "      <td>91.206475</td>\n",
       "      <td>8.069522</td>\n",
       "      <td>68.101622</td>\n",
       "      <td>217.371238</td>\n",
       "      <td>110.642211</td>\n",
       "      <td>34.539844</td>\n",
       "      <td>1191.000837</td>\n",
       "    </tr>\n",
       "  </tbody>\n",
       "</table>\n",
       "<p>11 rows × 25 columns</p>\n",
       "</div>"
      ],
      "text/plain": [
       "                 name                                          address  \\\n",
       "count            3983                                             3983   \n",
       "unique           3933                                             3933   \n",
       "top     James Menzies  455 Amber Freeway\\r\\nWest Timothyland, RI 32037   \n",
       "freq                3                                                3   \n",
       "mean              NaN                                              NaN   \n",
       "std               NaN                                              NaN   \n",
       "min               NaN                                              NaN   \n",
       "25%               NaN                                              NaN   \n",
       "50%               NaN                                              NaN   \n",
       "75%               NaN                                              NaN   \n",
       "max               NaN                                              NaN   \n",
       "\n",
       "          race       marital-status     occupation pregnant  education-num  \\\n",
       "count     3970                 3965           3731     3961     3962.00000   \n",
       "unique       5                    6             14        6            NaN   \n",
       "top      White   Married-civ-spouse   Craft-repair        f            NaN   \n",
       "freq      3398                 1830            547     3494            NaN   \n",
       "mean       NaN                  NaN            NaN      NaN       10.05477   \n",
       "std        NaN                  NaN            NaN      NaN        2.58377   \n",
       "min        NaN                  NaN            NaN      NaN        1.00000   \n",
       "25%        NaN                  NaN            NaN      NaN        9.00000   \n",
       "50%        NaN                  NaN            NaN      NaN       10.00000   \n",
       "75%        NaN                  NaN            NaN      NaN       12.00000   \n",
       "max        NaN                  NaN            NaN      NaN       16.00000   \n",
       "\n",
       "       relationship  capital-gain education  ...  capital-loss  workclass  \\\n",
       "count          3967   3970.000000      3967  ...   3969.000000       3366   \n",
       "unique            9           NaN        16  ...           NaN          7   \n",
       "top         Husband           NaN   HS-grad  ...           NaN    Private   \n",
       "freq           1615           NaN      1306  ...           NaN       2518   \n",
       "mean            NaN   1240.338539       NaN  ...     91.746536        NaN   \n",
       "std             NaN   8300.936903       NaN  ...    412.307694        NaN   \n",
       "min             NaN      0.000000       NaN  ...      0.000000        NaN   \n",
       "25%             NaN      0.000000       NaN  ...      0.000000        NaN   \n",
       "50%             NaN      0.000000       NaN  ...      0.000000        NaN   \n",
       "75%             NaN      0.000000       NaN  ...      0.000000        NaN   \n",
       "max             NaN  99999.000000       NaN  ...   2824.000000        NaN   \n",
       "\n",
       "       mean_glucose  std_glucose  kurtosis_glucose  skewness_glucose  \\\n",
       "count   3964.000000  3964.000000       3964.000000       3964.000000   \n",
       "unique          NaN          NaN               NaN               NaN   \n",
       "top             NaN          NaN               NaN               NaN   \n",
       "freq            NaN          NaN               NaN               NaN   \n",
       "mean     101.296270    45.167552          0.951369          4.222697   \n",
       "std       33.596246     7.608018          1.611950          9.675803   \n",
       "min        6.187500    25.695250         -1.641515         -1.755332   \n",
       "25%       87.720703    40.153323          0.071484         -0.120081   \n",
       "50%      110.671875    45.868605          0.310578          0.375623   \n",
       "75%      124.160156    50.346566          0.775953          2.083826   \n",
       "max      189.734375    91.206475          8.069522         68.101622   \n",
       "\n",
       "        mean_oxygen   std_oxygen  kurtosis_oxygen  skewness_oxygen  \n",
       "count   3964.000000  3964.000000      3964.000000      3964.000000  \n",
       "unique          NaN          NaN              NaN              NaN  \n",
       "top             NaN          NaN              NaN              NaN  \n",
       "freq            NaN          NaN              NaN              NaN  \n",
       "mean      18.476218    31.163018         7.413264        91.325501  \n",
       "std       34.776830    22.291900         4.813020       108.557875  \n",
       "min        0.213211     7.370432        -2.597872        -1.976976  \n",
       "25%        2.064799    15.034235         3.629228        12.749103  \n",
       "50%        3.227007    20.535393         7.787156        68.623477  \n",
       "75%       12.672659    43.297645        10.269058       127.057043  \n",
       "max      217.371238   110.642211        34.539844      1191.000837  \n",
       "\n",
       "[11 rows x 25 columns]"
      ]
     },
     "execution_count": 132,
     "metadata": {},
     "output_type": "execute_result"
    }
   ],
   "source": [
    "og.describe(include=\"all\")"
   ]
  },
  {
   "cell_type": "code",
   "execution_count": 133,
   "metadata": {},
   "outputs": [
    {
     "data": {
      "text/html": [
       "<div>\n",
       "<style scoped>\n",
       "    .dataframe tbody tr th:only-of-type {\n",
       "        vertical-align: middle;\n",
       "    }\n",
       "\n",
       "    .dataframe tbody tr th {\n",
       "        vertical-align: top;\n",
       "    }\n",
       "\n",
       "    .dataframe thead th {\n",
       "        text-align: right;\n",
       "    }\n",
       "</style>\n",
       "<table border=\"1\" class=\"dataframe\">\n",
       "  <thead>\n",
       "    <tr style=\"text-align: right;\">\n",
       "      <th></th>\n",
       "      <th>name</th>\n",
       "      <th>address</th>\n",
       "      <th>sex</th>\n",
       "      <th>date_of_birth</th>\n",
       "      <th>race</th>\n",
       "      <th>marital-status</th>\n",
       "      <th>occupation</th>\n",
       "      <th>pregnant</th>\n",
       "      <th>relationship</th>\n",
       "      <th>education</th>\n",
       "      <th>...</th>\n",
       "      <th>mean_glucose</th>\n",
       "      <th>std_glucose</th>\n",
       "      <th>kurtosis_glucose</th>\n",
       "      <th>skewness_glucose</th>\n",
       "      <th>mean_oxygen</th>\n",
       "      <th>std_oxygen</th>\n",
       "      <th>kurtosis_oxygen</th>\n",
       "      <th>skewness_oxygen</th>\n",
       "      <th>age</th>\n",
       "      <th>class</th>\n",
       "    </tr>\n",
       "  </thead>\n",
       "  <tbody>\n",
       "    <tr>\n",
       "      <td>count</td>\n",
       "      <td>3933</td>\n",
       "      <td>3933</td>\n",
       "      <td>3933</td>\n",
       "      <td>3933</td>\n",
       "      <td>3933</td>\n",
       "      <td>3933</td>\n",
       "      <td>3933</td>\n",
       "      <td>3933</td>\n",
       "      <td>3933</td>\n",
       "      <td>3933</td>\n",
       "      <td>...</td>\n",
       "      <td>3933.000000</td>\n",
       "      <td>3933.000000</td>\n",
       "      <td>3933.000000</td>\n",
       "      <td>3933.000000</td>\n",
       "      <td>3933.000000</td>\n",
       "      <td>3933.000000</td>\n",
       "      <td>3933.000000</td>\n",
       "      <td>3933.000000</td>\n",
       "      <td>3933.000000</td>\n",
       "      <td>3933.000000</td>\n",
       "    </tr>\n",
       "    <tr>\n",
       "      <td>unique</td>\n",
       "      <td>3933</td>\n",
       "      <td>3933</td>\n",
       "      <td>2</td>\n",
       "      <td>3458</td>\n",
       "      <td>5</td>\n",
       "      <td>6</td>\n",
       "      <td>14</td>\n",
       "      <td>2</td>\n",
       "      <td>9</td>\n",
       "      <td>16</td>\n",
       "      <td>...</td>\n",
       "      <td>NaN</td>\n",
       "      <td>NaN</td>\n",
       "      <td>NaN</td>\n",
       "      <td>NaN</td>\n",
       "      <td>NaN</td>\n",
       "      <td>NaN</td>\n",
       "      <td>NaN</td>\n",
       "      <td>NaN</td>\n",
       "      <td>NaN</td>\n",
       "      <td>NaN</td>\n",
       "    </tr>\n",
       "    <tr>\n",
       "      <td>top</td>\n",
       "      <td>Guy Myers</td>\n",
       "      <td>5642 Morgan Street\\r\\nEast Allison, KY 69780</td>\n",
       "      <td>Male</td>\n",
       "      <td>7/5/1967</td>\n",
       "      <td>White</td>\n",
       "      <td>Married-civ-spouse</td>\n",
       "      <td>Craft-repair</td>\n",
       "      <td>f</td>\n",
       "      <td>Husband</td>\n",
       "      <td>HS-grad</td>\n",
       "      <td>...</td>\n",
       "      <td>NaN</td>\n",
       "      <td>NaN</td>\n",
       "      <td>NaN</td>\n",
       "      <td>NaN</td>\n",
       "      <td>NaN</td>\n",
       "      <td>NaN</td>\n",
       "      <td>NaN</td>\n",
       "      <td>NaN</td>\n",
       "      <td>NaN</td>\n",
       "      <td>NaN</td>\n",
       "    </tr>\n",
       "    <tr>\n",
       "      <td>freq</td>\n",
       "      <td>1</td>\n",
       "      <td>1</td>\n",
       "      <td>2664</td>\n",
       "      <td>4</td>\n",
       "      <td>3369</td>\n",
       "      <td>1814</td>\n",
       "      <td>770</td>\n",
       "      <td>3850</td>\n",
       "      <td>1597</td>\n",
       "      <td>1292</td>\n",
       "      <td>...</td>\n",
       "      <td>NaN</td>\n",
       "      <td>NaN</td>\n",
       "      <td>NaN</td>\n",
       "      <td>NaN</td>\n",
       "      <td>NaN</td>\n",
       "      <td>NaN</td>\n",
       "      <td>NaN</td>\n",
       "      <td>NaN</td>\n",
       "      <td>NaN</td>\n",
       "      <td>NaN</td>\n",
       "    </tr>\n",
       "    <tr>\n",
       "      <td>mean</td>\n",
       "      <td>NaN</td>\n",
       "      <td>NaN</td>\n",
       "      <td>NaN</td>\n",
       "      <td>NaN</td>\n",
       "      <td>NaN</td>\n",
       "      <td>NaN</td>\n",
       "      <td>NaN</td>\n",
       "      <td>NaN</td>\n",
       "      <td>NaN</td>\n",
       "      <td>NaN</td>\n",
       "      <td>...</td>\n",
       "      <td>100.693955</td>\n",
       "      <td>44.993221</td>\n",
       "      <td>0.935117</td>\n",
       "      <td>3.996733</td>\n",
       "      <td>15.951854</td>\n",
       "      <td>30.302621</td>\n",
       "      <td>7.263346</td>\n",
       "      <td>83.578324</td>\n",
       "      <td>51.856089</td>\n",
       "      <td>0.255276</td>\n",
       "    </tr>\n",
       "    <tr>\n",
       "      <td>std</td>\n",
       "      <td>NaN</td>\n",
       "      <td>NaN</td>\n",
       "      <td>NaN</td>\n",
       "      <td>NaN</td>\n",
       "      <td>NaN</td>\n",
       "      <td>NaN</td>\n",
       "      <td>NaN</td>\n",
       "      <td>NaN</td>\n",
       "      <td>NaN</td>\n",
       "      <td>NaN</td>\n",
       "      <td>...</td>\n",
       "      <td>32.921435</td>\n",
       "      <td>7.227453</td>\n",
       "      <td>1.541877</td>\n",
       "      <td>8.778216</td>\n",
       "      <td>27.078138</td>\n",
       "      <td>20.475328</td>\n",
       "      <td>4.439692</td>\n",
       "      <td>79.608417</td>\n",
       "      <td>11.811987</td>\n",
       "      <td>0.436072</td>\n",
       "    </tr>\n",
       "    <tr>\n",
       "      <td>min</td>\n",
       "      <td>NaN</td>\n",
       "      <td>NaN</td>\n",
       "      <td>NaN</td>\n",
       "      <td>NaN</td>\n",
       "      <td>NaN</td>\n",
       "      <td>NaN</td>\n",
       "      <td>NaN</td>\n",
       "      <td>NaN</td>\n",
       "      <td>NaN</td>\n",
       "      <td>NaN</td>\n",
       "      <td>...</td>\n",
       "      <td>6.187500</td>\n",
       "      <td>25.695250</td>\n",
       "      <td>-0.944764</td>\n",
       "      <td>-1.755332</td>\n",
       "      <td>0.213211</td>\n",
       "      <td>7.370432</td>\n",
       "      <td>-2.597872</td>\n",
       "      <td>-1.976976</td>\n",
       "      <td>0.000000</td>\n",
       "      <td>0.000000</td>\n",
       "    </tr>\n",
       "    <tr>\n",
       "      <td>25%</td>\n",
       "      <td>NaN</td>\n",
       "      <td>NaN</td>\n",
       "      <td>NaN</td>\n",
       "      <td>NaN</td>\n",
       "      <td>NaN</td>\n",
       "      <td>NaN</td>\n",
       "      <td>NaN</td>\n",
       "      <td>NaN</td>\n",
       "      <td>NaN</td>\n",
       "      <td>NaN</td>\n",
       "      <td>...</td>\n",
       "      <td>87.742188</td>\n",
       "      <td>40.165726</td>\n",
       "      <td>0.073829</td>\n",
       "      <td>-0.119347</td>\n",
       "      <td>2.065217</td>\n",
       "      <td>15.035776</td>\n",
       "      <td>3.637833</td>\n",
       "      <td>12.866679</td>\n",
       "      <td>44.000000</td>\n",
       "      <td>0.000000</td>\n",
       "    </tr>\n",
       "    <tr>\n",
       "      <td>50%</td>\n",
       "      <td>NaN</td>\n",
       "      <td>NaN</td>\n",
       "      <td>NaN</td>\n",
       "      <td>NaN</td>\n",
       "      <td>NaN</td>\n",
       "      <td>NaN</td>\n",
       "      <td>NaN</td>\n",
       "      <td>NaN</td>\n",
       "      <td>NaN</td>\n",
       "      <td>NaN</td>\n",
       "      <td>...</td>\n",
       "      <td>110.562500</td>\n",
       "      <td>45.834440</td>\n",
       "      <td>0.311723</td>\n",
       "      <td>0.375487</td>\n",
       "      <td>3.236622</td>\n",
       "      <td>20.560715</td>\n",
       "      <td>7.779635</td>\n",
       "      <td>68.490474</td>\n",
       "      <td>52.000000</td>\n",
       "      <td>0.000000</td>\n",
       "    </tr>\n",
       "    <tr>\n",
       "      <td>75%</td>\n",
       "      <td>NaN</td>\n",
       "      <td>NaN</td>\n",
       "      <td>NaN</td>\n",
       "      <td>NaN</td>\n",
       "      <td>NaN</td>\n",
       "      <td>NaN</td>\n",
       "      <td>NaN</td>\n",
       "      <td>NaN</td>\n",
       "      <td>NaN</td>\n",
       "      <td>NaN</td>\n",
       "      <td>...</td>\n",
       "      <td>123.625000</td>\n",
       "      <td>50.264680</td>\n",
       "      <td>0.778607</td>\n",
       "      <td>2.090761</td>\n",
       "      <td>12.647993</td>\n",
       "      <td>43.094329</td>\n",
       "      <td>10.237197</td>\n",
       "      <td>126.578762</td>\n",
       "      <td>60.000000</td>\n",
       "      <td>1.000000</td>\n",
       "    </tr>\n",
       "    <tr>\n",
       "      <td>max</td>\n",
       "      <td>NaN</td>\n",
       "      <td>NaN</td>\n",
       "      <td>NaN</td>\n",
       "      <td>NaN</td>\n",
       "      <td>NaN</td>\n",
       "      <td>NaN</td>\n",
       "      <td>NaN</td>\n",
       "      <td>NaN</td>\n",
       "      <td>NaN</td>\n",
       "      <td>NaN</td>\n",
       "      <td>...</td>\n",
       "      <td>149.867188</td>\n",
       "      <td>61.864692</td>\n",
       "      <td>5.994345</td>\n",
       "      <td>39.912909</td>\n",
       "      <td>119.732441</td>\n",
       "      <td>79.997032</td>\n",
       "      <td>19.994352</td>\n",
       "      <td>349.998246</td>\n",
       "      <td>113.000000</td>\n",
       "      <td>1.000000</td>\n",
       "    </tr>\n",
       "  </tbody>\n",
       "</table>\n",
       "<p>11 rows × 28 columns</p>\n",
       "</div>"
      ],
      "text/plain": [
       "             name                                       address    sex  \\\n",
       "count        3933                                          3933   3933   \n",
       "unique       3933                                          3933      2   \n",
       "top     Guy Myers  5642 Morgan Street\\r\\nEast Allison, KY 69780   Male   \n",
       "freq            1                                             1   2664   \n",
       "mean          NaN                                           NaN    NaN   \n",
       "std           NaN                                           NaN    NaN   \n",
       "min           NaN                                           NaN    NaN   \n",
       "25%           NaN                                           NaN    NaN   \n",
       "50%           NaN                                           NaN    NaN   \n",
       "75%           NaN                                           NaN    NaN   \n",
       "max           NaN                                           NaN    NaN   \n",
       "\n",
       "       date_of_birth    race       marital-status     occupation pregnant  \\\n",
       "count           3933    3933                 3933           3933     3933   \n",
       "unique          3458       5                    6             14        2   \n",
       "top         7/5/1967   White   Married-civ-spouse   Craft-repair        f   \n",
       "freq               4    3369                 1814            770     3850   \n",
       "mean             NaN     NaN                  NaN            NaN      NaN   \n",
       "std              NaN     NaN                  NaN            NaN      NaN   \n",
       "min              NaN     NaN                  NaN            NaN      NaN   \n",
       "25%              NaN     NaN                  NaN            NaN      NaN   \n",
       "50%              NaN     NaN                  NaN            NaN      NaN   \n",
       "75%              NaN     NaN                  NaN            NaN      NaN   \n",
       "max              NaN     NaN                  NaN            NaN      NaN   \n",
       "\n",
       "       relationship education  ... mean_glucose  std_glucose kurtosis_glucose  \\\n",
       "count          3933      3933  ...  3933.000000  3933.000000      3933.000000   \n",
       "unique            9        16  ...          NaN          NaN              NaN   \n",
       "top         Husband   HS-grad  ...          NaN          NaN              NaN   \n",
       "freq           1597      1292  ...          NaN          NaN              NaN   \n",
       "mean            NaN       NaN  ...   100.693955    44.993221         0.935117   \n",
       "std             NaN       NaN  ...    32.921435     7.227453         1.541877   \n",
       "min             NaN       NaN  ...     6.187500    25.695250        -0.944764   \n",
       "25%             NaN       NaN  ...    87.742188    40.165726         0.073829   \n",
       "50%             NaN       NaN  ...   110.562500    45.834440         0.311723   \n",
       "75%             NaN       NaN  ...   123.625000    50.264680         0.778607   \n",
       "max             NaN       NaN  ...   149.867188    61.864692         5.994345   \n",
       "\n",
       "        skewness_glucose  mean_oxygen   std_oxygen  kurtosis_oxygen  \\\n",
       "count        3933.000000  3933.000000  3933.000000      3933.000000   \n",
       "unique               NaN          NaN          NaN              NaN   \n",
       "top                  NaN          NaN          NaN              NaN   \n",
       "freq                 NaN          NaN          NaN              NaN   \n",
       "mean            3.996733    15.951854    30.302621         7.263346   \n",
       "std             8.778216    27.078138    20.475328         4.439692   \n",
       "min            -1.755332     0.213211     7.370432        -2.597872   \n",
       "25%            -0.119347     2.065217    15.035776         3.637833   \n",
       "50%             0.375487     3.236622    20.560715         7.779635   \n",
       "75%             2.090761    12.647993    43.094329        10.237197   \n",
       "max            39.912909   119.732441    79.997032        19.994352   \n",
       "\n",
       "        skewness_oxygen          age        class  \n",
       "count       3933.000000  3933.000000  3933.000000  \n",
       "unique              NaN          NaN          NaN  \n",
       "top                 NaN          NaN          NaN  \n",
       "freq                NaN          NaN          NaN  \n",
       "mean          83.578324    51.856089     0.255276  \n",
       "std           79.608417    11.811987     0.436072  \n",
       "min           -1.976976     0.000000     0.000000  \n",
       "25%           12.866679    44.000000     0.000000  \n",
       "50%           68.490474    52.000000     0.000000  \n",
       "75%          126.578762    60.000000     1.000000  \n",
       "max          349.998246   113.000000     1.000000  \n",
       "\n",
       "[11 rows x 28 columns]"
      ]
     },
     "execution_count": 133,
     "metadata": {},
     "output_type": "execute_result"
    }
   ],
   "source": [
    "merged_data.describe(include=\"all\")"
   ]
  },
  {
   "cell_type": "markdown",
   "metadata": {},
   "source": [
    "Dalej porovnavame jednotlive hodnoty z povodneho stplca medical info. Mozeme sporovat rozdiely v rozdeleni tychto dat, taktiez odstranenie outlierov.\n",
    "\n",
    "Pricom kazdy neparny graf zobrazuje povodne hodnoty a kazdy parny graf zobrazuje upravene hodnoty."
   ]
  },
  {
   "cell_type": "code",
   "execution_count": 134,
   "metadata": {},
   "outputs": [
    {
     "data": {
      "text/plain": [
       "array([[<matplotlib.axes._subplots.AxesSubplot object at 0x0000018137ED4278>]],\n",
       "      dtype=object)"
      ]
     },
     "execution_count": 134,
     "metadata": {},
     "output_type": "execute_result"
    },
    {
     "data": {
      "image/png": "[encoded data removed]",
      "text/plain": [
       "<Figure size 432x288 with 1 Axes>"
      ]
     },
     "metadata": {
      "needs_background": "light"
     },
     "output_type": "display_data"
    }
   ],
   "source": [
    "og.hist('mean_glucose')"
   ]
  },
  {
   "cell_type": "code",
   "execution_count": 135,
   "metadata": {},
   "outputs": [
    {
     "data": {
      "text/plain": [
       "array([[<matplotlib.axes._subplots.AxesSubplot object at 0x0000018137EE6FD0>]],\n",
       "      dtype=object)"
      ]
     },
     "execution_count": 135,
     "metadata": {},
     "output_type": "execute_result"
    },
    {
     "data": {
      "image/png": "[encoded data removed]",
      "text/plain": [
       "<Figure size 432x288 with 1 Axes>"
      ]
     },
     "metadata": {
      "needs_background": "light"
     },
     "output_type": "display_data"
    }
   ],
   "source": [
    "merged_data.hist('mean_glucose')"
   ]
  },
  {
   "cell_type": "code",
   "execution_count": 136,
   "metadata": {},
   "outputs": [
    {
     "data": {
      "text/plain": [
       "array([[<matplotlib.axes._subplots.AxesSubplot object at 0x0000018137EB5C50>]],\n",
       "      dtype=object)"
      ]
     },
     "execution_count": 136,
     "metadata": {},
     "output_type": "execute_result"
    },
    {
     "data": {
      "image/png": "[encoded data removed]",
      "text/plain": [
       "<Figure size 432x288 with 1 Axes>"
      ]
     },
     "metadata": {
      "needs_background": "light"
     },
     "output_type": "display_data"
    }
   ],
   "source": [
    "og.hist('std_glucose')"
   ]
  },
  {
   "cell_type": "code",
   "execution_count": 137,
   "metadata": {},
   "outputs": [
    {
     "data": {
      "text/plain": [
       "array([[<matplotlib.axes._subplots.AxesSubplot object at 0x00000181196D7C18>]],\n",
       "      dtype=object)"
      ]
     },
     "execution_count": 137,
     "metadata": {},
     "output_type": "execute_result"
    },
    {
     "data": {
      "image/png": "[encoded data removed]",
      "text/plain": [
       "<Figure size 432x288 with 1 Axes>"
      ]
     },
     "metadata": {
      "needs_background": "light"
     },
     "output_type": "display_data"
    }
   ],
   "source": [
    "merged_data.hist('std_glucose')"
   ]
  },
  {
   "cell_type": "code",
   "execution_count": 138,
   "metadata": {},
   "outputs": [
    {
     "data": {
      "text/plain": [
       "array([[<matplotlib.axes._subplots.AxesSubplot object at 0x0000018137FA11D0>]],\n",
       "      dtype=object)"
      ]
     },
     "execution_count": 138,
     "metadata": {},
     "output_type": "execute_result"
    },
    {
     "data": {
      "image/png": "[encoded data removed]",
      "text/plain": [
       "<Figure size 432x288 with 1 Axes>"
      ]
     },
     "metadata": {
      "needs_background": "light"
     },
     "output_type": "display_data"
    }
   ],
   "source": [
    "og.hist('kurtosis_glucose')"
   ]
  },
  {
   "cell_type": "code",
   "execution_count": 139,
   "metadata": {},
   "outputs": [
    {
     "data": {
      "text/plain": [
       "array([[<matplotlib.axes._subplots.AxesSubplot object at 0x00000181380208D0>]],\n",
       "      dtype=object)"
      ]
     },
     "execution_count": 139,
     "metadata": {},
     "output_type": "execute_result"
    },
    {
     "data": {
      "image/png": "[encoded data removed]",
      "text/plain": [
       "<Figure size 432x288 with 1 Axes>"
      ]
     },
     "metadata": {
      "needs_background": "light"
     },
     "output_type": "display_data"
    }
   ],
   "source": [
    "merged_data.hist('kurtosis_glucose')"
   ]
  },
  {
   "cell_type": "code",
   "execution_count": 140,
   "metadata": {},
   "outputs": [
    {
     "data": {
      "text/plain": [
       "array([[<matplotlib.axes._subplots.AxesSubplot object at 0x0000018137FA1470>]],\n",
       "      dtype=object)"
      ]
     },
     "execution_count": 140,
     "metadata": {},
     "output_type": "execute_result"
    },
    {
     "data": {
      "image/png": "[encoded data removed]",
      "text/plain": [
       "<Figure size 432x288 with 1 Axes>"
      ]
     },
     "metadata": {
      "needs_background": "light"
     },
     "output_type": "display_data"
    }
   ],
   "source": [
    "og.hist('skewness_glucose')"
   ]
  },
  {
   "cell_type": "code",
   "execution_count": 141,
   "metadata": {},
   "outputs": [
    {
     "data": {
      "text/plain": [
       "array([[<matplotlib.axes._subplots.AxesSubplot object at 0x000001813811DCF8>]],\n",
       "      dtype=object)"
      ]
     },
     "execution_count": 141,
     "metadata": {},
     "output_type": "execute_result"
    },
    {
     "data": {
      "image/png": "[encoded data removed]",
      "text/plain": [
       "<Figure size 432x288 with 1 Axes>"
      ]
     },
     "metadata": {
      "needs_background": "light"
     },
     "output_type": "display_data"
    }
   ],
   "source": [
    "merged_data.hist('skewness_glucose')"
   ]
  },
  {
   "cell_type": "code",
   "execution_count": 142,
   "metadata": {},
   "outputs": [
    {
     "data": {
      "text/plain": [
       "array([[<matplotlib.axes._subplots.AxesSubplot object at 0x0000018138194EB8>]],\n",
       "      dtype=object)"
      ]
     },
     "execution_count": 142,
     "metadata": {},
     "output_type": "execute_result"
    },
    {
     "data": {
      "image/png": "[encoded data removed]",
      "text/plain": [
       "<Figure size 432x288 with 1 Axes>"
      ]
     },
     "metadata": {
      "needs_background": "light"
     },
     "output_type": "display_data"
    }
   ],
   "source": [
    "og.hist('mean_oxygen')"
   ]
  },
  {
   "cell_type": "code",
   "execution_count": 143,
   "metadata": {},
   "outputs": [
    {
     "data": {
      "text/plain": [
       "array([[<matplotlib.axes._subplots.AxesSubplot object at 0x0000018138150A58>]],\n",
       "      dtype=object)"
      ]
     },
     "execution_count": 143,
     "metadata": {},
     "output_type": "execute_result"
    },
    {
     "data": {
      "image/png": "[encoded data removed]",
      "text/plain": [
       "<Figure size 432x288 with 1 Axes>"
      ]
     },
     "metadata": {
      "needs_background": "light"
     },
     "output_type": "display_data"
    }
   ],
   "source": [
    "merged_data.hist('mean_oxygen')"
   ]
  },
  {
   "cell_type": "code",
   "execution_count": 144,
   "metadata": {},
   "outputs": [
    {
     "data": {
      "text/plain": [
       "array([[<matplotlib.axes._subplots.AxesSubplot object at 0x0000018117AF7DD8>]],\n",
       "      dtype=object)"
      ]
     },
     "execution_count": 144,
     "metadata": {},
     "output_type": "execute_result"
    },
    {
     "data": {
      "image/png": "[encoded data removed]",
      "text/plain": [
       "<Figure size 432x288 with 1 Axes>"
      ]
     },
     "metadata": {
      "needs_background": "light"
     },
     "output_type": "display_data"
    }
   ],
   "source": [
    "og.hist('std_oxygen')"
   ]
  },
  {
   "cell_type": "code",
   "execution_count": 145,
   "metadata": {},
   "outputs": [
    {
     "data": {
      "text/plain": [
       "array([[<matplotlib.axes._subplots.AxesSubplot object at 0x0000018138309E48>]],\n",
       "      dtype=object)"
      ]
     },
     "execution_count": 145,
     "metadata": {},
     "output_type": "execute_result"
    },
    {
     "data": {
      "image/png": "[encoded data removed]",
      "text/plain": [
       "<Figure size 432x288 with 1 Axes>"
      ]
     },
     "metadata": {
      "needs_background": "light"
     },
     "output_type": "display_data"
    }
   ],
   "source": [
    "merged_data.hist('std_oxygen')"
   ]
  },
  {
   "cell_type": "code",
   "execution_count": 146,
   "metadata": {},
   "outputs": [
    {
     "data": {
      "text/plain": [
       "array([[<matplotlib.axes._subplots.AxesSubplot object at 0x000001813837CE10>]],\n",
       "      dtype=object)"
      ]
     },
     "execution_count": 146,
     "metadata": {},
     "output_type": "execute_result"
    },
    {
     "data": {
      "image/png": "[encoded data removed]",
      "text/plain": [
       "<Figure size 432x288 with 1 Axes>"
      ]
     },
     "metadata": {
      "needs_background": "light"
     },
     "output_type": "display_data"
    }
   ],
   "source": [
    "og.hist('kurtosis_oxygen')"
   ]
  },
  {
   "cell_type": "code",
   "execution_count": 147,
   "metadata": {},
   "outputs": [
    {
     "data": {
      "text/plain": [
       "array([[<matplotlib.axes._subplots.AxesSubplot object at 0x00000181393F4D30>]],\n",
       "      dtype=object)"
      ]
     },
     "execution_count": 147,
     "metadata": {},
     "output_type": "execute_result"
    },
    {
     "data": {
      "image/png": "[encoded data removed]",
      "text/plain": [
       "<Figure size 432x288 with 1 Axes>"
      ]
     },
     "metadata": {
      "needs_background": "light"
     },
     "output_type": "display_data"
    }
   ],
   "source": [
    "merged_data.hist('kurtosis_oxygen')"
   ]
  },
  {
   "cell_type": "code",
   "execution_count": 148,
   "metadata": {},
   "outputs": [
    {
     "data": {
      "text/plain": [
       "array([[<matplotlib.axes._subplots.AxesSubplot object at 0x00000181394790B8>]],\n",
       "      dtype=object)"
      ]
     },
     "execution_count": 148,
     "metadata": {},
     "output_type": "execute_result"
    },
    {
     "data": {
      "image/png": "[encoded data removed]",
      "text/plain": [
       "<Figure size 432x288 with 1 Axes>"
      ]
     },
     "metadata": {
      "needs_background": "light"
     },
     "output_type": "display_data"
    }
   ],
   "source": [
    "og.hist('skewness_oxygen')"
   ]
  },
  {
   "cell_type": "code",
   "execution_count": 149,
   "metadata": {},
   "outputs": [
    {
     "data": {
      "text/plain": [
       "array([[<matplotlib.axes._subplots.AxesSubplot object at 0x0000018139505588>]],\n",
       "      dtype=object)"
      ]
     },
     "execution_count": 149,
     "metadata": {},
     "output_type": "execute_result"
    },
    {
     "data": {
      "image/png": "[encoded data removed]",
      "text/plain": [
       "<Figure size 432x288 with 1 Axes>"
      ]
     },
     "metadata": {
      "needs_background": "light"
     },
     "output_type": "display_data"
    }
   ],
   "source": [
    "merged_data.hist('skewness_oxygen')"
   ]
  },
  {
   "cell_type": "markdown",
   "metadata": {},
   "source": [
    "Pri porovnani pairplotov mozeme vidiet mierne zmeny. Pri niektorych datach sa zvacsilo rozpatie hodnot (napr. kurtosis glucose a skewness glucose)."
   ]
  },
  {
   "cell_type": "code",
   "execution_count": null,
   "metadata": {},
   "outputs": [
    {
     "name": "stderr",
     "output_type": "stream",
     "text": [
      "C:\\Users\\Lukas\\Anaconda3\\lib\\site-packages\\statsmodels\\nonparametric\\kde.py:447: RuntimeWarning: invalid value encountered in greater\n",
      "  X = X[np.logical_and(X > clip[0], X < clip[1])] # won't work for two columns.\n",
      "C:\\Users\\Lukas\\Anaconda3\\lib\\site-packages\\statsmodels\\nonparametric\\kde.py:447: RuntimeWarning: invalid value encountered in less\n",
      "  X = X[np.logical_and(X > clip[0], X < clip[1])] # won't work for two columns.\n",
      "C:\\Users\\Lukas\\Anaconda3\\lib\\site-packages\\statsmodels\\nonparametric\\kde.py:487: RuntimeWarning: invalid value encountered in true_divide\n",
      "  binned = fast_linbin(X, a, b, gridsize) / (delta * nobs)\n",
      "C:\\Users\\Lukas\\Anaconda3\\lib\\site-packages\\statsmodels\\nonparametric\\kdetools.py:34: RuntimeWarning: invalid value encountered in double_scalars\n",
      "  FAC1 = 2*(np.pi*bw/RANGE)**2\n"
     ]
    }
   ],
   "source": [
    "sns.pairplot(og, hue=\"class\")"
   ]
  },
  {
   "cell_type": "code",
   "execution_count": null,
   "metadata": {},
   "outputs": [],
   "source": [
    "sns.pairplot(merged_data, hue=\"class\")"
   ]
  },
  {
   "cell_type": "markdown",
   "metadata": {},
   "source": [
    "Na vybratych scatterplotoch mozeme vidiet mierne zmeny v rozdeleni dat. Ide hlavne o zmensenie rozpati pri tychto datach."
   ]
  },
  {
   "cell_type": "code",
   "execution_count": null,
   "metadata": {},
   "outputs": [],
   "source": [
    "sns.scatterplot(x=og['kurtosis_glucose'], y=og['kurtosis_oxygen'], hue=og['class'], alpha=0.5)"
   ]
  },
  {
   "cell_type": "code",
   "execution_count": null,
   "metadata": {},
   "outputs": [],
   "source": [
    "sns.scatterplot(x=merged_data['kurtosis_glucose'], y=merged_data['kurtosis_oxygen'], hue=merged_data['class'], alpha=0.5)"
   ]
  },
  {
   "cell_type": "code",
   "execution_count": null,
   "metadata": {},
   "outputs": [],
   "source": [
    "sns.scatterplot(x=og['mean_glucose'], y=og['mean_oxygen'], hue=og['class'], alpha=0.5)"
   ]
  },
  {
   "cell_type": "code",
   "execution_count": null,
   "metadata": {},
   "outputs": [],
   "source": [
    "sns.scatterplot(x=merged_data['mean_glucose'], y=merged_data['mean_oxygen'], hue=merged_data['class'], alpha=0.5)"
   ]
  },
  {
   "cell_type": "code",
   "execution_count": null,
   "metadata": {},
   "outputs": [],
   "source": [
    "sns.scatterplot(x=og['skewness_glucose'], y=og['skewness_oxygen'], hue=og['class'], alpha=0.5)"
   ]
  },
  {
   "cell_type": "code",
   "execution_count": null,
   "metadata": {},
   "outputs": [],
   "source": [
    "sns.scatterplot(x=merged_data['skewness_glucose'], y=merged_data['skewness_oxygen'], hue=merged_data['class'], alpha=0.5)"
   ]
  },
  {
   "cell_type": "code",
   "execution_count": null,
   "metadata": {},
   "outputs": [],
   "source": [
    "sns.scatterplot(x=og['std_glucose'], y=og['std_oxygen'], hue=og['class'], alpha=0.5)"
   ]
  },
  {
   "cell_type": "code",
   "execution_count": null,
   "metadata": {},
   "outputs": [],
   "source": [
    "sns.scatterplot(x=merged_data['std_glucose'], y=merged_data['std_oxygen'], hue=merged_data['class'], alpha=0.5)"
   ]
  },
  {
   "cell_type": "code",
   "execution_count": null,
   "metadata": {},
   "outputs": [],
   "source": [
    "sns.scatterplot(x=og['kurtosis_oxygen'], y=og['std_oxygen'], hue=og['class'], alpha=0.5)"
   ]
  },
  {
   "cell_type": "code",
   "execution_count": null,
   "metadata": {},
   "outputs": [],
   "source": [
    "sns.scatterplot(x=merged_data['kurtosis_oxygen'], y=merged_data['std_oxygen'], hue=merged_data['class'], alpha=0.5)"
   ]
  },
  {
   "cell_type": "markdown",
   "metadata": {},
   "source": [
    "Doslo aj ku jemnym zmenam pri korelaciach jednotlivych hodnot. Avsak nejde o nejake drasticke zmeny, vacsinou o zopar stotin alebo tisicin."
   ]
  },
  {
   "cell_type": "code",
   "execution_count": null,
   "metadata": {},
   "outputs": [],
   "source": [
    "og.corr()"
   ]
  },
  {
   "cell_type": "code",
   "execution_count": null,
   "metadata": {},
   "outputs": [],
   "source": [
    "merged_data.corr()"
   ]
  },
  {
   "cell_type": "code",
   "execution_count": null,
   "metadata": {},
   "outputs": [],
   "source": [
    "fig, ax = plt.subplots(figsize=(10,8))\n",
    "sns.heatmap(og.corr(), ax=ax, annot=True, fmt=\".3f\")"
   ]
  },
  {
   "cell_type": "code",
   "execution_count": null,
   "metadata": {},
   "outputs": [],
   "source": [
    "fig, ax = plt.subplots(figsize=(10,8))\n",
    "sns.heatmap(merged_data.corr(), ax=ax, annot=True, fmt=\".3f\")"
   ]
  }
 ],
 "metadata": {
  "kernelspec": {
   "display_name": "Python 3",
   "language": "python",
   "name": "python3"
  },
  "language_info": {
   "codemirror_mode": {
    "name": "ipython",
    "version": 3
   },
   "file_extension": ".py",
   "mimetype": "text/x-python",
   "name": "python",
   "nbconvert_exporter": "python",
   "pygments_lexer": "ipython3",
   "version": "3.7.3"
  },
  "pycharm": {
   "stem_cell": {
    "cell_type": "raw",
    "metadata": {
     "collapsed": false
    },
    "source": []
   }
  }
 },
 "nbformat": 4,
 "nbformat_minor": 4
}
